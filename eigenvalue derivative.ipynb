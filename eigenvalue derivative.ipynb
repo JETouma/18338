{
 "cells": [
  {
   "cell_type": "markdown",
   "metadata": {},
   "source": [
    "The jacobian of the symmetric matrix eigendecomposition is the vandermonde expression"
   ]
  },
  {
   "cell_type": "code",
   "execution_count": 7,
   "metadata": {},
   "outputs": [],
   "source": [
    "using LinearAlgebra, GenericLinearAlgebra, ForwardDiff"
   ]
  },
  {
   "cell_type": "markdown",
   "metadata": {},
   "source": [
    "$$ dA = \\prod_{i <j} (\\lambda_i - \\lambda_j)(d\\Lambda)^\\wedge(Q'dQ)^\\wedge $$"
   ]
  },
  {
   "cell_type": "code",
   "execution_count": 70,
   "metadata": {},
   "outputs": [],
   "source": [
    "## Grab any nxn symmetric matrix\n",
    "n = 4\n",
    "A = randn(n,n);\n",
    "#A += A'  (not needed, because Hermitian of A will grab the upper triangle anyway)"
   ]
  },
  {
   "cell_type": "code",
   "execution_count": 71,
   "metadata": {},
   "outputs": [],
   "source": [
    "upper = [i≤j for i=1:n, j=1:n][:]  # upper triangular matrix of 1's , then \"vec\"ed\n",
    "Λ, Q =  eigen(Hermitian(A))  # compute the eigendecomposition of A\n",
    "# now perturb A in each of the n^2 directions and obtain the derivative\n",
    "# using automatic differentiation technology\n",
    "dΛ, dQ = (ForwardDiff.jacobian(t -> _eig(Hermitian(t)), A) for _eig=(eigvals, eigvecs))\n",
    "\n",
    "# dΛ is n x n^2 since we have n eigenvalues perturbed in n^2 directions\n",
    "# dQ is n^2 x n^2 because we have n matrices of size nxn corresponding to the eigenvectors\n",
    "# in each of the n^2 directions\n",
    "# and by the way , each column is the \"flattened\" or \"vec'ed\" eigenvector matrix\n",
    "\n",
    "\n",
    "dΛ, dQ = dΛ[:,upper], dQ[:,upper];\n",
    "#dΛ # is n by n(n+1)/2 corresponding to n eigenvalues perturbed on the upper triangle\n",
    "#dQ  # n^2 by n(n+1)/2 corresponding to eigenvectors(nxn matrices flattened) by n(n+1)/2"
   ]
  },
  {
   "cell_type": "code",
   "execution_count": 72,
   "metadata": {},
   "outputs": [],
   "source": [
    "subupper = [i<j for i=1:n, j=1:n][:]\n",
    "dQ = (kron(Matrix(I, size(A)),Q')*dQ)[subupper,:]; #compute Q'*dQ for every vec'd dQ"
   ]
  },
  {
   "cell_type": "code",
   "execution_count": 73,
   "metadata": {},
   "outputs": [
    {
     "data": {
      "text/plain": [
       "(0.004692414134163869, 0.004692414134163915)"
      ]
     },
     "execution_count": 73,
     "metadata": {},
     "output_type": "execute_result"
    }
   ],
   "source": [
    "# Experiment vs Theory\n",
    "det([dΛ;dQ]),1/abs(prod([Λ[i]-Λ[j] for i=1:n, j=1:n if i<j])) # ∂(Λ,Q)/∂A"
   ]
  }
 ],
 "metadata": {
  "@webio": {
   "lastCommId": null,
   "lastKernelId": null
  },
  "kernelspec": {
   "display_name": "Julia 1.5.2",
   "language": "julia",
   "name": "julia-1.5"
  },
  "language_info": {
   "file_extension": ".jl",
   "mimetype": "application/julia",
   "name": "julia",
   "version": "1.5.2"
  }
 },
 "nbformat": 4,
 "nbformat_minor": 4
}
