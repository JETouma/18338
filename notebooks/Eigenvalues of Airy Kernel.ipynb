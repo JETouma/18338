{
 "cells": [
  {
   "cell_type": "markdown",
   "metadata": {},
   "source": [
    "Extracted the key parts from https://github.com/JuliaMath/RandomMatrices.jl/blob/master/src/densities/TracyWidom.jl"
   ]
  },
  {
   "cell_type": "code",
   "execution_count": null,
   "metadata": {},
   "outputs": [],
   "source": [
    "using SpecialFunctions, FastGaussQuadrature, LinearAlgebra"
   ]
  },
  {
   "cell_type": "code",
   "execution_count": null,
   "metadata": {},
   "outputs": [],
   "source": [
    "airy_kernel(x, y) = x==y ? (airyaiprime(x))^2 - x * (airyai(x))^2 :\n",
    "           (airyai(x) * airyaiprime(y) - airyai(y) * airyaiprime(x)) / (x - y)\n",
    "ϕ(ξ, s) =  s + 10*tan(π*(ξ+1)/4) # Transformation from [-1,1] to (s,∞)\n",
    "ϕ′(ξ) = (5π/2)*(sec(π*(ξ+1)/4))^2\n",
    "K(ξ,η,s) = sqrt(ϕ′(ξ) * ϕ′(η)) * airy_kernel(ϕ(ξ,s), ϕ(η,s))"
   ]
  },
  {
   "cell_type": "code",
   "execution_count": null,
   "metadata": {},
   "outputs": [],
   "source": [
    "# Tracy widom at s = -2 using \"det\"\n",
    "n = 100 \n",
    "s = -2\n",
    "\n",
    "function K(s , n=100) \n",
    "    nodes,weights = gausslegendre(n)\n",
    "    Symmetric( K.(nodes',nodes,s) .* (√).(weights) .* (√).(weights'))\n",
    "end\n",
    "det(I -  K(s))"
   ]
  },
  {
   "cell_type": "code",
   "execution_count": null,
   "metadata": {},
   "outputs": [],
   "source": [
    "# Eigenvalues of airy Kernel at s = -2\n",
    "λ = sort(eigvals(K(s)) , rev =true)\n",
    "λ = λ[ λ .> 1e-15]"
   ]
  },
  {
   "cell_type": "code",
   "execution_count": null,
   "metadata": {},
   "outputs": [],
   "source": [
    "prod(1 .- λ)  # product of 1-eigs = det = tracy widom"
   ]
  },
  {
   "cell_type": "code",
   "execution_count": null,
   "metadata": {},
   "outputs": [],
   "source": [
    "nodes,weights = gausslegendre(7)"
   ]
  },
  {
   "cell_type": "code",
   "execution_count": null,
   "metadata": {},
   "outputs": [],
   "source": [
    "n = 10\n",
    "nodes,weights = gausslegendre(n)\n",
    "hcat( [ weights ⋅ (x->x^k).(nodes) for k=0:2*n], [k%2==1 ? 0 : 2/(k+1) for k=0:2*n])"
   ]
  },
  {
   "cell_type": "code",
   "execution_count": null,
   "metadata": {},
   "outputs": [],
   "source": [
    "n = 10\n",
    "d = [0.0 for m =(n):-1:1.0]\n",
    "e = [1/√(4-1/m^2) for m=1:(n-1)]\n",
    "eigvals(SymTridiagonal(d,e))"
   ]
  },
  {
   "cell_type": "code",
   "execution_count": null,
   "metadata": {},
   "outputs": [],
   "source": [
    "2*eigvecs(SymTridiagonal(d,e))[1,:].^2"
   ]
  },
  {
   "cell_type": "code",
   "execution_count": null,
   "metadata": {},
   "outputs": [],
   "source": [
    "n= 1000\n",
    "r = range(-1,stop=1,length=n)\n",
    "V = r.^(0:n-1)'\n",
    "Q, = qr(V)\n",
    "T = Q'*diagm(r)*Q\n",
    "T = SymTridiagonal(diag(T),abs.(diag(T,-1)))\n",
    "round.(T.ev[1:10],digits=3)"
   ]
  },
  {
   "cell_type": "code",
   "execution_count": null,
   "metadata": {},
   "outputs": [],
   "source": [
    "[1/√(4-1/m^2) for m=1:12]"
   ]
  },
  {
   "cell_type": "markdown",
   "metadata": {},
   "source": [
    "## Lanczos on Airy Kernel\n",
    "with reorthognalization, grabbed from Arbenz http://people.inf.ethz.ch/arbenz/ewp/Lnotes/chapter10.pdf"
   ]
  },
  {
   "cell_type": "code",
   "execution_count": null,
   "metadata": {},
   "outputs": [],
   "source": [
    "function(lanczos(s,steps=10,n=50))\n",
    "  A = copy(K(s,n));\n",
    "  nodes,weights = gausslegendre(n)\n",
    "  q = fill(1.0,n).*(√).(weights)\n",
    "  q = normalize(q)\n",
    "  Q = q\n",
    "  r =  A * q\n",
    "  α =  q ⋅ r\n",
    "  r -= α * q\n",
    "  β = norm(r)\n",
    "  α_list,β_list = [α],[β]\n",
    "\n",
    "  for j = 2:steps \n",
    "    v = q\n",
    "    q = r / β  \n",
    "    Q = [Q q]\n",
    "    r = A * q - β*v\n",
    "    α = q ⋅ r \n",
    "    r -= α * q \n",
    "    r -= Q*Q'r  # explicit reorthogonalization\n",
    "    β = norm(r)  \n",
    "    append!(α_list,α),append!(β_list,β)\n",
    "  end\n",
    "  T = SymTridiagonal(α_list, β_list[1:steps-1])\n",
    "end"
   ]
  },
  {
   "cell_type": "code",
   "execution_count": null,
   "metadata": {},
   "outputs": [],
   "source": [
    "s = -2.0\n",
    "det(I-lanczos(s)), det(I-K(s))"
   ]
  },
  {
   "cell_type": "code",
   "execution_count": null,
   "metadata": {},
   "outputs": [],
   "source": [
    "using Plots"
   ]
  },
  {
   "cell_type": "code",
   "execution_count": null,
   "metadata": {},
   "outputs": [],
   "source": [
    "s = -5:.1:1\n",
    "y1 = [det(I-lanczos(x,steps=1)) for x in s]\n",
    "y2 = [det(I-lanczos(x,steps=2)) for x in s]\n",
    "y3 = [det(I-lanczos(x,steps=3)) for x in s]\n",
    "y4 = [det(I-lanczos(x,steps=4)) for x in s]\n",
    "plot(s,[y1 y2 y3 y4])"
   ]
  },
  {
   "cell_type": "code",
   "execution_count": null,
   "metadata": {},
   "outputs": [],
   "source": []
  }
 ],
 "metadata": {
  "@webio": {
   "lastCommId": null,
   "lastKernelId": null
  },
  "kernelspec": {
   "display_name": "Julia 1.2.0",
   "language": "julia",
   "name": "julia-1.2"
  },
  "language_info": {
   "file_extension": ".jl",
   "mimetype": "application/julia",
   "name": "julia",
   "version": "1.2.0"
  }
 },
 "nbformat": 4,
 "nbformat_minor": 2
}
