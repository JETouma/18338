{
 "cells": [
  {
   "cell_type": "markdown",
   "metadata": {},
   "source": [
    "Extracted the key parts from https://github.com/JuliaMath/RandomMatrices.jl/blob/master/src/densities/TracyWidom.jl"
   ]
  },
  {
   "cell_type": "code",
   "execution_count": 16,
   "metadata": {},
   "outputs": [],
   "source": [
    "using SpecialFunctions, FastGaussQuadrature, LinearAlgebra"
   ]
  },
  {
   "cell_type": "code",
   "execution_count": 17,
   "metadata": {},
   "outputs": [
    {
     "data": {
      "text/plain": [
       "K (generic function with 3 methods)"
      ]
     },
     "execution_count": 17,
     "metadata": {},
     "output_type": "execute_result"
    }
   ],
   "source": [
    "airy_kernel(x, y) = x==y ? (airyaiprime(x))^2 - x * (airyai(x))^2 :\n",
    "           (airyai(x) * airyaiprime(y) - airyai(y) * airyaiprime(x)) / (x - y)\n",
    "ϕ(ξ, s) =  s + 10*tan(π*(ξ+1)/4) # Transformation from [-1,1] to (s,∞)\n",
    "ϕ′(ξ) = (5π/2)*(sec(π*(ξ+1)/4))^2\n",
    "K(ξ,η,s) = sqrt(ϕ′(ξ) * ϕ′(η)) * airy_kernel(ϕ(ξ,s), ϕ(η,s))"
   ]
  },
  {
   "cell_type": "code",
   "execution_count": 18,
   "metadata": {},
   "outputs": [
    {
     "data": {
      "text/plain": [
       "0.4132241425051224"
      ]
     },
     "execution_count": 18,
     "metadata": {},
     "output_type": "execute_result"
    }
   ],
   "source": [
    "# Tracy widom at s = -2 using \"det\"\n",
    "n = 100 \n",
    "s = -2\n",
    "\n",
    "function K(s , n=100) \n",
    "    nodes,weights = gausslegendre(n)\n",
    "    Symmetric( K.(nodes',nodes,s) .* (√).(weights) .* (√).(weights'))\n",
    "end\n",
    "det(I -  K(s))"
   ]
  },
  {
   "cell_type": "code",
   "execution_count": 19,
   "metadata": {},
   "outputs": [
    {
     "data": {
      "text/plain": [
       "7-element Array{Float64,1}:\n",
       " 0.5765544712213151    \n",
       " 0.023947900315389396  \n",
       " 0.00019436102447910228\n",
       " 1.0231068630369925e-6 \n",
       " 4.400191076272687e-9  \n",
       " 1.669643670556442e-11 \n",
       " 5.813520698657187e-14 "
      ]
     },
     "execution_count": 19,
     "metadata": {},
     "output_type": "execute_result"
    }
   ],
   "source": [
    "# Eigenvalues of airy Kernel at s = -2\n",
    "λ = sort(eigvals(K(s)) , rev =true)\n",
    "λ = λ[ λ .> 1e-15]"
   ]
  },
  {
   "cell_type": "code",
   "execution_count": 20,
   "metadata": {},
   "outputs": [
    {
     "data": {
      "text/plain": [
       "0.4132241425051226"
      ]
     },
     "execution_count": 20,
     "metadata": {},
     "output_type": "execute_result"
    }
   ],
   "source": [
    "prod(1 .- λ)  # product of 1-eigs = det = tracy widom"
   ]
  },
  {
   "cell_type": "code",
   "execution_count": 21,
   "metadata": {},
   "outputs": [
    {
     "data": {
      "text/plain": [
       "([-0.9491079123427585, -0.7415311855993945, -0.40584515137739713, 0.0, 0.40584515137739713, 0.7415311855993945, 0.9491079123427585], [0.12948496616886973, 0.2797053914892766, 0.3818300505051189, 0.4179591836734694, 0.3818300505051189, 0.2797053914892766, 0.12948496616886973])"
      ]
     },
     "execution_count": 21,
     "metadata": {},
     "output_type": "execute_result"
    }
   ],
   "source": [
    "nodes,weights = gausslegendre(7)"
   ]
  },
  {
   "cell_type": "code",
   "execution_count": 22,
   "metadata": {},
   "outputs": [
    {
     "data": {
      "text/plain": [
       "21×2 Array{Real,2}:\n",
       "  2.0          2.0      \n",
       " -4.16334e-17  0        \n",
       "  0.666667     0.666667 \n",
       " -1.38778e-17  0        \n",
       "  0.4          0.4      \n",
       "  0.0          0        \n",
       "  0.285714     0.285714 \n",
       "  1.38778e-17  0        \n",
       "  0.222222     0.222222 \n",
       "  0.0          0        \n",
       "  0.181818     0.181818 \n",
       " -6.93889e-18  0        \n",
       "  0.153846     0.153846 \n",
       "  0.0          0        \n",
       "  0.133333     0.133333 \n",
       "  0.0          0        \n",
       "  0.117647     0.117647 \n",
       "  6.93889e-18  0        \n",
       "  0.105263     0.105263 \n",
       "  0.0          0        \n",
       "  0.0952352    0.0952381"
      ]
     },
     "execution_count": 22,
     "metadata": {},
     "output_type": "execute_result"
    }
   ],
   "source": [
    "n = 10\n",
    "nodes,weights = gausslegendre(n)\n",
    "hcat( [ weights ⋅ (x->x^k).(nodes) for k=0:2*n], [k%2==1 ? 0 : 2/(k+1) for k=0:2*n])"
   ]
  },
  {
   "cell_type": "code",
   "execution_count": 23,
   "metadata": {},
   "outputs": [
    {
     "data": {
      "text/plain": [
       "10-element Array{Float64,1}:\n",
       " -0.9739065285171714 \n",
       " -0.8650633666889843 \n",
       " -0.6794095682990245 \n",
       " -0.4333953941292471 \n",
       " -0.1488743389816315 \n",
       "  0.14887433898163172\n",
       "  0.43339539412924716\n",
       "  0.6794095682990244 \n",
       "  0.8650633666889842 \n",
       "  0.9739065285171716 "
      ]
     },
     "execution_count": 23,
     "metadata": {},
     "output_type": "execute_result"
    }
   ],
   "source": [
    "n = 10\n",
    "d = [0.0 for m =(n):-1:1.0]\n",
    "e = [1/√(4-1/m^2) for m=1:(n-1)]\n",
    "eigvals(SymTridiagonal(d,e))"
   ]
  },
  {
   "cell_type": "code",
   "execution_count": 24,
   "metadata": {},
   "outputs": [
    {
     "data": {
      "text/plain": [
       "10-element Array{Float64,1}:\n",
       " 0.06667134430868694\n",
       " 0.1494513491505832 \n",
       " 0.2190863625159837 \n",
       " 0.2692667193099952 \n",
       " 0.2955242247147499 \n",
       " 0.29552422471475276\n",
       " 0.2692667193099954 \n",
       " 0.21908636251598348\n",
       " 0.14945134915058125\n",
       " 0.06667134430868796"
      ]
     },
     "execution_count": 24,
     "metadata": {},
     "output_type": "execute_result"
    }
   ],
   "source": [
    "2*eigvecs(SymTridiagonal(d,e))[1,:].^2"
   ]
  },
  {
   "cell_type": "code",
   "execution_count": 25,
   "metadata": {},
   "outputs": [
    {
     "data": {
      "text/plain": [
       "10-element Array{Float64,1}:\n",
       " 0.578\n",
       " 0.517\n",
       " 0.508\n",
       " 0.504\n",
       " 0.503\n",
       " 0.502\n",
       " 0.502\n",
       " 0.501\n",
       " 0.501\n",
       " 0.501"
      ]
     },
     "execution_count": 25,
     "metadata": {},
     "output_type": "execute_result"
    }
   ],
   "source": [
    "n= 1000\n",
    "r = range(-1,stop=1,length=n)\n",
    "V = r.^(0:n-1)'\n",
    "Q, = qr(V)\n",
    "T = Q'*diagm(r)*Q\n",
    "T = SymTridiagonal(diag(T),abs.(diag(T,-1)))\n",
    "round.(T.ev[1:10],digits=3)"
   ]
  },
  {
   "cell_type": "code",
   "execution_count": 26,
   "metadata": {},
   "outputs": [
    {
     "data": {
      "text/plain": [
       "12-element Array{Float64,1}:\n",
       " 0.5773502691896258\n",
       " 0.5163977794943222\n",
       " 0.50709255283711  \n",
       " 0.5039526306789696\n",
       " 0.502518907629606 \n",
       " 0.5017452060042544\n",
       " 0.501280411827603 \n",
       " 0.5009794328681196\n",
       " 0.5007733956671915\n",
       " 0.5006261743217588\n",
       " 0.5005173307126191\n",
       " 0.5004345937369794"
      ]
     },
     "execution_count": 26,
     "metadata": {},
     "output_type": "execute_result"
    }
   ],
   "source": [
    "[1/√(4-1/m^2) for m=1:12]"
   ]
  },
  {
   "cell_type": "markdown",
   "metadata": {},
   "source": [
    "## Lanczos on Airy Kernel\n",
    "with reorthognalization, grabbed from Arbenz http://people.inf.ethz.ch/arbenz/ewp/Lnotes/chapter10.pdf"
   ]
  },
  {
   "cell_type": "code",
   "execution_count": 27,
   "metadata": {},
   "outputs": [
    {
     "data": {
      "text/plain": [
       "lanczos (generic function with 3 methods)"
      ]
     },
     "execution_count": 27,
     "metadata": {},
     "output_type": "execute_result"
    }
   ],
   "source": [
    "function(lanczos(s,steps=10,n=50))\n",
    "  A = copy(K(s,n));\n",
    "  nodes,weights = gausslegendre(n)\n",
    "  q = fill(1.0,n).*(√).(weights)\n",
    "  q = normalize(q)\n",
    "  Q = q\n",
    "  r =  A * q\n",
    "  α =  q ⋅ r\n",
    "  r -= α * q\n",
    "  β = norm(r)\n",
    "  α_list,β_list = [α],[β]\n",
    "\n",
    "  for j = 2:steps \n",
    "    v = q\n",
    "    q = r / β  \n",
    "    Q = [Q q]\n",
    "    r = A * q - β*v\n",
    "    α = q ⋅ r \n",
    "    r -= α * q \n",
    "    r -= Q*Q'r  # explicit reorthogonalization\n",
    "    β = norm(r)  \n",
    "    append!(α_list,α),append!(β_list,β)\n",
    "  end\n",
    "  T = SymTridiagonal(α_list, β_list[1:steps-1])\n",
    "end"
   ]
  },
  {
   "cell_type": "code",
   "execution_count": 28,
   "metadata": {},
   "outputs": [
    {
     "data": {
      "text/plain": [
       "(0.4132241425051217, 0.4132241425051224)"
      ]
     },
     "execution_count": 28,
     "metadata": {},
     "output_type": "execute_result"
    }
   ],
   "source": [
    "s = -2.0\n",
    "det(I-lanczos(s)), det(I-K(s))"
   ]
  },
  {
   "cell_type": "code",
   "execution_count": 29,
   "metadata": {},
   "outputs": [],
   "source": [
    "using Plots"
   ]
  },
  {
   "cell_type": "code",
   "execution_count": 30,
   "metadata": {},
   "outputs": [
    {
     "ename": "ErrorException",
     "evalue": "function lanczos does not accept keyword arguments",
     "output_type": "error",
     "traceback": [
      "function lanczos does not accept keyword arguments",
      "",
      "Stacktrace:",
      " [1] kwfunc(::Any) at ./boot.jl:332",
      " [2] (::getfield(Main, Symbol(\"##29#30\")))(::Float64) at ./none:0",
      " [3] iterate at ./generator.jl:47 [inlined]",
      " [4] collect(::Base.Generator{StepRangeLen{Float64,Base.TwicePrecision{Float64},Base.TwicePrecision{Float64}},getfield(Main, Symbol(\"##29#30\"))}) at ./array.jl:606",
      " [5] top-level scope at In[30]:2"
     ]
    }
   ],
   "source": [
    "s = -5:.1:1\n",
    "y1 = [det(I-lanczos(x,1)) for x in s]\n",
    "y2 = [det(I-lanczos(x,2)) for x in s]\n",
    "y3 = [det(I-lanczos(x,3)) for x in s]\n",
    "y4 = [det(I-lanczos(x,steps=4)) for x in s]\n",
    "plot(s,[y1 y2 y3 y4])"
   ]
  },
  {
   "cell_type": "code",
   "execution_count": null,
   "metadata": {},
   "outputs": [],
   "source": []
  }
 ],
 "metadata": {
  "@webio": {
   "lastCommId": null,
   "lastKernelId": null
  },
  "kernelspec": {
   "display_name": "Julia 1.2.0",
   "language": "julia",
   "name": "julia-1.2"
  },
  "language_info": {
   "file_extension": ".jl",
   "mimetype": "application/julia",
   "name": "julia",
   "version": "1.2.0"
  }
 },
 "nbformat": 4,
 "nbformat_minor": 2
}
