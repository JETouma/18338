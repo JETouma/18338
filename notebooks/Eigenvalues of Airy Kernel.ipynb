{
 "cells": [
  {
   "cell_type": "markdown",
   "metadata": {},
   "source": [
    "Extracted the key parts from https://github.com/JuliaMath/RandomMatrices.jl/blob/master/src/densities/TracyWidom.jl"
   ]
  },
  {
   "cell_type": "code",
   "execution_count": 34,
   "metadata": {},
   "outputs": [],
   "source": [
    "using SpecialFunctions, FastGaussQuadrature, LinearAlgebra"
   ]
  },
  {
   "cell_type": "code",
   "execution_count": 35,
   "metadata": {},
   "outputs": [
    {
     "data": {
      "text/plain": [
       "K (generic function with 1 method)"
      ]
     },
     "execution_count": 35,
     "metadata": {},
     "output_type": "execute_result"
    }
   ],
   "source": [
    "airy_kernel(x, y) = x==y ? (airyaiprime(x))^2 - x * (airyai(x))^2 :\n",
    "           (airyai(x) * airyaiprime(y) - airyai(y) * airyaiprime(x)) / (x - y)\n",
    "ϕ(ξ, s) =  s + 10*tan(π*(ξ+1)/4) # Transformation from [-1,1] to (s,∞)\n",
    "ϕ′(ξ) = (5π/2)*(sec(π*(ξ+1)/4))^2\n",
    "K(ξ,η,s) = sqrt(ϕ′(ξ) * ϕ′(η)) * airy_kernel(ϕ(ξ,s), ϕ(η,s))"
   ]
  },
  {
   "cell_type": "code",
   "execution_count": 36,
   "metadata": {},
   "outputs": [
    {
     "data": {
      "text/plain": [
       "0.41322414250512246"
      ]
     },
     "execution_count": 36,
     "metadata": {},
     "output_type": "execute_result"
    }
   ],
   "source": [
    "# Tracy widom at s = -2 using \"det\"\n",
    "n = 100 \n",
    "s = -2\n",
    "nodes,weights = gausslegendre(n)\n",
    "det(I - (K.(nodes',nodes,s)) .* (√).(weights) .* (√).(weights'))"
   ]
  },
  {
   "cell_type": "code",
   "execution_count": 27,
   "metadata": {},
   "outputs": [
    {
     "data": {
      "text/plain": [
       "7-element Array{Float64,1}:\n",
       " 0.5765544712213151    \n",
       " 0.023947900315389396  \n",
       " 0.00019436102447910228\n",
       " 1.0231068630369925e-6 \n",
       " 4.400191076272687e-9  \n",
       " 1.669643670556442e-11 \n",
       " 5.813520698657187e-14 "
      ]
     },
     "execution_count": 27,
     "metadata": {},
     "output_type": "execute_result"
    }
   ],
   "source": [
    "# Eigenvalues of airy Kernel at s = -2\n",
    "λ = sort(eigvals(Symmetric(K.(nodes',nodes,s) .* (√).(weights) .* (√).(weights'))  ) , rev =true)\n",
    "λ = λ[ λ .> 1e-15]"
   ]
  },
  {
   "cell_type": "code",
   "execution_count": 28,
   "metadata": {},
   "outputs": [
    {
     "data": {
      "text/plain": [
       "0.4132241425051226"
      ]
     },
     "execution_count": 28,
     "metadata": {},
     "output_type": "execute_result"
    }
   ],
   "source": [
    "prod(1 .- λ)  # product of 1-eigs = det = tracy widom"
   ]
  },
  {
   "cell_type": "code",
   "execution_count": 37,
   "metadata": {},
   "outputs": [
    {
     "data": {
      "text/plain": [
       "0.4132347796070696"
      ]
     },
     "execution_count": 37,
     "metadata": {},
     "output_type": "execute_result"
    }
   ],
   "source": [
    "A = Symmetric(K.(nodes',nodes,s) .* (√).(weights) .* (√).(weights'))\n",
    "det(I - A[1:35,1:35])"
   ]
  },
  {
   "cell_type": "code",
   "execution_count": 49,
   "metadata": {},
   "outputs": [
    {
     "data": {
      "image/svg+xml": [
       "<?xml version=\"1.0\" encoding=\"utf-8\"?>\n",
       "<svg xmlns=\"http://www.w3.org/2000/svg\" xmlns:xlink=\"http://www.w3.org/1999/xlink\" width=\"600\" height=\"400\" viewBox=\"0 0 2400 1600\">\n",
       "<defs>\n",
       "  <clipPath id=\"clip0500\">\n",
       "    <rect x=\"0\" y=\"0\" width=\"2400\" height=\"1600\"/>\n",
       "  </clipPath>\n",
       "</defs>\n",
       "<polygon clip-path=\"url(#clip0500)\" points=\"\n",
       "0,1600 2400,1600 2400,0 0,0 \n",
       "  \" fill=\"#ffffff\" fill-rule=\"evenodd\" fill-opacity=\"1\"/>\n",
       "<defs>\n",
       "  <clipPath id=\"clip0501\">\n",
       "    <rect x=\"480\" y=\"0\" width=\"1681\" height=\"1600\"/>\n",
       "  </clipPath>\n",
       "</defs>\n",
       "<polygon clip-path=\"url(#clip0500)\" points=\"\n",
       "182.008,1487.47 2352.76,1487.47 2352.76,47.2441 182.008,47.2441 \n",
       "  \" fill=\"#ffffff\" fill-rule=\"evenodd\" fill-opacity=\"1\"/>\n",
       "<defs>\n",
       "  <clipPath id=\"clip0502\">\n",
       "    <rect x=\"182\" y=\"47\" width=\"2172\" height=\"1441\"/>\n",
       "  </clipPath>\n",
       "</defs>\n",
       "<polyline clip-path=\"url(#clip0502)\" style=\"stroke:#000000; stroke-width:2; stroke-opacity:0.1; fill:none\" points=\"\n",
       "  182.008,1487.47 182.008,47.2441 \n",
       "  \"/>\n",
       "<polyline clip-path=\"url(#clip0502)\" style=\"stroke:#000000; stroke-width:2; stroke-opacity:0.1; fill:none\" points=\"\n",
       "  583.998,1487.47 583.998,47.2441 \n",
       "  \"/>\n",
       "<polyline clip-path=\"url(#clip0502)\" style=\"stroke:#000000; stroke-width:2; stroke-opacity:0.1; fill:none\" points=\"\n",
       "  985.989,1487.47 985.989,47.2441 \n",
       "  \"/>\n",
       "<polyline clip-path=\"url(#clip0502)\" style=\"stroke:#000000; stroke-width:2; stroke-opacity:0.1; fill:none\" points=\"\n",
       "  1387.98,1487.47 1387.98,47.2441 \n",
       "  \"/>\n",
       "<polyline clip-path=\"url(#clip0502)\" style=\"stroke:#000000; stroke-width:2; stroke-opacity:0.1; fill:none\" points=\"\n",
       "  1789.97,1487.47 1789.97,47.2441 \n",
       "  \"/>\n",
       "<polyline clip-path=\"url(#clip0502)\" style=\"stroke:#000000; stroke-width:2; stroke-opacity:0.1; fill:none\" points=\"\n",
       "  2191.96,1487.47 2191.96,47.2441 \n",
       "  \"/>\n",
       "<polyline clip-path=\"url(#clip0502)\" style=\"stroke:#000000; stroke-width:2; stroke-opacity:0.1; fill:none\" points=\"\n",
       "  182.008,1317.61 2352.76,1317.61 \n",
       "  \"/>\n",
       "<polyline clip-path=\"url(#clip0502)\" style=\"stroke:#000000; stroke-width:2; stroke-opacity:0.1; fill:none\" points=\"\n",
       "  182.008,1047.75 2352.76,1047.75 \n",
       "  \"/>\n",
       "<polyline clip-path=\"url(#clip0502)\" style=\"stroke:#000000; stroke-width:2; stroke-opacity:0.1; fill:none\" points=\"\n",
       "  182.008,777.894 2352.76,777.894 \n",
       "  \"/>\n",
       "<polyline clip-path=\"url(#clip0502)\" style=\"stroke:#000000; stroke-width:2; stroke-opacity:0.1; fill:none\" points=\"\n",
       "  182.008,508.034 2352.76,508.034 \n",
       "  \"/>\n",
       "<polyline clip-path=\"url(#clip0502)\" style=\"stroke:#000000; stroke-width:2; stroke-opacity:0.1; fill:none\" points=\"\n",
       "  182.008,238.174 2352.76,238.174 \n",
       "  \"/>\n",
       "<polyline clip-path=\"url(#clip0500)\" style=\"stroke:#000000; stroke-width:4; stroke-opacity:1; fill:none\" points=\"\n",
       "  182.008,1487.47 2352.76,1487.47 \n",
       "  \"/>\n",
       "<polyline clip-path=\"url(#clip0500)\" style=\"stroke:#000000; stroke-width:4; stroke-opacity:1; fill:none\" points=\"\n",
       "  182.008,1487.47 182.008,47.2441 \n",
       "  \"/>\n",
       "<polyline clip-path=\"url(#clip0500)\" style=\"stroke:#000000; stroke-width:4; stroke-opacity:1; fill:none\" points=\"\n",
       "  182.008,1487.47 182.008,1465.87 \n",
       "  \"/>\n",
       "<polyline clip-path=\"url(#clip0500)\" style=\"stroke:#000000; stroke-width:4; stroke-opacity:1; fill:none\" points=\"\n",
       "  583.998,1487.47 583.998,1465.87 \n",
       "  \"/>\n",
       "<polyline clip-path=\"url(#clip0500)\" style=\"stroke:#000000; stroke-width:4; stroke-opacity:1; fill:none\" points=\"\n",
       "  985.989,1487.47 985.989,1465.87 \n",
       "  \"/>\n",
       "<polyline clip-path=\"url(#clip0500)\" style=\"stroke:#000000; stroke-width:4; stroke-opacity:1; fill:none\" points=\"\n",
       "  1387.98,1487.47 1387.98,1465.87 \n",
       "  \"/>\n",
       "<polyline clip-path=\"url(#clip0500)\" style=\"stroke:#000000; stroke-width:4; stroke-opacity:1; fill:none\" points=\"\n",
       "  1789.97,1487.47 1789.97,1465.87 \n",
       "  \"/>\n",
       "<polyline clip-path=\"url(#clip0500)\" style=\"stroke:#000000; stroke-width:4; stroke-opacity:1; fill:none\" points=\"\n",
       "  2191.96,1487.47 2191.96,1465.87 \n",
       "  \"/>\n",
       "<polyline clip-path=\"url(#clip0500)\" style=\"stroke:#000000; stroke-width:4; stroke-opacity:1; fill:none\" points=\"\n",
       "  182.008,1317.61 214.569,1317.61 \n",
       "  \"/>\n",
       "<polyline clip-path=\"url(#clip0500)\" style=\"stroke:#000000; stroke-width:4; stroke-opacity:1; fill:none\" points=\"\n",
       "  182.008,1047.75 214.569,1047.75 \n",
       "  \"/>\n",
       "<polyline clip-path=\"url(#clip0500)\" style=\"stroke:#000000; stroke-width:4; stroke-opacity:1; fill:none\" points=\"\n",
       "  182.008,777.894 214.569,777.894 \n",
       "  \"/>\n",
       "<polyline clip-path=\"url(#clip0500)\" style=\"stroke:#000000; stroke-width:4; stroke-opacity:1; fill:none\" points=\"\n",
       "  182.008,508.034 214.569,508.034 \n",
       "  \"/>\n",
       "<polyline clip-path=\"url(#clip0500)\" style=\"stroke:#000000; stroke-width:4; stroke-opacity:1; fill:none\" points=\"\n",
       "  182.008,238.174 214.569,238.174 \n",
       "  \"/>\n",
       "<g clip-path=\"url(#clip0500)\">\n",
       "<text style=\"fill:#000000; fill-opacity:1; font-family:Arial,Helvetica Neue,Helvetica,sans-serif; font-size:48px; text-anchor:middle;\" transform=\"rotate(0, 182.008, 1541.47)\" x=\"182.008\" y=\"1541.47\">0</text>\n",
       "</g>\n",
       "<g clip-path=\"url(#clip0500)\">\n",
       "<text style=\"fill:#000000; fill-opacity:1; font-family:Arial,Helvetica Neue,Helvetica,sans-serif; font-size:48px; text-anchor:middle;\" transform=\"rotate(0, 583.998, 1541.47)\" x=\"583.998\" y=\"1541.47\">5</text>\n",
       "</g>\n",
       "<g clip-path=\"url(#clip0500)\">\n",
       "<text style=\"fill:#000000; fill-opacity:1; font-family:Arial,Helvetica Neue,Helvetica,sans-serif; font-size:48px; text-anchor:middle;\" transform=\"rotate(0, 985.989, 1541.47)\" x=\"985.989\" y=\"1541.47\">10</text>\n",
       "</g>\n",
       "<g clip-path=\"url(#clip0500)\">\n",
       "<text style=\"fill:#000000; fill-opacity:1; font-family:Arial,Helvetica Neue,Helvetica,sans-serif; font-size:48px; text-anchor:middle;\" transform=\"rotate(0, 1387.98, 1541.47)\" x=\"1387.98\" y=\"1541.47\">15</text>\n",
       "</g>\n",
       "<g clip-path=\"url(#clip0500)\">\n",
       "<text style=\"fill:#000000; fill-opacity:1; font-family:Arial,Helvetica Neue,Helvetica,sans-serif; font-size:48px; text-anchor:middle;\" transform=\"rotate(0, 1789.97, 1541.47)\" x=\"1789.97\" y=\"1541.47\">20</text>\n",
       "</g>\n",
       "<g clip-path=\"url(#clip0500)\">\n",
       "<text style=\"fill:#000000; fill-opacity:1; font-family:Arial,Helvetica Neue,Helvetica,sans-serif; font-size:48px; text-anchor:middle;\" transform=\"rotate(0, 2191.96, 1541.47)\" x=\"2191.96\" y=\"1541.47\">25</text>\n",
       "</g>\n",
       "<g clip-path=\"url(#clip0500)\">\n",
       "<text style=\"fill:#000000; fill-opacity:1; font-family:Arial,Helvetica Neue,Helvetica,sans-serif; font-size:48px; text-anchor:end;\" transform=\"rotate(0, 158.008, 1335.11)\" x=\"158.008\" y=\"1335.11\">-0.2</text>\n",
       "</g>\n",
       "<g clip-path=\"url(#clip0500)\">\n",
       "<text style=\"fill:#000000; fill-opacity:1; font-family:Arial,Helvetica Neue,Helvetica,sans-serif; font-size:48px; text-anchor:end;\" transform=\"rotate(0, 158.008, 1065.25)\" x=\"158.008\" y=\"1065.25\">-0.1</text>\n",
       "</g>\n",
       "<g clip-path=\"url(#clip0500)\">\n",
       "<text style=\"fill:#000000; fill-opacity:1; font-family:Arial,Helvetica Neue,Helvetica,sans-serif; font-size:48px; text-anchor:end;\" transform=\"rotate(0, 158.008, 795.394)\" x=\"158.008\" y=\"795.394\">0.0</text>\n",
       "</g>\n",
       "<g clip-path=\"url(#clip0500)\">\n",
       "<text style=\"fill:#000000; fill-opacity:1; font-family:Arial,Helvetica Neue,Helvetica,sans-serif; font-size:48px; text-anchor:end;\" transform=\"rotate(0, 158.008, 525.534)\" x=\"158.008\" y=\"525.534\">0.1</text>\n",
       "</g>\n",
       "<g clip-path=\"url(#clip0500)\">\n",
       "<text style=\"fill:#000000; fill-opacity:1; font-family:Arial,Helvetica Neue,Helvetica,sans-serif; font-size:48px; text-anchor:end;\" transform=\"rotate(0, 158.008, 255.674)\" x=\"158.008\" y=\"255.674\">0.2</text>\n",
       "</g>\n",
       "<polyline clip-path=\"url(#clip0502)\" style=\"stroke:#009af9; stroke-width:4; stroke-opacity:1; fill:none\" points=\"\n",
       "  262.406,601.463 342.804,508.271 423.202,439.006 503.6,380.816 583.998,329.417 664.396,282.981 744.795,240.773 825.193,202.668 905.591,168.933 985.989,140.093 \n",
       "  1066.39,116.837 1146.78,99.9217 1227.18,90.0951 1307.58,88.0053 1387.98,94.1223 1468.38,108.666 1548.78,131.549 1629.17,162.344 1709.57,200.274 1789.97,244.235 \n",
       "  1870.37,292.849 1950.77,344.537 2031.16,397.625 2111.56,450.446 2191.96,501.445 2272.36,549.279 2352.76,592.887 2433.15,631.536 2513.55,664.831 2593.95,692.704 \n",
       "  2674.35,715.365 2754.75,733.244 2835.14,746.923 2915.54,757.058 2995.94,764.322 3076.34,769.35 3156.74,772.707 3237.13,774.864 3317.53,776.195 3397.93,776.982 \n",
       "  3478.33,777.427 3558.73,777.666 3639.12,777.789 3719.52,777.848 3799.92,777.875 3880.32,777.886 3960.72,777.891 4041.12,777.893 4121.51,777.893 4201.91,777.893 \n",
       "  4282.31,777.894 4362.71,777.894 4443.11,777.894 4523.5,777.894 4603.9,777.894 4684.3,777.894 4764.7,777.894 4845.1,777.894 4925.49,777.894 5005.89,777.894 \n",
       "  5086.29,777.894 5166.69,777.894 5247.09,777.894 5327.48,777.894 5407.88,777.894 5488.28,777.894 5568.68,777.894 5649.08,777.894 5729.47,777.894 5809.87,777.894 \n",
       "  5890.27,777.894 5970.67,777.894 6051.07,777.894 6131.47,777.894 6211.86,777.894 6292.26,777.894 6372.66,777.894 6453.06,777.894 6533.46,777.894 6613.85,777.894 \n",
       "  6694.25,777.894 6774.65,777.894 6855.05,777.894 6935.45,777.894 7015.84,777.894 7096.24,777.894 7176.64,777.894 7257.04,777.894 7337.44,777.894 7417.83,777.894 \n",
       "  7498.23,777.894 7578.63,777.894 7659.03,777.894 7739.43,777.894 7819.82,777.894 7900.22,777.894 7980.62,777.894 8061.02,777.894 8141.42,777.894 8221.81,777.894 \n",
       "  \n",
       "  \"/>\n",
       "<polyline clip-path=\"url(#clip0502)\" style=\"stroke:#e26f46; stroke-width:4; stroke-opacity:1; fill:none\" points=\"\n",
       "  262.406,459.409 342.804,300.691 423.202,199.243 503.6,134.753 583.998,101.247 664.396,96.1651 744.795,117.879 825.193,164.798 905.591,234.947 985.989,325.733 \n",
       "  1066.39,433.837 1146.78,555.196 1227.18,685.071 1307.58,818.206 1387.98,949.063 1468.38,1072.12 1548.78,1182.22 1629.17,1274.91 1709.57,1346.73 1789.97,1395.53 \n",
       "  1870.37,1420.56 1950.77,1422.51 2031.16,1403.42 2111.56,1366.44 2191.96,1315.56 2272.36,1255.16 2352.76,1189.67 2433.15,1123.21 2513.55,1059.28 2593.95,1000.58 \n",
       "  2674.35,948.937 2754.75,905.284 2835.14,869.796 2915.54,842.033 2995.94,821.135 3076.34,806.009 3156.74,795.49 3237.13,788.473 3317.53,783.989 3397.93,781.251 \n",
       "  3478.33,779.656 3558.73,778.772 3639.12,778.308 3719.52,778.078 3799.92,777.97 3880.32,777.924 3960.72,777.904 4041.12,777.897 4121.51,777.895 4201.91,777.894 \n",
       "  4282.31,777.894 4362.71,777.894 4443.11,777.894 4523.5,777.894 4603.9,777.894 4684.3,777.894 4764.7,777.894 4845.1,777.894 4925.49,777.894 5005.89,777.894 \n",
       "  5086.29,777.894 5166.69,777.894 5247.09,777.894 5327.48,777.894 5407.88,777.894 5488.28,777.894 5568.68,777.894 5649.08,777.894 5729.47,777.894 5809.87,777.894 \n",
       "  5890.27,777.894 5970.67,777.894 6051.07,777.894 6131.47,777.894 6211.86,777.894 6292.26,777.894 6372.66,777.894 6453.06,777.894 6533.46,777.894 6613.85,777.894 \n",
       "  6694.25,777.894 6774.65,777.894 6855.05,777.894 6935.45,777.894 7015.84,777.894 7096.24,777.894 7176.64,777.894 7257.04,777.894 7337.44,777.894 7417.83,777.894 \n",
       "  7498.23,777.894 7578.63,777.894 7659.03,777.894 7739.43,777.894 7819.82,777.894 7900.22,777.894 7980.62,777.894 8061.02,777.894 8141.42,777.894 8221.81,777.894 \n",
       "  \n",
       "  \"/>\n",
       "<polyline clip-path=\"url(#clip0502)\" style=\"stroke:#3da44d; stroke-width:4; stroke-opacity:1; fill:none\" points=\"\n",
       "  262.406,1145.03 342.804,1312.46 423.202,1392.03 503.6,1405.22 583.998,1360.55 664.396,1265.88 744.795,1130.83 825.193,967.204 905.591,788.636 985.989,609.836 \n",
       "  1066.39,445.581 1146.78,309.566 1227.18,213.246 1307.58,164.792 1387.98,168.295 1468.38,223.332 1548.78,324.974 1629.17,464.261 1709.57,629.12 1789.97,805.624 \n",
       "  1870.37,979.443 1950.77,1137.32 2031.16,1268.35 2111.56,1364.96 2191.96,1423.41 2272.36,1443.8 2352.76,1429.65 2433.15,1387.08 2513.55,1323.78 2593.95,1247.98 \n",
       "  2674.35,1167.43 2754.75,1088.69 2835.14,1016.68 2915.54,954.486 2995.94,903.51 3076.34,863.748 3156.74,834.195 3237.13,813.259 3317.53,799.128 3397.93,790.053 \n",
       "  3478.33,784.516 3558.73,781.313 3639.12,779.562 3719.52,778.66 3799.92,778.223 3880.32,778.026 3960.72,777.943 4041.12,777.91 4121.51,777.899 4201.91,777.895 \n",
       "  4282.31,777.894 4362.71,777.894 4443.11,777.894 4523.5,777.894 4603.9,777.894 4684.3,777.894 4764.7,777.894 4845.1,777.894 4925.49,777.894 5005.89,777.894 \n",
       "  5086.29,777.894 5166.69,777.894 5247.09,777.894 5327.48,777.894 5407.88,777.894 5488.28,777.894 5568.68,777.894 5649.08,777.894 5729.47,777.894 5809.87,777.894 \n",
       "  5890.27,777.894 5970.67,777.894 6051.07,777.894 6131.47,777.894 6211.86,777.894 6292.26,777.894 6372.66,777.894 6453.06,777.894 6533.46,777.894 6613.85,777.894 \n",
       "  6694.25,777.894 6774.65,777.894 6855.05,777.894 6935.45,777.894 7015.84,777.894 7096.24,777.894 7176.64,777.894 7257.04,777.894 7337.44,777.894 7417.83,777.894 \n",
       "  7498.23,777.894 7578.63,777.894 7659.03,777.894 7739.43,777.894 7819.82,777.894 7900.22,777.894 7980.62,777.894 8061.02,777.894 8141.42,777.894 8221.81,777.894 \n",
       "  \n",
       "  \"/>\n",
       "<polyline clip-path=\"url(#clip0502)\" style=\"stroke:#c271d2; stroke-width:4; stroke-opacity:1; fill:none\" points=\"\n",
       "  262.406,384.433 342.804,225.182 423.202,186.52 503.6,243.522 583.998,378.372 664.396,568.69 744.795,787.139 825.193,1003.75 905.591,1189.26 985.989,1318.74 \n",
       "  1066.39,1374.79 1146.78,1349.93 1227.18,1247.64 1307.58,1081.99 1387.98,875.722 1468.38,657.036 1548.78,455.639 1629.17,298.508 1709.57,206.121 1789.97,189.715 \n",
       "  1870.37,250.018 1950.77,377.611 2031.16,554.824 2111.56,758.777 2191.96,965.011 2272.36,1151.05 2352.76,1299.33 2433.15,1399.04 2513.55,1446.71 2593.95,1445.6 \n",
       "  2674.35,1404.1 2754.75,1333.72 2835.14,1246.84 2915.54,1154.91 2995.94,1067.09 3076.34,989.62 3156.74,925.803 3237.13,876.403 3317.53,840.358 3397.93,815.535 \n",
       "  3478.33,799.402 3558.73,789.516 3639.12,783.813 3719.52,780.726 3799.92,779.161 3880.32,778.421 3960.72,778.097 4041.12,777.966 4121.51,777.917 4201.91,777.9 \n",
       "  4282.31,777.895 4362.71,777.894 4443.11,777.894 4523.5,777.894 4603.9,777.894 4684.3,777.894 4764.7,777.894 4845.1,777.894 4925.49,777.894 5005.89,777.894 \n",
       "  5086.29,777.894 5166.69,777.894 5247.09,777.894 5327.48,777.894 5407.88,777.894 5488.28,777.894 5568.68,777.894 5649.08,777.894 5729.47,777.894 5809.87,777.894 \n",
       "  5890.27,777.894 5970.67,777.894 6051.07,777.894 6131.47,777.894 6211.86,777.894 6292.26,777.894 6372.66,777.894 6453.06,777.894 6533.46,777.894 6613.85,777.894 \n",
       "  6694.25,777.894 6774.65,777.894 6855.05,777.894 6935.45,777.894 7015.84,777.894 7096.24,777.894 7176.64,777.894 7257.04,777.894 7337.44,777.894 7417.83,777.894 \n",
       "  7498.23,777.894 7578.63,777.894 7659.03,777.894 7739.43,777.894 7819.82,777.894 7900.22,777.894 7980.62,777.894 8061.02,777.894 8141.42,777.894 8221.81,777.894 \n",
       "  \n",
       "  \"/>\n",
       "<polygon clip-path=\"url(#clip0500)\" points=\"\n",
       "1989.93,433.164 2280.76,433.164 2280.76,130.764 1989.93,130.764 \n",
       "  \" fill=\"#ffffff\" fill-rule=\"evenodd\" fill-opacity=\"1\"/>\n",
       "<polyline clip-path=\"url(#clip0500)\" style=\"stroke:#000000; stroke-width:4; stroke-opacity:1; fill:none\" points=\"\n",
       "  1989.93,433.164 2280.76,433.164 2280.76,130.764 1989.93,130.764 1989.93,433.164 \n",
       "  \"/>\n",
       "<polyline clip-path=\"url(#clip0500)\" style=\"stroke:#009af9; stroke-width:4; stroke-opacity:1; fill:none\" points=\"\n",
       "  2013.93,191.244 2157.93,191.244 \n",
       "  \"/>\n",
       "<g clip-path=\"url(#clip0500)\">\n",
       "<text style=\"fill:#000000; fill-opacity:1; font-family:Arial,Helvetica Neue,Helvetica,sans-serif; font-size:48px; text-anchor:start;\" transform=\"rotate(0, 2181.93, 208.744)\" x=\"2181.93\" y=\"208.744\">y1</text>\n",
       "</g>\n",
       "<polyline clip-path=\"url(#clip0500)\" style=\"stroke:#e26f46; stroke-width:4; stroke-opacity:1; fill:none\" points=\"\n",
       "  2013.93,251.724 2157.93,251.724 \n",
       "  \"/>\n",
       "<g clip-path=\"url(#clip0500)\">\n",
       "<text style=\"fill:#000000; fill-opacity:1; font-family:Arial,Helvetica Neue,Helvetica,sans-serif; font-size:48px; text-anchor:start;\" transform=\"rotate(0, 2181.93, 269.224)\" x=\"2181.93\" y=\"269.224\">y2</text>\n",
       "</g>\n",
       "<polyline clip-path=\"url(#clip0500)\" style=\"stroke:#3da44d; stroke-width:4; stroke-opacity:1; fill:none\" points=\"\n",
       "  2013.93,312.204 2157.93,312.204 \n",
       "  \"/>\n",
       "<g clip-path=\"url(#clip0500)\">\n",
       "<text style=\"fill:#000000; fill-opacity:1; font-family:Arial,Helvetica Neue,Helvetica,sans-serif; font-size:48px; text-anchor:start;\" transform=\"rotate(0, 2181.93, 329.704)\" x=\"2181.93\" y=\"329.704\">y3</text>\n",
       "</g>\n",
       "<polyline clip-path=\"url(#clip0500)\" style=\"stroke:#c271d2; stroke-width:4; stroke-opacity:1; fill:none\" points=\"\n",
       "  2013.93,372.684 2157.93,372.684 \n",
       "  \"/>\n",
       "<g clip-path=\"url(#clip0500)\">\n",
       "<text style=\"fill:#000000; fill-opacity:1; font-family:Arial,Helvetica Neue,Helvetica,sans-serif; font-size:48px; text-anchor:start;\" transform=\"rotate(0, 2181.93, 390.184)\" x=\"2181.93\" y=\"390.184\">y4</text>\n",
       "</g>\n",
       "</svg>\n"
      ]
     },
     "execution_count": 49,
     "metadata": {},
     "output_type": "execute_result"
    }
   ],
   "source": [
    "plot(-F[:,end])\n",
    "plot!(-F[:,end-1])\n",
    "plot!(-F[:,end-2],xlim=(0,27))\n",
    "plot!(-F[:,end-3],xlim=(0,27))"
   ]
  },
  {
   "cell_type": "code",
   "execution_count": 84,
   "metadata": {},
   "outputs": [
    {
     "data": {
      "text/plain": [
       "([-0.9491079123427585, -0.7415311855993945, -0.40584515137739713, 0.0, 0.40584515137739713, 0.7415311855993945, 0.9491079123427585], [0.12948496616886973, 0.2797053914892766, 0.3818300505051189, 0.4179591836734694, 0.3818300505051189, 0.2797053914892766, 0.12948496616886973])"
      ]
     },
     "execution_count": 84,
     "metadata": {},
     "output_type": "execute_result"
    }
   ],
   "source": [
    "nodes,weights = gausslegendre(7)"
   ]
  },
  {
   "cell_type": "code",
   "execution_count": 105,
   "metadata": {},
   "outputs": [
    {
     "data": {
      "text/plain": [
       "21×2 Array{Real,2}:\n",
       "  2.0          2.0      \n",
       " -4.16334e-17  0        \n",
       "  0.666667     0.666667 \n",
       " -1.38778e-17  0        \n",
       "  0.4          0.4      \n",
       "  0.0          0        \n",
       "  0.285714     0.285714 \n",
       "  1.38778e-17  0        \n",
       "  0.222222     0.222222 \n",
       "  0.0          0        \n",
       "  0.181818     0.181818 \n",
       " -6.93889e-18  0        \n",
       "  0.153846     0.153846 \n",
       "  0.0          0        \n",
       "  0.133333     0.133333 \n",
       "  0.0          0        \n",
       "  0.117647     0.117647 \n",
       "  6.93889e-18  0        \n",
       "  0.105263     0.105263 \n",
       "  0.0          0        \n",
       "  0.0952352    0.0952381"
      ]
     },
     "execution_count": 105,
     "metadata": {},
     "output_type": "execute_result"
    }
   ],
   "source": [
    "n = 10\n",
    "nodes,weights = gausslegendre(n)\n",
    "hcat( [ weights ⋅ (x->x^k).(nodes) for k=0:2*n], [k%2==1 ? 0 : 2/(k+1) for k=0:2*n])"
   ]
  },
  {
   "cell_type": "code",
   "execution_count": 150,
   "metadata": {},
   "outputs": [
    {
     "data": {
      "text/plain": [
       "10-element Array{Float64,1}:\n",
       " -0.9739065285171714 \n",
       " -0.8650633666889843 \n",
       " -0.6794095682990245 \n",
       " -0.4333953941292471 \n",
       " -0.1488743389816315 \n",
       "  0.14887433898163172\n",
       "  0.43339539412924716\n",
       "  0.6794095682990244 \n",
       "  0.8650633666889842 \n",
       "  0.9739065285171716 "
      ]
     },
     "execution_count": 150,
     "metadata": {},
     "output_type": "execute_result"
    }
   ],
   "source": [
    "n = 10\n",
    "d = [0.0 for m =(n):-1:1.0]\n",
    "e = [1/√(4-1/m^2) for m=1:(n-1)]\n",
    "eigvals(SymTridiagonal(d,e))"
   ]
  },
  {
   "cell_type": "code",
   "execution_count": 89,
   "metadata": {},
   "outputs": [
    {
     "data": {
      "text/plain": [
       "7-element Array{Float64,1}:\n",
       " 0.12948496616886812\n",
       " 0.2797053914892805 \n",
       " 0.38183005050511776\n",
       " 0.41795918367346957\n",
       " 0.38183005050511837\n",
       " 0.2797053914892761 \n",
       " 0.12948496616886948"
      ]
     },
     "execution_count": 89,
     "metadata": {},
     "output_type": "execute_result"
    }
   ],
   "source": [
    "2*eigvecs(SymTridiagonal(d,e))[1,:].^2"
   ]
  },
  {
   "cell_type": "code",
   "execution_count": 152,
   "metadata": {},
   "outputs": [
    {
     "data": {
      "text/plain": [
       "10-element Array{Float64,1}:\n",
       " 0.578\n",
       " 0.517\n",
       " 0.508\n",
       " 0.504\n",
       " 0.503\n",
       " 0.502\n",
       " 0.502\n",
       " 0.501\n",
       " 0.501\n",
       " 0.501"
      ]
     },
     "execution_count": 152,
     "metadata": {},
     "output_type": "execute_result"
    }
   ],
   "source": [
    "n= 1000\n",
    "r = range(-1,stop=1,length=n)\n",
    "V = r.^(0:n-1)'\n",
    "Q, = qr(V)\n",
    "T = Q'*diagm(r)*Q\n",
    "T = SymTridiagonal(diag(T),abs.(diag(T,-1)))\n",
    "round.(T.ev[1:10],digits=3)"
   ]
  },
  {
   "cell_type": "code",
   "execution_count": 153,
   "metadata": {},
   "outputs": [
    {
     "data": {
      "text/plain": [
       "9-element Array{Float64,1}:\n",
       " 0.5773502691896258\n",
       " 0.5163977794943222\n",
       " 0.50709255283711  \n",
       " 0.5039526306789696\n",
       " 0.502518907629606 \n",
       " 0.5017452060042544\n",
       " 0.501280411827603 \n",
       " 0.5009794328681196\n",
       " 0.5007733956671915"
      ]
     },
     "execution_count": 153,
     "metadata": {},
     "output_type": "execute_result"
    }
   ],
   "source": [
    "e"
   ]
  },
  {
   "cell_type": "code",
   "execution_count": null,
   "metadata": {},
   "outputs": [],
   "source": []
  }
 ],
 "metadata": {
  "@webio": {
   "lastCommId": null,
   "lastKernelId": null
  },
  "kernelspec": {
   "display_name": "Julia 1.2.0",
   "language": "julia",
   "name": "julia-1.2"
  },
  "language_info": {
   "file_extension": ".jl",
   "mimetype": "application/julia",
   "name": "julia",
   "version": "1.2.0"
  }
 },
 "nbformat": 4,
 "nbformat_minor": 2
}
