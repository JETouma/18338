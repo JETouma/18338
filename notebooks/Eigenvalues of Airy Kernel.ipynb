{
 "cells": [
  {
   "cell_type": "markdown",
   "metadata": {},
   "source": [
    "Extracted the key parts from https://github.com/JuliaMath/RandomMatrices.jl/blob/master/src/densities/TracyWidom.jl"
   ]
  },
  {
   "cell_type": "code",
   "execution_count": 16,
   "metadata": {},
   "outputs": [],
   "source": [
    "using SpecialFunctions, FastGaussQuadrature, LinearAlgebra"
   ]
  },
  {
   "cell_type": "code",
   "execution_count": 17,
   "metadata": {},
   "outputs": [
    {
     "data": {
      "text/plain": [
       "K (generic function with 3 methods)"
      ]
     },
     "execution_count": 17,
     "metadata": {},
     "output_type": "execute_result"
    }
   ],
   "source": [
    "airy_kernel(x, y) = x==y ? (airyaiprime(x))^2 - x * (airyai(x))^2 :\n",
    "           (airyai(x) * airyaiprime(y) - airyai(y) * airyaiprime(x)) / (x - y)\n",
    "ϕ(ξ, s) =  s + 10*tan(π*(ξ+1)/4) # Transformation from [-1,1] to (s,∞)\n",
    "ϕ′(ξ) = (5π/2)*(sec(π*(ξ+1)/4))^2\n",
    "K(ξ,η,s) = sqrt(ϕ′(ξ) * ϕ′(η)) * airy_kernel(ϕ(ξ,s), ϕ(η,s))"
   ]
  },
  {
   "cell_type": "code",
   "execution_count": 18,
   "metadata": {},
   "outputs": [
    {
     "data": {
      "text/plain": [
       "0.4132241425051224"
      ]
     },
     "execution_count": 18,
     "metadata": {},
     "output_type": "execute_result"
    }
   ],
   "source": [
    "# Tracy widom at s = -2 using \"det\"\n",
    "n = 100 \n",
    "s = -2\n",
    "\n",
    "function K(s , n=100) \n",
    "    nodes,weights = gausslegendre(n)\n",
    "    Symmetric( K.(nodes',nodes,s) .* (√).(weights) .* (√).(weights'))\n",
    "end\n",
    "det(I -  K(s))"
   ]
  },
  {
   "cell_type": "code",
   "execution_count": 19,
   "metadata": {},
   "outputs": [
    {
     "data": {
      "text/plain": [
       "7-element Array{Float64,1}:\n",
       " 0.5765544712213151    \n",
       " 0.023947900315389396  \n",
       " 0.00019436102447910228\n",
       " 1.0231068630369925e-6 \n",
       " 4.400191076272687e-9  \n",
       " 1.669643670556442e-11 \n",
       " 5.813520698657187e-14 "
      ]
     },
     "execution_count": 19,
     "metadata": {},
     "output_type": "execute_result"
    }
   ],
   "source": [
    "# Eigenvalues of airy Kernel at s = -2\n",
    "λ = sort(eigvals(K(s)) , rev =true)\n",
    "λ = λ[ λ .> 1e-15]"
   ]
  },
  {
   "cell_type": "code",
   "execution_count": 20,
   "metadata": {},
   "outputs": [
    {
     "data": {
      "text/plain": [
       "0.4132241425051226"
      ]
     },
     "execution_count": 20,
     "metadata": {},
     "output_type": "execute_result"
    }
   ],
   "source": [
    "prod(1 .- λ)  # product of 1-eigs = det = tracy widom"
   ]
  },
  {
   "cell_type": "code",
   "execution_count": 21,
   "metadata": {},
   "outputs": [
    {
     "data": {
      "text/plain": [
       "([-0.9491079123427585, -0.7415311855993945, -0.40584515137739713, 0.0, 0.40584515137739713, 0.7415311855993945, 0.9491079123427585], [0.12948496616886973, 0.2797053914892766, 0.3818300505051189, 0.4179591836734694, 0.3818300505051189, 0.2797053914892766, 0.12948496616886973])"
      ]
     },
     "execution_count": 21,
     "metadata": {},
     "output_type": "execute_result"
    }
   ],
   "source": [
    "nodes,weights = gausslegendre(7)"
   ]
  },
  {
   "cell_type": "code",
   "execution_count": 22,
   "metadata": {},
   "outputs": [
    {
     "data": {
      "text/plain": [
       "21×2 Array{Real,2}:\n",
       "  2.0          2.0      \n",
       " -4.16334e-17  0        \n",
       "  0.666667     0.666667 \n",
       " -1.38778e-17  0        \n",
       "  0.4          0.4      \n",
       "  0.0          0        \n",
       "  0.285714     0.285714 \n",
       "  1.38778e-17  0        \n",
       "  0.222222     0.222222 \n",
       "  0.0          0        \n",
       "  0.181818     0.181818 \n",
       " -6.93889e-18  0        \n",
       "  0.153846     0.153846 \n",
       "  0.0          0        \n",
       "  0.133333     0.133333 \n",
       "  0.0          0        \n",
       "  0.117647     0.117647 \n",
       "  6.93889e-18  0        \n",
       "  0.105263     0.105263 \n",
       "  0.0          0        \n",
       "  0.0952352    0.0952381"
      ]
     },
     "execution_count": 22,
     "metadata": {},
     "output_type": "execute_result"
    }
   ],
   "source": [
    "n = 10\n",
    "nodes,weights = gausslegendre(n)\n",
    "hcat( [ weights ⋅ (x->x^k).(nodes) for k=0:2*n], [k%2==1 ? 0 : 2/(k+1) for k=0:2*n])"
   ]
  },
  {
   "cell_type": "code",
   "execution_count": 23,
   "metadata": {},
   "outputs": [
    {
     "data": {
      "text/plain": [
       "10-element Array{Float64,1}:\n",
       " -0.9739065285171714 \n",
       " -0.8650633666889843 \n",
       " -0.6794095682990245 \n",
       " -0.4333953941292471 \n",
       " -0.1488743389816315 \n",
       "  0.14887433898163172\n",
       "  0.43339539412924716\n",
       "  0.6794095682990244 \n",
       "  0.8650633666889842 \n",
       "  0.9739065285171716 "
      ]
     },
     "execution_count": 23,
     "metadata": {},
     "output_type": "execute_result"
    }
   ],
   "source": [
    "n = 10\n",
    "d = [0.0 for m =(n):-1:1.0]\n",
    "e = [1/√(4-1/m^2) for m=1:(n-1)]\n",
    "eigvals(SymTridiagonal(d,e))"
   ]
  },
  {
   "cell_type": "code",
   "execution_count": 24,
   "metadata": {},
   "outputs": [
    {
     "data": {
      "text/plain": [
       "10-element Array{Float64,1}:\n",
       " 0.06667134430868694\n",
       " 0.1494513491505832 \n",
       " 0.2190863625159837 \n",
       " 0.2692667193099952 \n",
       " 0.2955242247147499 \n",
       " 0.29552422471475276\n",
       " 0.2692667193099954 \n",
       " 0.21908636251598348\n",
       " 0.14945134915058125\n",
       " 0.06667134430868796"
      ]
     },
     "execution_count": 24,
     "metadata": {},
     "output_type": "execute_result"
    }
   ],
   "source": [
    "2*eigvecs(SymTridiagonal(d,e))[1,:].^2"
   ]
  },
  {
   "cell_type": "code",
   "execution_count": 25,
   "metadata": {},
   "outputs": [
    {
     "data": {
      "text/plain": [
       "10-element Array{Float64,1}:\n",
       " 0.578\n",
       " 0.517\n",
       " 0.508\n",
       " 0.504\n",
       " 0.503\n",
       " 0.502\n",
       " 0.502\n",
       " 0.501\n",
       " 0.501\n",
       " 0.501"
      ]
     },
     "execution_count": 25,
     "metadata": {},
     "output_type": "execute_result"
    }
   ],
   "source": [
    "n= 1000\n",
    "r = range(-1,stop=1,length=n)\n",
    "V = r.^(0:n-1)'\n",
    "Q, = qr(V)\n",
    "T = Q'*diagm(r)*Q\n",
    "T = SymTridiagonal(diag(T),abs.(diag(T,-1)))\n",
    "round.(T.ev[1:10],digits=3)"
   ]
  },
  {
   "cell_type": "code",
   "execution_count": 26,
   "metadata": {},
   "outputs": [
    {
     "data": {
      "text/plain": [
       "12-element Array{Float64,1}:\n",
       " 0.5773502691896258\n",
       " 0.5163977794943222\n",
       " 0.50709255283711  \n",
       " 0.5039526306789696\n",
       " 0.502518907629606 \n",
       " 0.5017452060042544\n",
       " 0.501280411827603 \n",
       " 0.5009794328681196\n",
       " 0.5007733956671915\n",
       " 0.5006261743217588\n",
       " 0.5005173307126191\n",
       " 0.5004345937369794"
      ]
     },
     "execution_count": 26,
     "metadata": {},
     "output_type": "execute_result"
    }
   ],
   "source": [
    "[1/√(4-1/m^2) for m=1:12]"
   ]
  },
  {
   "cell_type": "markdown",
   "metadata": {},
   "source": [
    "## Lanczos on Airy Kernel\n",
    "with reorthognalization, grabbed from Arbenz http://people.inf.ethz.ch/arbenz/ewp/Lnotes/chapter10.pdf"
   ]
  },
  {
   "cell_type": "code",
   "execution_count": 27,
   "metadata": {},
   "outputs": [
    {
     "data": {
      "text/plain": [
       "lanczos (generic function with 3 methods)"
      ]
     },
     "execution_count": 27,
     "metadata": {},
     "output_type": "execute_result"
    }
   ],
   "source": [
    "function(lanczos(s,steps=10,n=50))\n",
    "  A = copy(K(s,n));\n",
    "  nodes,weights = gausslegendre(n)\n",
    "  q = fill(1.0,n).*(√).(weights)\n",
    "  q = normalize(q)\n",
    "  Q = q\n",
    "  r =  A * q\n",
    "  α =  q ⋅ r\n",
    "  r -= α * q\n",
    "  β = norm(r)\n",
    "  α_list,β_list = [α],[β]\n",
    "\n",
    "  for j = 2:steps \n",
    "    v = q\n",
    "    q = r / β  \n",
    "    Q = [Q q]\n",
    "    r = A * q - β*v\n",
    "    α = q ⋅ r \n",
    "    r -= α * q \n",
    "    r -= Q*Q'r  # explicit reorthogonalization\n",
    "    β = norm(r)  \n",
    "    append!(α_list,α),append!(β_list,β)\n",
    "  end\n",
    "  T = SymTridiagonal(α_list, β_list[1:steps-1])\n",
    "end"
   ]
  },
  {
   "cell_type": "code",
   "execution_count": 28,
   "metadata": {},
   "outputs": [
    {
     "data": {
      "text/plain": [
       "(0.4132241425051217, 0.4132241425051224)"
      ]
     },
     "execution_count": 28,
     "metadata": {},
     "output_type": "execute_result"
    }
   ],
   "source": [
    "s = -2.0\n",
    "det(I-lanczos(s)), det(I-K(s))"
   ]
  },
  {
   "cell_type": "code",
   "execution_count": 29,
   "metadata": {},
   "outputs": [],
   "source": [
    "using Plots"
   ]
  },
  {
   "cell_type": "code",
   "execution_count": 31,
   "metadata": {},
   "outputs": [
    {
     "data": {
      "image/svg+xml": [
       "<?xml version=\"1.0\" encoding=\"utf-8\"?>\n",
       "<svg xmlns=\"http://www.w3.org/2000/svg\" xmlns:xlink=\"http://www.w3.org/1999/xlink\" width=\"600\" height=\"400\" viewBox=\"0 0 2400 1600\">\n",
       "<defs>\n",
       "  <clipPath id=\"clip3800\">\n",
       "    <rect x=\"0\" y=\"0\" width=\"2400\" height=\"1600\"/>\n",
       "  </clipPath>\n",
       "</defs>\n",
       "<polygon clip-path=\"url(#clip3800)\" points=\"\n",
       "0,1600 2400,1600 2400,0 0,0 \n",
       "  \" fill=\"#ffffff\" fill-rule=\"evenodd\" fill-opacity=\"1\"/>\n",
       "<defs>\n",
       "  <clipPath id=\"clip3801\">\n",
       "    <rect x=\"480\" y=\"0\" width=\"1681\" height=\"1600\"/>\n",
       "  </clipPath>\n",
       "</defs>\n",
       "<polygon clip-path=\"url(#clip3800)\" points=\"\n",
       "180.66,1487.47 2352.76,1487.47 2352.76,47.2441 180.66,47.2441 \n",
       "  \" fill=\"#ffffff\" fill-rule=\"evenodd\" fill-opacity=\"1\"/>\n",
       "<defs>\n",
       "  <clipPath id=\"clip3802\">\n",
       "    <rect x=\"180\" y=\"47\" width=\"2173\" height=\"1441\"/>\n",
       "  </clipPath>\n",
       "</defs>\n",
       "<polyline clip-path=\"url(#clip3802)\" style=\"stroke:#000000; stroke-width:2; stroke-opacity:0.1; fill:none\" points=\"\n",
       "  242.135,1487.47 242.135,47.2441 \n",
       "  \"/>\n",
       "<polyline clip-path=\"url(#clip3802)\" style=\"stroke:#000000; stroke-width:2; stroke-opacity:0.1; fill:none\" points=\"\n",
       "  583.659,1487.47 583.659,47.2441 \n",
       "  \"/>\n",
       "<polyline clip-path=\"url(#clip3802)\" style=\"stroke:#000000; stroke-width:2; stroke-opacity:0.1; fill:none\" points=\"\n",
       "  925.184,1487.47 925.184,47.2441 \n",
       "  \"/>\n",
       "<polyline clip-path=\"url(#clip3802)\" style=\"stroke:#000000; stroke-width:2; stroke-opacity:0.1; fill:none\" points=\"\n",
       "  1266.71,1487.47 1266.71,47.2441 \n",
       "  \"/>\n",
       "<polyline clip-path=\"url(#clip3802)\" style=\"stroke:#000000; stroke-width:2; stroke-opacity:0.1; fill:none\" points=\"\n",
       "  1608.23,1487.47 1608.23,47.2441 \n",
       "  \"/>\n",
       "<polyline clip-path=\"url(#clip3802)\" style=\"stroke:#000000; stroke-width:2; stroke-opacity:0.1; fill:none\" points=\"\n",
       "  1949.76,1487.47 1949.76,47.2441 \n",
       "  \"/>\n",
       "<polyline clip-path=\"url(#clip3802)\" style=\"stroke:#000000; stroke-width:2; stroke-opacity:0.1; fill:none\" points=\"\n",
       "  2291.28,1487.47 2291.28,47.2441 \n",
       "  \"/>\n",
       "<polyline clip-path=\"url(#clip3802)\" style=\"stroke:#000000; stroke-width:2; stroke-opacity:0.1; fill:none\" points=\"\n",
       "  180.66,1447.22 2352.76,1447.22 \n",
       "  \"/>\n",
       "<polyline clip-path=\"url(#clip3802)\" style=\"stroke:#000000; stroke-width:2; stroke-opacity:0.1; fill:none\" points=\"\n",
       "  180.66,1107.35 2352.76,1107.35 \n",
       "  \"/>\n",
       "<polyline clip-path=\"url(#clip3802)\" style=\"stroke:#000000; stroke-width:2; stroke-opacity:0.1; fill:none\" points=\"\n",
       "  180.66,767.477 2352.76,767.477 \n",
       "  \"/>\n",
       "<polyline clip-path=\"url(#clip3802)\" style=\"stroke:#000000; stroke-width:2; stroke-opacity:0.1; fill:none\" points=\"\n",
       "  180.66,427.605 2352.76,427.605 \n",
       "  \"/>\n",
       "<polyline clip-path=\"url(#clip3802)\" style=\"stroke:#000000; stroke-width:2; stroke-opacity:0.1; fill:none\" points=\"\n",
       "  180.66,87.7334 2352.76,87.7334 \n",
       "  \"/>\n",
       "<polyline clip-path=\"url(#clip3800)\" style=\"stroke:#000000; stroke-width:4; stroke-opacity:1; fill:none\" points=\"\n",
       "  180.66,1487.47 2352.76,1487.47 \n",
       "  \"/>\n",
       "<polyline clip-path=\"url(#clip3800)\" style=\"stroke:#000000; stroke-width:4; stroke-opacity:1; fill:none\" points=\"\n",
       "  180.66,1487.47 180.66,47.2441 \n",
       "  \"/>\n",
       "<polyline clip-path=\"url(#clip3800)\" style=\"stroke:#000000; stroke-width:4; stroke-opacity:1; fill:none\" points=\"\n",
       "  242.135,1487.47 242.135,1465.87 \n",
       "  \"/>\n",
       "<polyline clip-path=\"url(#clip3800)\" style=\"stroke:#000000; stroke-width:4; stroke-opacity:1; fill:none\" points=\"\n",
       "  583.659,1487.47 583.659,1465.87 \n",
       "  \"/>\n",
       "<polyline clip-path=\"url(#clip3800)\" style=\"stroke:#000000; stroke-width:4; stroke-opacity:1; fill:none\" points=\"\n",
       "  925.184,1487.47 925.184,1465.87 \n",
       "  \"/>\n",
       "<polyline clip-path=\"url(#clip3800)\" style=\"stroke:#000000; stroke-width:4; stroke-opacity:1; fill:none\" points=\"\n",
       "  1266.71,1487.47 1266.71,1465.87 \n",
       "  \"/>\n",
       "<polyline clip-path=\"url(#clip3800)\" style=\"stroke:#000000; stroke-width:4; stroke-opacity:1; fill:none\" points=\"\n",
       "  1608.23,1487.47 1608.23,1465.87 \n",
       "  \"/>\n",
       "<polyline clip-path=\"url(#clip3800)\" style=\"stroke:#000000; stroke-width:4; stroke-opacity:1; fill:none\" points=\"\n",
       "  1949.76,1487.47 1949.76,1465.87 \n",
       "  \"/>\n",
       "<polyline clip-path=\"url(#clip3800)\" style=\"stroke:#000000; stroke-width:4; stroke-opacity:1; fill:none\" points=\"\n",
       "  2291.28,1487.47 2291.28,1465.87 \n",
       "  \"/>\n",
       "<polyline clip-path=\"url(#clip3800)\" style=\"stroke:#000000; stroke-width:4; stroke-opacity:1; fill:none\" points=\"\n",
       "  180.66,1447.22 213.242,1447.22 \n",
       "  \"/>\n",
       "<polyline clip-path=\"url(#clip3800)\" style=\"stroke:#000000; stroke-width:4; stroke-opacity:1; fill:none\" points=\"\n",
       "  180.66,1107.35 213.242,1107.35 \n",
       "  \"/>\n",
       "<polyline clip-path=\"url(#clip3800)\" style=\"stroke:#000000; stroke-width:4; stroke-opacity:1; fill:none\" points=\"\n",
       "  180.66,767.477 213.242,767.477 \n",
       "  \"/>\n",
       "<polyline clip-path=\"url(#clip3800)\" style=\"stroke:#000000; stroke-width:4; stroke-opacity:1; fill:none\" points=\"\n",
       "  180.66,427.605 213.242,427.605 \n",
       "  \"/>\n",
       "<polyline clip-path=\"url(#clip3800)\" style=\"stroke:#000000; stroke-width:4; stroke-opacity:1; fill:none\" points=\"\n",
       "  180.66,87.7334 213.242,87.7334 \n",
       "  \"/>\n",
       "<g clip-path=\"url(#clip3800)\">\n",
       "<text style=\"fill:#000000; fill-opacity:1; font-family:Arial,Helvetica Neue,Helvetica,sans-serif; font-size:48px; text-anchor:middle;\" transform=\"rotate(0, 242.135, 1541.47)\" x=\"242.135\" y=\"1541.47\">-5</text>\n",
       "</g>\n",
       "<g clip-path=\"url(#clip3800)\">\n",
       "<text style=\"fill:#000000; fill-opacity:1; font-family:Arial,Helvetica Neue,Helvetica,sans-serif; font-size:48px; text-anchor:middle;\" transform=\"rotate(0, 583.659, 1541.47)\" x=\"583.659\" y=\"1541.47\">-4</text>\n",
       "</g>\n",
       "<g clip-path=\"url(#clip3800)\">\n",
       "<text style=\"fill:#000000; fill-opacity:1; font-family:Arial,Helvetica Neue,Helvetica,sans-serif; font-size:48px; text-anchor:middle;\" transform=\"rotate(0, 925.184, 1541.47)\" x=\"925.184\" y=\"1541.47\">-3</text>\n",
       "</g>\n",
       "<g clip-path=\"url(#clip3800)\">\n",
       "<text style=\"fill:#000000; fill-opacity:1; font-family:Arial,Helvetica Neue,Helvetica,sans-serif; font-size:48px; text-anchor:middle;\" transform=\"rotate(0, 1266.71, 1541.47)\" x=\"1266.71\" y=\"1541.47\">-2</text>\n",
       "</g>\n",
       "<g clip-path=\"url(#clip3800)\">\n",
       "<text style=\"fill:#000000; fill-opacity:1; font-family:Arial,Helvetica Neue,Helvetica,sans-serif; font-size:48px; text-anchor:middle;\" transform=\"rotate(0, 1608.23, 1541.47)\" x=\"1608.23\" y=\"1541.47\">-1</text>\n",
       "</g>\n",
       "<g clip-path=\"url(#clip3800)\">\n",
       "<text style=\"fill:#000000; fill-opacity:1; font-family:Arial,Helvetica Neue,Helvetica,sans-serif; font-size:48px; text-anchor:middle;\" transform=\"rotate(0, 1949.76, 1541.47)\" x=\"1949.76\" y=\"1541.47\">0</text>\n",
       "</g>\n",
       "<g clip-path=\"url(#clip3800)\">\n",
       "<text style=\"fill:#000000; fill-opacity:1; font-family:Arial,Helvetica Neue,Helvetica,sans-serif; font-size:48px; text-anchor:middle;\" transform=\"rotate(0, 2291.28, 1541.47)\" x=\"2291.28\" y=\"1541.47\">1</text>\n",
       "</g>\n",
       "<g clip-path=\"url(#clip3800)\">\n",
       "<text style=\"fill:#000000; fill-opacity:1; font-family:Arial,Helvetica Neue,Helvetica,sans-serif; font-size:48px; text-anchor:end;\" transform=\"rotate(0, 156.66, 1464.72)\" x=\"156.66\" y=\"1464.72\">0.00</text>\n",
       "</g>\n",
       "<g clip-path=\"url(#clip3800)\">\n",
       "<text style=\"fill:#000000; fill-opacity:1; font-family:Arial,Helvetica Neue,Helvetica,sans-serif; font-size:48px; text-anchor:end;\" transform=\"rotate(0, 156.66, 1124.85)\" x=\"156.66\" y=\"1124.85\">0.25</text>\n",
       "</g>\n",
       "<g clip-path=\"url(#clip3800)\">\n",
       "<text style=\"fill:#000000; fill-opacity:1; font-family:Arial,Helvetica Neue,Helvetica,sans-serif; font-size:48px; text-anchor:end;\" transform=\"rotate(0, 156.66, 784.977)\" x=\"156.66\" y=\"784.977\">0.50</text>\n",
       "</g>\n",
       "<g clip-path=\"url(#clip3800)\">\n",
       "<text style=\"fill:#000000; fill-opacity:1; font-family:Arial,Helvetica Neue,Helvetica,sans-serif; font-size:48px; text-anchor:end;\" transform=\"rotate(0, 156.66, 445.105)\" x=\"156.66\" y=\"445.105\">0.75</text>\n",
       "</g>\n",
       "<g clip-path=\"url(#clip3800)\">\n",
       "<text style=\"fill:#000000; fill-opacity:1; font-family:Arial,Helvetica Neue,Helvetica,sans-serif; font-size:48px; text-anchor:end;\" transform=\"rotate(0, 156.66, 105.233)\" x=\"156.66\" y=\"105.233\">1.00</text>\n",
       "</g>\n",
       "<polyline clip-path=\"url(#clip3802)\" style=\"stroke:#009af9; stroke-width:4; stroke-opacity:1; fill:none\" points=\"\n",
       "  242.135,465.335 276.287,457.849 310.44,450.897 344.592,444.469 378.745,438.526 412.897,433.009 447.049,427.842 481.202,422.939 515.354,418.205 549.507,413.543 \n",
       "  583.659,408.851 617.812,404.027 651.964,398.97 686.117,393.576 720.269,387.746 754.421,381.386 788.574,374.411 822.726,366.748 856.879,358.343 891.031,349.162 \n",
       "  925.184,339.196 959.336,328.463 993.489,317.011 1027.64,304.913 1061.79,292.269 1095.95,279.2 1130.1,265.844 1164.25,252.347 1198.4,238.865 1232.56,225.547 \n",
       "  1266.71,212.538 1300.86,199.971 1335.01,187.962 1369.17,176.605 1403.32,165.979 1437.47,156.135 1471.62,147.108 1505.78,138.909 1539.93,131.533 1574.08,124.959 \n",
       "  1608.23,119.152 1642.39,114.07 1676.54,109.659 1710.69,105.864 1744.84,102.625 1778.99,99.8844 1813.15,97.5831 1847.3,95.666 1881.45,94.0811 1915.6,92.7807 \n",
       "  1949.76,91.7215 1983.91,90.8651 2018.06,90.1776 2052.21,89.6294 2086.37,89.1954 2120.52,88.8541 2154.67,88.5874 2188.82,88.3804 2222.98,88.2208 2257.13,88.0985 \n",
       "  2291.28,88.0053 \n",
       "  \"/>\n",
       "<polyline clip-path=\"url(#clip3802)\" style=\"stroke:#e26f46; stroke-width:4; stroke-opacity:1; fill:none\" points=\"\n",
       "  242.135,1415.97 276.287,1421.74 310.44,1426.86 344.592,1431.07 378.745,1434.22 412.897,1436.28 447.049,1437.28 481.202,1437.27 515.354,1436.28 549.507,1434.31 \n",
       "  583.659,1431.32 617.812,1427.21 651.964,1421.89 686.117,1415.17 720.269,1406.88 754.421,1396.78 788.574,1384.61 822.726,1370.09 856.879,1352.9 891.031,1332.7 \n",
       "  925.184,1309.2 959.336,1282.09 993.489,1251.16 1027.64,1216.24 1061.79,1177.3 1095.95,1134.4 1130.1,1087.75 1164.25,1037.66 1198.4,984.586 1232.56,929.076 \n",
       "  1266.71,871.772 1300.86,813.374 1335.01,754.613 1369.17,696.22 1403.32,638.902 1437.47,583.309 1471.62,530.02 1505.78,479.521 1539.93,432.199 1574.08,388.335 \n",
       "  1608.23,348.106 1642.39,311.592 1676.54,278.783 1710.69,249.593 1744.84,223.87 1778.99,201.414 1813.15,181.989 1847.3,165.334 1881.45,151.179 1915.6,139.25 \n",
       "  1949.76,129.281 1983.91,121.016 2018.06,114.219 2052.21,108.673 2086.37,104.182 2120.52,100.571 2154.67,97.6905 2188.82,95.4082 2222.98,93.6129 2257.13,92.2103 \n",
       "  2291.28,91.122 \n",
       "  \"/>\n",
       "<polyline clip-path=\"url(#clip3802)\" style=\"stroke:#3da44d; stroke-width:4; stroke-opacity:1; fill:none\" points=\"\n",
       "  242.135,1446.64 276.287,1446.39 310.44,1446.04 344.592,1445.57 378.745,1444.91 412.897,1444.03 447.049,1442.86 481.202,1441.32 515.354,1439.36 549.507,1437.04 \n",
       "  583.659,1434.67 617.812,1432.72 651.964,1431.06 686.117,1428.52 720.269,1424.02 754.421,1417.1 788.574,1407.55 822.726,1395.14 856.879,1379.56 891.031,1360.45 \n",
       "  925.184,1337.49 959.336,1310.4 993.489,1278.98 1027.64,1243.11 1061.79,1202.82 1095.95,1158.26 1130.1,1109.7 1164.25,1057.55 1198.4,1002.34 1232.56,944.707 \n",
       "  1266.71,885.342 1300.86,824.998 1335.01,764.442 1369.17,704.43 1403.32,645.677 1437.47,588.837 1471.62,534.48 1505.78,483.083 1539.93,435.014 1574.08,390.539 \n",
       "  1608.23,349.817 1642.39,312.908 1676.54,279.788 1710.69,250.353 1744.84,224.441 1778.99,201.841 1813.15,182.305 1847.3,165.567 1881.45,151.349 1915.6,139.374 \n",
       "  1949.76,129.37 1983.91,121.081 2018.06,114.266 2052.21,108.706 2086.37,104.205 2120.52,100.588 2154.67,97.7021 2188.82,95.4164 2222.98,93.6186 2257.13,92.2143 \n",
       "  2291.28,91.1247 \n",
       "  \"/>\n",
       "<polyline clip-path=\"url(#clip3802)\" style=\"stroke:#c271d2; stroke-width:4; stroke-opacity:1; fill:none\" points=\"\n",
       "  242.135,1446.71 276.287,1446.57 310.44,1446.47 344.592,1446.36 378.745,1445.97 412.897,1444.07 447.049,1446.23 481.202,1445.89 515.354,1445.15 549.507,1444.03 \n",
       "  583.659,1442.4 617.812,1440.07 651.964,1436.84 686.117,1432.41 720.269,1426.49 754.421,1418.71 788.574,1408.68 822.726,1396.01 856.879,1380.26 891.031,1361.05 \n",
       "  925.184,1338.02 959.336,1310.87 993.489,1279.39 1027.64,1243.48 1061.79,1203.14 1095.95,1158.53 1130.1,1109.93 1164.25,1057.74 1198.4,1002.5 1232.56,944.837 \n",
       "  1266.71,885.447 1300.86,825.082 1335.01,764.508 1369.17,704.48 1403.32,645.716 1437.47,588.866 1471.62,534.503 1505.78,483.099 1539.93,435.027 1574.08,390.548 \n",
       "  1608.23,349.823 1642.39,312.913 1676.54,279.791 1710.69,250.356 1744.84,224.443 1778.99,201.842 1813.15,182.306 1847.3,165.568 1881.45,151.35 1915.6,139.374 \n",
       "  1949.76,129.371 1983.91,121.081 2018.06,114.266 2052.21,108.706 2086.37,104.205 2120.52,100.588 2154.67,97.7022 2188.82,95.4164 2222.98,93.6186 2257.13,92.2143 \n",
       "  2291.28,91.1247 \n",
       "  \"/>\n",
       "<polygon clip-path=\"url(#clip3800)\" points=\"\n",
       "1989.93,433.164 2280.76,433.164 2280.76,130.764 1989.93,130.764 \n",
       "  \" fill=\"#ffffff\" fill-rule=\"evenodd\" fill-opacity=\"1\"/>\n",
       "<polyline clip-path=\"url(#clip3800)\" style=\"stroke:#000000; stroke-width:4; stroke-opacity:1; fill:none\" points=\"\n",
       "  1989.93,433.164 2280.76,433.164 2280.76,130.764 1989.93,130.764 1989.93,433.164 \n",
       "  \"/>\n",
       "<polyline clip-path=\"url(#clip3800)\" style=\"stroke:#009af9; stroke-width:4; stroke-opacity:1; fill:none\" points=\"\n",
       "  2013.93,191.244 2157.93,191.244 \n",
       "  \"/>\n",
       "<g clip-path=\"url(#clip3800)\">\n",
       "<text style=\"fill:#000000; fill-opacity:1; font-family:Arial,Helvetica Neue,Helvetica,sans-serif; font-size:48px; text-anchor:start;\" transform=\"rotate(0, 2181.93, 208.744)\" x=\"2181.93\" y=\"208.744\">y1</text>\n",
       "</g>\n",
       "<polyline clip-path=\"url(#clip3800)\" style=\"stroke:#e26f46; stroke-width:4; stroke-opacity:1; fill:none\" points=\"\n",
       "  2013.93,251.724 2157.93,251.724 \n",
       "  \"/>\n",
       "<g clip-path=\"url(#clip3800)\">\n",
       "<text style=\"fill:#000000; fill-opacity:1; font-family:Arial,Helvetica Neue,Helvetica,sans-serif; font-size:48px; text-anchor:start;\" transform=\"rotate(0, 2181.93, 269.224)\" x=\"2181.93\" y=\"269.224\">y2</text>\n",
       "</g>\n",
       "<polyline clip-path=\"url(#clip3800)\" style=\"stroke:#3da44d; stroke-width:4; stroke-opacity:1; fill:none\" points=\"\n",
       "  2013.93,312.204 2157.93,312.204 \n",
       "  \"/>\n",
       "<g clip-path=\"url(#clip3800)\">\n",
       "<text style=\"fill:#000000; fill-opacity:1; font-family:Arial,Helvetica Neue,Helvetica,sans-serif; font-size:48px; text-anchor:start;\" transform=\"rotate(0, 2181.93, 329.704)\" x=\"2181.93\" y=\"329.704\">y3</text>\n",
       "</g>\n",
       "<polyline clip-path=\"url(#clip3800)\" style=\"stroke:#c271d2; stroke-width:4; stroke-opacity:1; fill:none\" points=\"\n",
       "  2013.93,372.684 2157.93,372.684 \n",
       "  \"/>\n",
       "<g clip-path=\"url(#clip3800)\">\n",
       "<text style=\"fill:#000000; fill-opacity:1; font-family:Arial,Helvetica Neue,Helvetica,sans-serif; font-size:48px; text-anchor:start;\" transform=\"rotate(0, 2181.93, 390.184)\" x=\"2181.93\" y=\"390.184\">y4</text>\n",
       "</g>\n",
       "</svg>\n"
      ]
     },
     "execution_count": 31,
     "metadata": {},
     "output_type": "execute_result"
    }
   ],
   "source": [
    "s = -5:.1:1\n",
    "y1 = [det(I-lanczos(x,1)) for x in s]\n",
    "y2 = [det(I-lanczos(x,2)) for x in s]\n",
    "y3 = [det(I-lanczos(x,3)) for x in s]\n",
    "y4 = [det(I-lanczos(x,4)) for x in s]\n",
    "plot(s,[y1 y2 y3 y4])"
   ]
  },
  {
   "cell_type": "code",
   "execution_count": 50,
   "metadata": {},
   "outputs": [
    {
     "data": {
      "text/html": [
       "<script>\n",
       "// Immediately-invoked-function-expression to avoid global variables.\n",
       "(function() {\n",
       "    var warning_div = document.getElementById(\"webio-warning-16867991284306361128\");\n",
       "    var hide = function () {\n",
       "        var script = document.getElementById(\"webio-setup-13024426466687630603\");\n",
       "        var parent = script && script.parentElement;\n",
       "        var grandparent = parent && parent.parentElement;\n",
       "        if (grandparent) {\n",
       "            grandparent.style.display = \"none\";\n",
       "        }\n",
       "        warning_div.style.display = \"none\";\n",
       "    };\n",
       "    if (typeof Jupyter !== \"undefined\") {\n",
       "        console.log(\"WebIO detected Jupyter notebook environment.\");\n",
       "        // Jupyter notebook.\n",
       "        var extensions = (\n",
       "            Jupyter\n",
       "            && Jupyter.notebook.config.data\n",
       "            && Jupyter.notebook.config.data.load_extensions\n",
       "        );\n",
       "        if (extensions && extensions[\"webio-jupyter-notebook\"]) {\n",
       "            // Extension already loaded.\n",
       "            console.log(\"Jupyter WebIO nbextension detected; not loading ad-hoc.\");\n",
       "            hide();\n",
       "            return;\n",
       "        }\n",
       "    } else if (window.location.pathname.includes(\"/lab\")) {\n",
       "        // Guessing JupyterLa\n",
       "        console.log(\"Jupyter Lab detected; make sure the @webio/jupyter-lab-provider labextension is installed.\");\n",
       "        hide();\n",
       "        return;\n",
       "    }\n",
       "})();\n",
       "\n",
       "</script>\n",
       "<p\n",
       "    id=\"webio-warning-16867991284306361128\"\n",
       "    class=\"output_text output_stderr\"\n",
       "    style=\"padding: 1em; font-weight: bold;\"\n",
       ">\n",
       "    Unable to load WebIO. Please make sure WebIO works for your Jupyter client.\n",
       "    For troubleshooting, please see <a href=\"https://juliagizmos.github.io/WebIO.jl/latest/providers/ijulia/\">\n",
       "    the WebIO/IJulia documentation</a>.\n",
       "    <!-- TODO: link to installation docs. -->\n",
       "</p>\n"
      ],
      "text/plain": [
       "HTML{String}(\"<script>\\n// Immediately-invoked-function-expression to avoid global variables.\\n(function() {\\n    var warning_div = document.getElementById(\\\"webio-warning-16867991284306361128\\\");\\n    var hide = function () {\\n        var script = document.getElementById(\\\"webio-setup-13024426466687630603\\\");\\n        var parent = script && script.parentElement;\\n        var grandparent = parent && parent.parentElement;\\n        if (grandparent) {\\n            grandparent.style.display = \\\"none\\\";\\n        }\\n        warning_div.style.display = \\\"none\\\";\\n    };\\n    if (typeof Jupyter !== \\\"undefined\\\") {\\n        console.log(\\\"WebIO detected Jupyter notebook environment.\\\");\\n        // Jupyter notebook.\\n        var extensions = (\\n            Jupyter\\n            && Jupyter.notebook.config.data\\n            && Jupyter.notebook.config.data.load_extensions\\n        );\\n        if (extensions && extensions[\\\"webio-jupyter-notebook\\\"]) {\\n            // Extension already loaded.\\n            console.log(\\\"Jupyter WebIO nbextension detected; not loading ad-hoc.\\\");\\n            hide();\\n            return;\\n        }\\n    } else if (window.location.pathname.includes(\\\"/lab\\\")) {\\n        // Guessing JupyterLa\\n        console.log(\\\"Jupyter Lab detected; make sure the @webio/jupyter-lab-provider labextension is installed.\\\");\\n        hide();\\n        return;\\n    }\\n})();\\n\\n</script>\\n<p\\n    id=\\\"webio-warning-16867991284306361128\\\"\\n    class=\\\"output_text output_stderr\\\"\\n    style=\\\"padding: 1em; font-weight: bold;\\\"\\n>\\n    Unable to load WebIO. Please make sure WebIO works for your Jupyter client.\\n    For troubleshooting, please see <a href=\\\"https://juliagizmos.github.io/WebIO.jl/latest/providers/ijulia/\\\">\\n    the WebIO/IJulia documentation</a>.\\n    <!-- TODO: link to installation docs. -->\\n</p>\\n\")"
      ]
     },
     "metadata": {},
     "output_type": "display_data"
    }
   ],
   "source": [
    "using Interact"
   ]
  },
  {
   "cell_type": "code",
   "execution_count": 76,
   "metadata": {},
   "outputs": [
    {
     "data": {
      "application/vnd.webio.node+json": {
       "children": [
        {
         "children": [
          {
           "children": [
            {
             "children": [
              {
               "children": [
                {
                 "children": [
                  "s"
                 ],
                 "instanceArgs": {
                  "namespace": "html",
                  "tag": "label"
                 },
                 "nodeType": "DOM",
                 "props": {
                  "className": "interact ",
                  "style": {
                   "padding": "5px 10px 0px 10px"
                  }
                 },
                 "type": "node"
                }
               ],
               "instanceArgs": {
                "namespace": "html",
                "tag": "div"
               },
               "nodeType": "DOM",
               "props": {
                "className": "interact-flex-row-left"
               },
               "type": "node"
              },
              {
               "children": [
                {
                 "children": [],
                 "instanceArgs": {
                  "namespace": "html",
                  "tag": "input"
                 },
                 "nodeType": "DOM",
                 "props": {
                  "attributes": {
                   "data-bind": "numericValue: index, valueUpdate: 'input', event: {change: function (){this.changes(this.changes()+1)}}",
                   "orient": "horizontal",
                   "type": "range"
                  },
                  "className": "slider slider is-fullwidth",
                  "max": 101,
                  "min": 1,
                  "step": 1,
                  "style": {}
                 },
                 "type": "node"
                }
               ],
               "instanceArgs": {
                "namespace": "html",
                "tag": "div"
               },
               "nodeType": "DOM",
               "props": {
                "className": "interact-flex-row-center"
               },
               "type": "node"
              },
              {
               "children": [
                {
                 "children": [],
                 "instanceArgs": {
                  "namespace": "html",
                  "tag": "p"
                 },
                 "nodeType": "DOM",
                 "props": {
                  "attributes": {
                   "data-bind": "text: formatted_val"
                  }
                 },
                 "type": "node"
                }
               ],
               "instanceArgs": {
                "namespace": "html",
                "tag": "div"
               },
               "nodeType": "DOM",
               "props": {
                "className": "interact-flex-row-right"
               },
               "type": "node"
              }
             ],
             "instanceArgs": {
              "namespace": "html",
              "tag": "div"
             },
             "nodeType": "DOM",
             "props": {
              "className": "interact-flex-row interact-widget"
             },
             "type": "node"
            }
           ],
           "instanceArgs": {
            "handlers": {
             "changes": [
              "(function (val){return (val!=this.model[\"changes\"]()) ? (this.valueFromJulia[\"changes\"]=true, this.model[\"changes\"](val)) : undefined})"
             ],
             "index": [
              "(function (val){return (val!=this.model[\"index\"]()) ? (this.valueFromJulia[\"index\"]=true, this.model[\"index\"](val)) : undefined})"
             ]
            },
            "id": "2993767085698940474",
            "imports": {
             "data": [
              {
               "name": "knockout",
               "type": "js",
               "url": "/assetserver/b327bb35fde3fdc34a3743cc513d8641da41be57-knockout.js"
              },
              {
               "name": "knockout_punches",
               "type": "js",
               "url": "/assetserver/fafd688372851144045ba947dbd84da3abb05ea8-knockout_punches.js"
              },
              {
               "name": null,
               "type": "js",
               "url": "/assetserver/0951cc8e3859f1a4385b65048fc97362f372e1c3-all.js"
              },
              {
               "name": null,
               "type": "css",
               "url": "/assetserver/0254bcb16087eaf6e9df2fd5de5adc1df098653e-style.css"
              },
              {
               "name": null,
               "type": "css",
               "url": "/assetserver/f84b8fbf74436201659eff389766269ff931e73a-bulma_confined.min.css"
              }
             ],
             "type": "async_block"
            },
            "mount_callbacks": [
             "function () {\n    var handler = (function (ko, koPunches) {\n    ko.punches.enableAll();\n    ko.bindingHandlers.numericValue = {\n        init: function(element, valueAccessor, allBindings, data, context) {\n            var stringified = ko.observable(ko.unwrap(valueAccessor()));\n            stringified.subscribe(function(value) {\n                var val = parseFloat(value);\n                if (!isNaN(val)) {\n                    valueAccessor()(val);\n                }\n            });\n            valueAccessor().subscribe(function(value) {\n                var str = JSON.stringify(value);\n                if ((str == \"0\") && ([\"-0\", \"-0.\"].indexOf(stringified()) >= 0))\n                     return;\n                 if ([\"null\", \"\"].indexOf(str) >= 0)\n                     return;\n                stringified(str);\n            });\n            ko.applyBindingsToNode(\n                element,\n                {\n                    value: stringified,\n                    valueUpdate: allBindings.get('valueUpdate'),\n                },\n                context,\n            );\n        }\n    };\n    var json_data = {\"formatted_vals\":[\"-5.0\",\"-4.9\",\"-4.8\",\"-4.7\",\"-4.6\",\"-4.5\",\"-4.4\",\"-4.3\",\"-4.2\",\"-4.1\",\"-4.0\",\"-3.9\",\"-3.8\",\"-3.7\",\"-3.6\",\"-3.5\",\"-3.4\",\"-3.3\",\"-3.2\",\"-3.1\",\"-3.0\",\"-2.9\",\"-2.8\",\"-2.7\",\"-2.6\",\"-2.5\",\"-2.4\",\"-2.3\",\"-2.2\",\"-2.1\",\"-2.0\",\"-1.9\",\"-1.8\",\"-1.7\",\"-1.6\",\"-1.5\",\"-1.4\",\"-1.3\",\"-1.2\",\"-1.1\",\"-1.0\",\"-0.9\",\"-0.8\",\"-0.7\",\"-0.6\",\"-0.5\",\"-0.4\",\"-0.3\",\"-0.2\",\"-0.1\",\"0.0\",\"0.1\",\"0.2\",\"0.3\",\"0.4\",\"0.5\",\"0.6\",\"0.7\",\"0.8\",\"0.9\",\"1.0\",\"1.1\",\"1.2\",\"1.3\",\"1.4\",\"1.5\",\"1.6\",\"1.7\",\"1.8\",\"1.9\",\"2.0\",\"2.1\",\"2.2\",\"2.3\",\"2.4\",\"2.5\",\"2.6\",\"2.7\",\"2.8\",\"2.9\",\"3.0\",\"3.1\",\"3.2\",\"3.3\",\"3.4\",\"3.5\",\"3.6\",\"3.7\",\"3.8\",\"3.9\",\"4.0\",\"4.1\",\"4.2\",\"4.3\",\"4.4\",\"4.5\",\"4.6\",\"4.7\",\"4.8\",\"4.9\",\"5.0\"],\"changes\":WebIO.getval({\"name\":\"changes\",\"scope\":\"2993767085698940474\",\"id\":\"ob_96\",\"type\":\"observable\"}),\"index\":WebIO.getval({\"name\":\"index\",\"scope\":\"2993767085698940474\",\"id\":\"ob_95\",\"type\":\"observable\"})};\n    var self = this;\n    function AppViewModel() {\n        for (var key in json_data) {\n            var el = json_data[key];\n            this[key] = Array.isArray(el) ? ko.observableArray(el) : ko.observable(el);\n        }\n        \n        [this[\"formatted_val\"]=ko.computed(    function(){\n        return this.formatted_vals()[parseInt(this.index())-(1)];\n    }\n,this)]\n        [this[\"changes\"].subscribe((function (val){!(this.valueFromJulia[\"changes\"]) ? (WebIO.setval({\"name\":\"changes\",\"scope\":\"2993767085698940474\",\"id\":\"ob_96\",\"type\":\"observable\"},val)) : undefined; return this.valueFromJulia[\"changes\"]=false}),self),this[\"index\"].subscribe((function (val){!(this.valueFromJulia[\"index\"]) ? (WebIO.setval({\"name\":\"index\",\"scope\":\"2993767085698940474\",\"id\":\"ob_95\",\"type\":\"observable\"},val)) : undefined; return this.valueFromJulia[\"index\"]=false}),self)]\n        \n    }\n    self.model = new AppViewModel();\n    self.valueFromJulia = {};\n    for (var key in json_data) {\n        self.valueFromJulia[key] = false;\n    }\n    ko.applyBindings(self.model, self.dom);\n}\n);\n    (WebIO.importBlock({\"data\":[{\"name\":\"knockout\",\"type\":\"js\",\"url\":\"/assetserver/b327bb35fde3fdc34a3743cc513d8641da41be57-knockout.js\"},{\"name\":\"knockout_punches\",\"type\":\"js\",\"url\":\"/assetserver/fafd688372851144045ba947dbd84da3abb05ea8-knockout_punches.js\"}],\"type\":\"async_block\"})).then((imports) => handler.apply(this, imports));\n}\n"
            ],
            "observables": {
             "changes": {
              "id": "ob_96",
              "sync": false,
              "value": 0
             },
             "index": {
              "id": "ob_95",
              "sync": true,
              "value": 51
             }
            },
            "systemjs_options": null
           },
           "nodeType": "Scope",
           "props": {},
           "type": "node"
          }
         ],
         "instanceArgs": {
          "namespace": "html",
          "tag": "div"
         },
         "nodeType": "DOM",
         "props": {
          "className": "field interact-widget"
         },
         "type": "node"
        },
        {
         "children": [
          {
           "children": [],
           "instanceArgs": {
            "id": "ob_102",
            "name": "obs-node"
           },
           "nodeType": "ObservableNode",
           "props": {},
           "type": "node"
          }
         ],
         "instanceArgs": {
          "handlers": {},
          "id": "11221241991186515493",
          "imports": {
           "data": [],
           "type": "async_block"
          },
          "mount_callbacks": [],
          "observables": {
           "obs-node": {
            "id": "ob_102",
            "sync": false,
            "value": {
             "children": [
              {
               "children": [],
               "instanceArgs": {
                "namespace": "html",
                "tag": "div"
               },
               "nodeType": "DOM",
               "props": {
                "setInnerHtml": "<?xml version=\"1.0\" encoding=\"utf-8\"?>\n<svg xmlns=\"http://www.w3.org/2000/svg\" xmlns:xlink=\"http://www.w3.org/1999/xlink\" width=\"600\" height=\"400\" viewBox=\"0 0 2400 1600\">\n<defs>\n  <clipPath id=\"clip2600\">\n    <rect x=\"0\" y=\"0\" width=\"2400\" height=\"1600\"/>\n  </clipPath>\n</defs>\n<polygon clip-path=\"url(#clip2600)\" points=\"\n0,1600 2400,1600 2400,0 0,0 \n  \" fill=\"#ffffff\" fill-rule=\"evenodd\" fill-opacity=\"1\"/>\n<defs>\n  <clipPath id=\"clip2601\">\n    <rect x=\"480\" y=\"0\" width=\"1681\" height=\"1600\"/>\n  </clipPath>\n</defs>\n<polygon clip-path=\"url(#clip2600)\" points=\"\n153.898,1487.47 2352.76,1487.47 2352.76,47.2441 153.898,47.2441 \n  \" fill=\"#ffffff\" fill-rule=\"evenodd\" fill-opacity=\"1\"/>\n<defs>\n  <clipPath id=\"clip2602\">\n    <rect x=\"153\" y=\"47\" width=\"2200\" height=\"1441\"/>\n  </clipPath>\n</defs>\n<polyline clip-path=\"url(#clip2602)\" style=\"stroke:#000000; stroke-width:2; stroke-opacity:0.1; fill:none\" points=\"\n  173.795,1487.47 173.795,47.2441 \n  \"/>\n<polyline clip-path=\"url(#clip2602)\" style=\"stroke:#000000; stroke-width:2; stroke-opacity:0.1; fill:none\" points=\"\n  597.141,1487.47 597.141,47.2441 \n  \"/>\n<polyline clip-path=\"url(#clip2602)\" style=\"stroke:#000000; stroke-width:2; stroke-opacity:0.1; fill:none\" points=\"\n  1020.49,1487.47 1020.49,47.2441 \n  \"/>\n<polyline clip-path=\"url(#clip2602)\" style=\"stroke:#000000; stroke-width:2; stroke-opacity:0.1; fill:none\" points=\"\n  1443.83,1487.47 1443.83,47.2441 \n  \"/>\n<polyline clip-path=\"url(#clip2602)\" style=\"stroke:#000000; stroke-width:2; stroke-opacity:0.1; fill:none\" points=\"\n  1867.18,1487.47 1867.18,47.2441 \n  \"/>\n<polyline clip-path=\"url(#clip2602)\" style=\"stroke:#000000; stroke-width:2; stroke-opacity:0.1; fill:none\" points=\"\n  2290.52,1487.47 2290.52,47.2441 \n  \"/>\n<polyline clip-path=\"url(#clip2602)\" style=\"stroke:#000000; stroke-width:2; stroke-opacity:0.1; fill:none\" points=\"\n  153.898,1446.71 2352.76,1446.71 \n  \"/>\n<polyline clip-path=\"url(#clip2602)\" style=\"stroke:#000000; stroke-width:2; stroke-opacity:0.1; fill:none\" points=\"\n  153.898,1119.28 2352.76,1119.28 \n  \"/>\n<polyline clip-path=\"url(#clip2602)\" style=\"stroke:#000000; stroke-width:2; stroke-opacity:0.1; fill:none\" points=\"\n  153.898,791.838 2352.76,791.838 \n  \"/>\n<polyline clip-path=\"url(#clip2602)\" style=\"stroke:#000000; stroke-width:2; stroke-opacity:0.1; fill:none\" points=\"\n  153.898,464.401 2352.76,464.401 \n  \"/>\n<polyline clip-path=\"url(#clip2602)\" style=\"stroke:#000000; stroke-width:2; stroke-opacity:0.1; fill:none\" points=\"\n  153.898,136.963 2352.76,136.963 \n  \"/>\n<polyline clip-path=\"url(#clip2600)\" style=\"stroke:#000000; stroke-width:4; stroke-opacity:1; fill:none\" points=\"\n  153.898,1487.47 2352.76,1487.47 \n  \"/>\n<polyline clip-path=\"url(#clip2600)\" style=\"stroke:#000000; stroke-width:4; stroke-opacity:1; fill:none\" points=\"\n  153.898,1487.47 153.898,47.2441 \n  \"/>\n<polyline clip-path=\"url(#clip2600)\" style=\"stroke:#000000; stroke-width:4; stroke-opacity:1; fill:none\" points=\"\n  173.795,1487.47 173.795,1465.87 \n  \"/>\n<polyline clip-path=\"url(#clip2600)\" style=\"stroke:#000000; stroke-width:4; stroke-opacity:1; fill:none\" points=\"\n  597.141,1487.47 597.141,1465.87 \n  \"/>\n<polyline clip-path=\"url(#clip2600)\" style=\"stroke:#000000; stroke-width:4; stroke-opacity:1; fill:none\" points=\"\n  1020.49,1487.47 1020.49,1465.87 \n  \"/>\n<polyline clip-path=\"url(#clip2600)\" style=\"stroke:#000000; stroke-width:4; stroke-opacity:1; fill:none\" points=\"\n  1443.83,1487.47 1443.83,1465.87 \n  \"/>\n<polyline clip-path=\"url(#clip2600)\" style=\"stroke:#000000; stroke-width:4; stroke-opacity:1; fill:none\" points=\"\n  1867.18,1487.47 1867.18,1465.87 \n  \"/>\n<polyline clip-path=\"url(#clip2600)\" style=\"stroke:#000000; stroke-width:4; stroke-opacity:1; fill:none\" points=\"\n  2290.52,1487.47 2290.52,1465.87 \n  \"/>\n<polyline clip-path=\"url(#clip2600)\" style=\"stroke:#000000; stroke-width:4; stroke-opacity:1; fill:none\" points=\"\n  153.898,1446.71 186.881,1446.71 \n  \"/>\n<polyline clip-path=\"url(#clip2600)\" style=\"stroke:#000000; stroke-width:4; stroke-opacity:1; fill:none\" points=\"\n  153.898,1119.28 186.881,1119.28 \n  \"/>\n<polyline clip-path=\"url(#clip2600)\" style=\"stroke:#000000; stroke-width:4; stroke-opacity:1; fill:none\" points=\"\n  153.898,791.838 186.881,791.838 \n  \"/>\n<polyline clip-path=\"url(#clip2600)\" style=\"stroke:#000000; stroke-width:4; stroke-opacity:1; fill:none\" points=\"\n  153.898,464.401 186.881,464.401 \n  \"/>\n<polyline clip-path=\"url(#clip2600)\" style=\"stroke:#000000; stroke-width:4; stroke-opacity:1; fill:none\" points=\"\n  153.898,136.963 186.881,136.963 \n  \"/>\n<g clip-path=\"url(#clip2600)\">\n<text style=\"fill:#000000; fill-opacity:1; font-family:Arial,Helvetica Neue,Helvetica,sans-serif; font-size:48px; text-anchor:middle;\" transform=\"rotate(0, 173.795, 1541.47)\" x=\"173.795\" y=\"1541.47\">0</text>\n</g>\n<g clip-path=\"url(#clip2600)\">\n<text style=\"fill:#000000; fill-opacity:1; font-family:Arial,Helvetica Neue,Helvetica,sans-serif; font-size:48px; text-anchor:middle;\" transform=\"rotate(0, 597.141, 1541.47)\" x=\"597.141\" y=\"1541.47\">10</text>\n</g>\n<g clip-path=\"url(#clip2600)\">\n<text style=\"fill:#000000; fill-opacity:1; font-family:Arial,Helvetica Neue,Helvetica,sans-serif; font-size:48px; text-anchor:middle;\" transform=\"rotate(0, 1020.49, 1541.47)\" x=\"1020.49\" y=\"1541.47\">20</text>\n</g>\n<g clip-path=\"url(#clip2600)\">\n<text style=\"fill:#000000; fill-opacity:1; font-family:Arial,Helvetica Neue,Helvetica,sans-serif; font-size:48px; text-anchor:middle;\" transform=\"rotate(0, 1443.83, 1541.47)\" x=\"1443.83\" y=\"1541.47\">30</text>\n</g>\n<g clip-path=\"url(#clip2600)\">\n<text style=\"fill:#000000; fill-opacity:1; font-family:Arial,Helvetica Neue,Helvetica,sans-serif; font-size:48px; text-anchor:middle;\" transform=\"rotate(0, 1867.18, 1541.47)\" x=\"1867.18\" y=\"1541.47\">40</text>\n</g>\n<g clip-path=\"url(#clip2600)\">\n<text style=\"fill:#000000; fill-opacity:1; font-family:Arial,Helvetica Neue,Helvetica,sans-serif; font-size:48px; text-anchor:middle;\" transform=\"rotate(0, 2290.52, 1541.47)\" x=\"2290.52\" y=\"1541.47\">50</text>\n</g>\n<g clip-path=\"url(#clip2600)\">\n<text style=\"fill:#000000; fill-opacity:1; font-family:Arial,Helvetica Neue,Helvetica,sans-serif; font-size:48px; text-anchor:end;\" transform=\"rotate(0, 129.898, 1464.21)\" x=\"129.898\" y=\"1464.21\">0.0</text>\n</g>\n<g clip-path=\"url(#clip2600)\">\n<text style=\"fill:#000000; fill-opacity:1; font-family:Arial,Helvetica Neue,Helvetica,sans-serif; font-size:48px; text-anchor:end;\" transform=\"rotate(0, 129.898, 1136.78)\" x=\"129.898\" y=\"1136.78\">0.1</text>\n</g>\n<g clip-path=\"url(#clip2600)\">\n<text style=\"fill:#000000; fill-opacity:1; font-family:Arial,Helvetica Neue,Helvetica,sans-serif; font-size:48px; text-anchor:end;\" transform=\"rotate(0, 129.898, 809.338)\" x=\"129.898\" y=\"809.338\">0.2</text>\n</g>\n<g clip-path=\"url(#clip2600)\">\n<text style=\"fill:#000000; fill-opacity:1; font-family:Arial,Helvetica Neue,Helvetica,sans-serif; font-size:48px; text-anchor:end;\" transform=\"rotate(0, 129.898, 481.901)\" x=\"129.898\" y=\"481.901\">0.3</text>\n</g>\n<g clip-path=\"url(#clip2600)\">\n<text style=\"fill:#000000; fill-opacity:1; font-family:Arial,Helvetica Neue,Helvetica,sans-serif; font-size:48px; text-anchor:end;\" transform=\"rotate(0, 129.898, 154.463)\" x=\"129.898\" y=\"154.463\">0.4</text>\n</g>\n<polyline clip-path=\"url(#clip2602)\" style=\"stroke:#009af9; stroke-width:4; stroke-opacity:1; fill:none\" points=\"\n  216.13,1446.66 258.464,1445.57 300.799,1446.4 343.134,1439.9 385.468,1446.71 427.803,1446.67 470.137,1446.48 512.472,1444.67 554.806,1443.2 597.141,1442.01 \n  639.476,1445.33 681.81,1431 724.145,1446.71 766.479,1441.74 808.814,1446.71 851.148,1370.9 893.483,1407.99 935.818,1394.17 978.152,1446.71 1020.49,1446.71 \n  1062.82,1446.71 1105.16,1446.71 1147.49,88.0053 1189.83,1446.71 1232.16,1446.71 1274.49,724.974 1316.83,1446.71 1359.16,1446.71 1401.5,1444.3 1443.83,1445.98 \n  1486.17,1440.43 1528.5,1435.96 1570.84,1446.71 1613.17,1446.62 1655.51,1445.31 1697.84,1443.61 1740.17,1446.47 1782.51,1446.7 1824.84,1441.46 1867.18,1445.64 \n  1909.51,1444.41 1951.85,1445.06 1994.18,1444.28 2036.52,1445.53 2078.85,1350.61 2121.19,1339.71 2163.52,1325.62 2205.85,1306.1 2248.19,1278.51 2290.52,1132.76 \n  \n  \"/>\n<polygon clip-path=\"url(#clip2600)\" points=\"\n1973.85,251.724 2280.76,251.724 2280.76,130.764 1973.85,130.764 \n  \" fill=\"#ffffff\" fill-rule=\"evenodd\" fill-opacity=\"1\"/>\n<polyline clip-path=\"url(#clip2600)\" style=\"stroke:#000000; stroke-width:4; stroke-opacity:1; fill:none\" points=\"\n  1973.85,251.724 2280.76,251.724 2280.76,130.764 1973.85,130.764 1973.85,251.724 \n  \"/>\n<polyline clip-path=\"url(#clip2600)\" style=\"stroke:#009af9; stroke-width:4; stroke-opacity:1; fill:none\" points=\"\n  1997.85,191.244 2141.85,191.244 \n  \"/>\n<g clip-path=\"url(#clip2600)\">\n<text style=\"fill:#000000; fill-opacity:1; font-family:Arial,Helvetica Neue,Helvetica,sans-serif; font-size:48px; text-anchor:start;\" transform=\"rotate(0, 2165.85, 208.744)\" x=\"2165.85\" y=\"208.744\">0.0</text>\n</g>\n</svg>\n"
               },
               "type": "node"
              }
             ],
             "instanceArgs": {
              "namespace": "html",
              "tag": "div"
             },
             "nodeType": "DOM",
             "props": {
              "className": "interact-flex-row interact-widget"
             },
             "type": "node"
            }
           }
          },
          "systemjs_options": null
         },
         "nodeType": "Scope",
         "props": {},
         "type": "node"
        }
       ],
       "instanceArgs": {
        "namespace": "html",
        "tag": "div"
       },
       "nodeType": "DOM",
       "props": {},
       "type": "node"
      },
      "text/html": [
       "<div\n",
       "    class=\"webio-mountpoint\"\n",
       "    data-webio-mountpoint=\"528560413065605092\"\n",
       ">\n",
       "    <script>\n",
       "    if (window.require && require.defined && require.defined(\"nbextensions/webio-jupyter-notebook\")) {\n",
       "        console.log(\"Jupyter WebIO extension detected, not mounting.\");\n",
       "    } else if (window.WebIO) {\n",
       "        WebIO.mount(\n",
       "            document.querySelector('[data-webio-mountpoint=\"528560413065605092\"]'),\n",
       "            {\"props\":{},\"nodeType\":\"DOM\",\"type\":\"node\",\"instanceArgs\":{\"namespace\":\"html\",\"tag\":\"div\"},\"children\":[{\"props\":{\"className\":\"field interact-widget\"},\"nodeType\":\"DOM\",\"type\":\"node\",\"instanceArgs\":{\"namespace\":\"html\",\"tag\":\"div\"},\"children\":[{\"props\":{},\"nodeType\":\"Scope\",\"type\":\"node\",\"instanceArgs\":{\"imports\":{\"data\":[{\"name\":\"knockout\",\"type\":\"js\",\"url\":\"\\/assetserver\\/b327bb35fde3fdc34a3743cc513d8641da41be57-knockout.js\"},{\"name\":\"knockout_punches\",\"type\":\"js\",\"url\":\"\\/assetserver\\/fafd688372851144045ba947dbd84da3abb05ea8-knockout_punches.js\"},{\"name\":null,\"type\":\"js\",\"url\":\"\\/assetserver\\/0951cc8e3859f1a4385b65048fc97362f372e1c3-all.js\"},{\"name\":null,\"type\":\"css\",\"url\":\"\\/assetserver\\/0254bcb16087eaf6e9df2fd5de5adc1df098653e-style.css\"},{\"name\":null,\"type\":\"css\",\"url\":\"\\/assetserver\\/f84b8fbf74436201659eff389766269ff931e73a-bulma_confined.min.css\"}],\"type\":\"async_block\"},\"id\":\"2993767085698940474\",\"handlers\":{\"changes\":[\"(function (val){return (val!=this.model[\\\"changes\\\"]()) ? (this.valueFromJulia[\\\"changes\\\"]=true, this.model[\\\"changes\\\"](val)) : undefined})\"],\"index\":[\"(function (val){return (val!=this.model[\\\"index\\\"]()) ? (this.valueFromJulia[\\\"index\\\"]=true, this.model[\\\"index\\\"](val)) : undefined})\"]},\"systemjs_options\":null,\"mount_callbacks\":[\"function () {\\n    var handler = (function (ko, koPunches) {\\n    ko.punches.enableAll();\\n    ko.bindingHandlers.numericValue = {\\n        init: function(element, valueAccessor, allBindings, data, context) {\\n            var stringified = ko.observable(ko.unwrap(valueAccessor()));\\n            stringified.subscribe(function(value) {\\n                var val = parseFloat(value);\\n                if (!isNaN(val)) {\\n                    valueAccessor()(val);\\n                }\\n            });\\n            valueAccessor().subscribe(function(value) {\\n                var str = JSON.stringify(value);\\n                if ((str == \\\"0\\\") && ([\\\"-0\\\", \\\"-0.\\\"].indexOf(stringified()) >= 0))\\n                     return;\\n                 if ([\\\"null\\\", \\\"\\\"].indexOf(str) >= 0)\\n                     return;\\n                stringified(str);\\n            });\\n            ko.applyBindingsToNode(\\n                element,\\n                {\\n                    value: stringified,\\n                    valueUpdate: allBindings.get('valueUpdate'),\\n                },\\n                context,\\n            );\\n        }\\n    };\\n    var json_data = {\\\"formatted_vals\\\":[\\\"-5.0\\\",\\\"-4.9\\\",\\\"-4.8\\\",\\\"-4.7\\\",\\\"-4.6\\\",\\\"-4.5\\\",\\\"-4.4\\\",\\\"-4.3\\\",\\\"-4.2\\\",\\\"-4.1\\\",\\\"-4.0\\\",\\\"-3.9\\\",\\\"-3.8\\\",\\\"-3.7\\\",\\\"-3.6\\\",\\\"-3.5\\\",\\\"-3.4\\\",\\\"-3.3\\\",\\\"-3.2\\\",\\\"-3.1\\\",\\\"-3.0\\\",\\\"-2.9\\\",\\\"-2.8\\\",\\\"-2.7\\\",\\\"-2.6\\\",\\\"-2.5\\\",\\\"-2.4\\\",\\\"-2.3\\\",\\\"-2.2\\\",\\\"-2.1\\\",\\\"-2.0\\\",\\\"-1.9\\\",\\\"-1.8\\\",\\\"-1.7\\\",\\\"-1.6\\\",\\\"-1.5\\\",\\\"-1.4\\\",\\\"-1.3\\\",\\\"-1.2\\\",\\\"-1.1\\\",\\\"-1.0\\\",\\\"-0.9\\\",\\\"-0.8\\\",\\\"-0.7\\\",\\\"-0.6\\\",\\\"-0.5\\\",\\\"-0.4\\\",\\\"-0.3\\\",\\\"-0.2\\\",\\\"-0.1\\\",\\\"0.0\\\",\\\"0.1\\\",\\\"0.2\\\",\\\"0.3\\\",\\\"0.4\\\",\\\"0.5\\\",\\\"0.6\\\",\\\"0.7\\\",\\\"0.8\\\",\\\"0.9\\\",\\\"1.0\\\",\\\"1.1\\\",\\\"1.2\\\",\\\"1.3\\\",\\\"1.4\\\",\\\"1.5\\\",\\\"1.6\\\",\\\"1.7\\\",\\\"1.8\\\",\\\"1.9\\\",\\\"2.0\\\",\\\"2.1\\\",\\\"2.2\\\",\\\"2.3\\\",\\\"2.4\\\",\\\"2.5\\\",\\\"2.6\\\",\\\"2.7\\\",\\\"2.8\\\",\\\"2.9\\\",\\\"3.0\\\",\\\"3.1\\\",\\\"3.2\\\",\\\"3.3\\\",\\\"3.4\\\",\\\"3.5\\\",\\\"3.6\\\",\\\"3.7\\\",\\\"3.8\\\",\\\"3.9\\\",\\\"4.0\\\",\\\"4.1\\\",\\\"4.2\\\",\\\"4.3\\\",\\\"4.4\\\",\\\"4.5\\\",\\\"4.6\\\",\\\"4.7\\\",\\\"4.8\\\",\\\"4.9\\\",\\\"5.0\\\"],\\\"changes\\\":WebIO.getval({\\\"name\\\":\\\"changes\\\",\\\"scope\\\":\\\"2993767085698940474\\\",\\\"id\\\":\\\"ob_96\\\",\\\"type\\\":\\\"observable\\\"}),\\\"index\\\":WebIO.getval({\\\"name\\\":\\\"index\\\",\\\"scope\\\":\\\"2993767085698940474\\\",\\\"id\\\":\\\"ob_95\\\",\\\"type\\\":\\\"observable\\\"})};\\n    var self = this;\\n    function AppViewModel() {\\n        for (var key in json_data) {\\n            var el = json_data[key];\\n            this[key] = Array.isArray(el) ? ko.observableArray(el) : ko.observable(el);\\n        }\\n        \\n        [this[\\\"formatted_val\\\"]=ko.computed(    function(){\\n        return this.formatted_vals()[parseInt(this.index())-(1)];\\n    }\\n,this)]\\n        [this[\\\"changes\\\"].subscribe((function (val){!(this.valueFromJulia[\\\"changes\\\"]) ? (WebIO.setval({\\\"name\\\":\\\"changes\\\",\\\"scope\\\":\\\"2993767085698940474\\\",\\\"id\\\":\\\"ob_96\\\",\\\"type\\\":\\\"observable\\\"},val)) : undefined; return this.valueFromJulia[\\\"changes\\\"]=false}),self),this[\\\"index\\\"].subscribe((function (val){!(this.valueFromJulia[\\\"index\\\"]) ? (WebIO.setval({\\\"name\\\":\\\"index\\\",\\\"scope\\\":\\\"2993767085698940474\\\",\\\"id\\\":\\\"ob_95\\\",\\\"type\\\":\\\"observable\\\"},val)) : undefined; return this.valueFromJulia[\\\"index\\\"]=false}),self)]\\n        \\n    }\\n    self.model = new AppViewModel();\\n    self.valueFromJulia = {};\\n    for (var key in json_data) {\\n        self.valueFromJulia[key] = false;\\n    }\\n    ko.applyBindings(self.model, self.dom);\\n}\\n);\\n    (WebIO.importBlock({\\\"data\\\":[{\\\"name\\\":\\\"knockout\\\",\\\"type\\\":\\\"js\\\",\\\"url\\\":\\\"\\/assetserver\\/b327bb35fde3fdc34a3743cc513d8641da41be57-knockout.js\\\"},{\\\"name\\\":\\\"knockout_punches\\\",\\\"type\\\":\\\"js\\\",\\\"url\\\":\\\"\\/assetserver\\/fafd688372851144045ba947dbd84da3abb05ea8-knockout_punches.js\\\"}],\\\"type\\\":\\\"async_block\\\"})).then((imports) => handler.apply(this, imports));\\n}\\n\"],\"observables\":{\"changes\":{\"sync\":false,\"id\":\"ob_96\",\"value\":0},\"index\":{\"sync\":true,\"id\":\"ob_95\",\"value\":51}}},\"children\":[{\"props\":{\"className\":\"interact-flex-row interact-widget\"},\"nodeType\":\"DOM\",\"type\":\"node\",\"instanceArgs\":{\"namespace\":\"html\",\"tag\":\"div\"},\"children\":[{\"props\":{\"className\":\"interact-flex-row-left\"},\"nodeType\":\"DOM\",\"type\":\"node\",\"instanceArgs\":{\"namespace\":\"html\",\"tag\":\"div\"},\"children\":[{\"props\":{\"className\":\"interact \",\"style\":{\"padding\":\"5px 10px 0px 10px\"}},\"nodeType\":\"DOM\",\"type\":\"node\",\"instanceArgs\":{\"namespace\":\"html\",\"tag\":\"label\"},\"children\":[\"s\"]}]},{\"props\":{\"className\":\"interact-flex-row-center\"},\"nodeType\":\"DOM\",\"type\":\"node\",\"instanceArgs\":{\"namespace\":\"html\",\"tag\":\"div\"},\"children\":[{\"props\":{\"max\":101,\"min\":1,\"attributes\":{\"type\":\"range\",\"data-bind\":\"numericValue: index, valueUpdate: 'input', event: {change: function (){this.changes(this.changes()+1)}}\",\"orient\":\"horizontal\"},\"step\":1,\"className\":\"slider slider is-fullwidth\",\"style\":{}},\"nodeType\":\"DOM\",\"type\":\"node\",\"instanceArgs\":{\"namespace\":\"html\",\"tag\":\"input\"},\"children\":[]}]},{\"props\":{\"className\":\"interact-flex-row-right\"},\"nodeType\":\"DOM\",\"type\":\"node\",\"instanceArgs\":{\"namespace\":\"html\",\"tag\":\"div\"},\"children\":[{\"props\":{\"attributes\":{\"data-bind\":\"text: formatted_val\"}},\"nodeType\":\"DOM\",\"type\":\"node\",\"instanceArgs\":{\"namespace\":\"html\",\"tag\":\"p\"},\"children\":[]}]}]}]}]},{\"props\":{},\"nodeType\":\"Scope\",\"type\":\"node\",\"instanceArgs\":{\"imports\":{\"data\":[],\"type\":\"async_block\"},\"id\":\"10179749162622126765\",\"handlers\":{},\"systemjs_options\":null,\"mount_callbacks\":[],\"observables\":{\"obs-node\":{\"sync\":false,\"id\":\"ob_100\",\"value\":{\"props\":{\"className\":\"interact-flex-row interact-widget\"},\"nodeType\":\"DOM\",\"type\":\"node\",\"instanceArgs\":{\"namespace\":\"html\",\"tag\":\"div\"},\"children\":[{\"props\":{\"setInnerHtml\":\"<?xml version=\\\"1.0\\\" encoding=\\\"utf-8\\\"?>\\n<svg xmlns=\\\"http:\\/\\/www.w3.org\\/2000\\/svg\\\" xmlns:xlink=\\\"http:\\/\\/www.w3.org\\/1999\\/xlink\\\" width=\\\"600\\\" height=\\\"400\\\" viewBox=\\\"0 0 2400 1600\\\">\\n<defs>\\n  <clipPath id=\\\"clip2200\\\">\\n    <rect x=\\\"0\\\" y=\\\"0\\\" width=\\\"2400\\\" height=\\\"1600\\\"\\/>\\n  <\\/clipPath>\\n<\\/defs>\\n<polygon clip-path=\\\"url(#clip2200)\\\" points=\\\"\\n0,1600 2400,1600 2400,0 0,0 \\n  \\\" fill=\\\"#ffffff\\\" fill-rule=\\\"evenodd\\\" fill-opacity=\\\"1\\\"\\/>\\n<defs>\\n  <clipPath id=\\\"clip2201\\\">\\n    <rect x=\\\"480\\\" y=\\\"0\\\" width=\\\"1681\\\" height=\\\"1600\\\"\\/>\\n  <\\/clipPath>\\n<\\/defs>\\n<polygon clip-path=\\\"url(#clip2200)\\\" points=\\\"\\n153.898,1487.47 2352.76,1487.47 2352.76,47.2441 153.898,47.2441 \\n  \\\" fill=\\\"#ffffff\\\" fill-rule=\\\"evenodd\\\" fill-opacity=\\\"1\\\"\\/>\\n<defs>\\n  <clipPath id=\\\"clip2202\\\">\\n    <rect x=\\\"153\\\" y=\\\"47\\\" width=\\\"2200\\\" height=\\\"1441\\\"\\/>\\n  <\\/clipPath>\\n<\\/defs>\\n<polyline clip-path=\\\"url(#clip2202)\\\" style=\\\"stroke:#000000; stroke-width:2; stroke-opacity:0.1; fill:none\\\" points=\\\"\\n  173.795,1487.47 173.795,47.2441 \\n  \\\"\\/>\\n<polyline clip-path=\\\"url(#clip2202)\\\" style=\\\"stroke:#000000; stroke-width:2; stroke-opacity:0.1; fill:none\\\" points=\\\"\\n  597.141,1487.47 597.141,47.2441 \\n  \\\"\\/>\\n<polyline clip-path=\\\"url(#clip2202)\\\" style=\\\"stroke:#000000; stroke-width:2; stroke-opacity:0.1; fill:none\\\" points=\\\"\\n  1020.49,1487.47 1020.49,47.2441 \\n  \\\"\\/>\\n<polyline clip-path=\\\"url(#clip2202)\\\" style=\\\"stroke:#000000; stroke-width:2; stroke-opacity:0.1; fill:none\\\" points=\\\"\\n  1443.83,1487.47 1443.83,47.2441 \\n  \\\"\\/>\\n<polyline clip-path=\\\"url(#clip2202)\\\" style=\\\"stroke:#000000; stroke-width:2; stroke-opacity:0.1; fill:none\\\" points=\\\"\\n  1867.18,1487.47 1867.18,47.2441 \\n  \\\"\\/>\\n<polyline clip-path=\\\"url(#clip2202)\\\" style=\\\"stroke:#000000; stroke-width:2; stroke-opacity:0.1; fill:none\\\" points=\\\"\\n  2290.52,1487.47 2290.52,47.2441 \\n  \\\"\\/>\\n<polyline clip-path=\\\"url(#clip2202)\\\" style=\\\"stroke:#000000; stroke-width:2; stroke-opacity:0.1; fill:none\\\" points=\\\"\\n  153.898,1446.71 2352.76,1446.71 \\n  \\\"\\/>\\n<polyline clip-path=\\\"url(#clip2202)\\\" style=\\\"stroke:#000000; stroke-width:2; stroke-opacity:0.1; fill:none\\\" points=\\\"\\n  153.898,1119.28 2352.76,1119.28 \\n  \\\"\\/>\\n<polyline clip-path=\\\"url(#clip2202)\\\" style=\\\"stroke:#000000; stroke-width:2; stroke-opacity:0.1; fill:none\\\" points=\\\"\\n  153.898,791.838 2352.76,791.838 \\n  \\\"\\/>\\n<polyline clip-path=\\\"url(#clip2202)\\\" style=\\\"stroke:#000000; stroke-width:2; stroke-opacity:0.1; fill:none\\\" points=\\\"\\n  153.898,464.401 2352.76,464.401 \\n  \\\"\\/>\\n<polyline clip-path=\\\"url(#clip2202)\\\" style=\\\"stroke:#000000; stroke-width:2; stroke-opacity:0.1; fill:none\\\" points=\\\"\\n  153.898,136.963 2352.76,136.963 \\n  \\\"\\/>\\n<polyline clip-path=\\\"url(#clip2200)\\\" style=\\\"stroke:#000000; stroke-width:4; stroke-opacity:1; fill:none\\\" points=\\\"\\n  153.898,1487.47 2352.76,1487.47 \\n  \\\"\\/>\\n<polyline clip-path=\\\"url(#clip2200)\\\" style=\\\"stroke:#000000; stroke-width:4; stroke-opacity:1; fill:none\\\" points=\\\"\\n  153.898,1487.47 153.898,47.2441 \\n  \\\"\\/>\\n<polyline clip-path=\\\"url(#clip2200)\\\" style=\\\"stroke:#000000; stroke-width:4; stroke-opacity:1; fill:none\\\" points=\\\"\\n  173.795,1487.47 173.795,1465.87 \\n  \\\"\\/>\\n<polyline clip-path=\\\"url(#clip2200)\\\" style=\\\"stroke:#000000; stroke-width:4; stroke-opacity:1; fill:none\\\" points=\\\"\\n  597.141,1487.47 597.141,1465.87 \\n  \\\"\\/>\\n<polyline clip-path=\\\"url(#clip2200)\\\" style=\\\"stroke:#000000; stroke-width:4; stroke-opacity:1; fill:none\\\" points=\\\"\\n  1020.49,1487.47 1020.49,1465.87 \\n  \\\"\\/>\\n<polyline clip-path=\\\"url(#clip2200)\\\" style=\\\"stroke:#000000; stroke-width:4; stroke-opacity:1; fill:none\\\" points=\\\"\\n  1443.83,1487.47 1443.83,1465.87 \\n  \\\"\\/>\\n<polyline clip-path=\\\"url(#clip2200)\\\" style=\\\"stroke:#000000; stroke-width:4; stroke-opacity:1; fill:none\\\" points=\\\"\\n  1867.18,1487.47 1867.18,1465.87 \\n  \\\"\\/>\\n<polyline clip-path=\\\"url(#clip2200)\\\" style=\\\"stroke:#000000; stroke-width:4; stroke-opacity:1; fill:none\\\" points=\\\"\\n  2290.52,1487.47 2290.52,1465.87 \\n  \\\"\\/>\\n<polyline clip-path=\\\"url(#clip2200)\\\" style=\\\"stroke:#000000; stroke-width:4; stroke-opacity:1; fill:none\\\" points=\\\"\\n  153.898,1446.71 186.881,1446.71 \\n  \\\"\\/>\\n<polyline clip-path=\\\"url(#clip2200)\\\" style=\\\"stroke:#000000; stroke-width:4; stroke-opacity:1; fill:none\\\" points=\\\"\\n  153.898,1119.28 186.881,1119.28 \\n  \\\"\\/>\\n<polyline clip-path=\\\"url(#clip2200)\\\" style=\\\"stroke:#000000; stroke-width:4; stroke-opacity:1; fill:none\\\" points=\\\"\\n  153.898,791.838 186.881,791.838 \\n  \\\"\\/>\\n<polyline clip-path=\\\"url(#clip2200)\\\" style=\\\"stroke:#000000; stroke-width:4; stroke-opacity:1; fill:none\\\" points=\\\"\\n  153.898,464.401 186.881,464.401 \\n  \\\"\\/>\\n<polyline clip-path=\\\"url(#clip2200)\\\" style=\\\"stroke:#000000; stroke-width:4; stroke-opacity:1; fill:none\\\" points=\\\"\\n  153.898,136.963 186.881,136.963 \\n  \\\"\\/>\\n<g clip-path=\\\"url(#clip2200)\\\">\\n<text style=\\\"fill:#000000; fill-opacity:1; font-family:Arial,Helvetica Neue,Helvetica,sans-serif; font-size:48px; text-anchor:middle;\\\" transform=\\\"rotate(0, 173.795, 1541.47)\\\" x=\\\"173.795\\\" y=\\\"1541.47\\\">0<\\/text>\\n<\\/g>\\n<g clip-path=\\\"url(#clip2200)\\\">\\n<text style=\\\"fill:#000000; fill-opacity:1; font-family:Arial,Helvetica Neue,Helvetica,sans-serif; font-size:48px; text-anchor:middle;\\\" transform=\\\"rotate(0, 597.141, 1541.47)\\\" x=\\\"597.141\\\" y=\\\"1541.47\\\">10<\\/text>\\n<\\/g>\\n<g clip-path=\\\"url(#clip2200)\\\">\\n<text style=\\\"fill:#000000; fill-opacity:1; font-family:Arial,Helvetica Neue,Helvetica,sans-serif; font-size:48px; text-anchor:middle;\\\" transform=\\\"rotate(0, 1020.49, 1541.47)\\\" x=\\\"1020.49\\\" y=\\\"1541.47\\\">20<\\/text>\\n<\\/g>\\n<g clip-path=\\\"url(#clip2200)\\\">\\n<text style=\\\"fill:#000000; fill-opacity:1; font-family:Arial,Helvetica Neue,Helvetica,sans-serif; font-size:48px; text-anchor:middle;\\\" transform=\\\"rotate(0, 1443.83, 1541.47)\\\" x=\\\"1443.83\\\" y=\\\"1541.47\\\">30<\\/text>\\n<\\/g>\\n<g clip-path=\\\"url(#clip2200)\\\">\\n<text style=\\\"fill:#000000; fill-opacity:1; font-family:Arial,Helvetica Neue,Helvetica,sans-serif; font-size:48px; text-anchor:middle;\\\" transform=\\\"rotate(0, 1867.18, 1541.47)\\\" x=\\\"1867.18\\\" y=\\\"1541.47\\\">40<\\/text>\\n<\\/g>\\n<g clip-path=\\\"url(#clip2200)\\\">\\n<text style=\\\"fill:#000000; fill-opacity:1; font-family:Arial,Helvetica Neue,Helvetica,sans-serif; font-size:48px; text-anchor:middle;\\\" transform=\\\"rotate(0, 2290.52, 1541.47)\\\" x=\\\"2290.52\\\" y=\\\"1541.47\\\">50<\\/text>\\n<\\/g>\\n<g clip-path=\\\"url(#clip2200)\\\">\\n<text style=\\\"fill:#000000; fill-opacity:1; font-family:Arial,Helvetica Neue,Helvetica,sans-serif; font-size:48px; text-anchor:end;\\\" transform=\\\"rotate(0, 129.898, 1464.21)\\\" x=\\\"129.898\\\" y=\\\"1464.21\\\">0.0<\\/text>\\n<\\/g>\\n<g clip-path=\\\"url(#clip2200)\\\">\\n<text style=\\\"fill:#000000; fill-opacity:1; font-family:Arial,Helvetica Neue,Helvetica,sans-serif; font-size:48px; text-anchor:end;\\\" transform=\\\"rotate(0, 129.898, 1136.78)\\\" x=\\\"129.898\\\" y=\\\"1136.78\\\">0.1<\\/text>\\n<\\/g>\\n<g clip-path=\\\"url(#clip2200)\\\">\\n<text style=\\\"fill:#000000; fill-opacity:1; font-family:Arial,Helvetica Neue,Helvetica,sans-serif; font-size:48px; text-anchor:end;\\\" transform=\\\"rotate(0, 129.898, 809.338)\\\" x=\\\"129.898\\\" y=\\\"809.338\\\">0.2<\\/text>\\n<\\/g>\\n<g clip-path=\\\"url(#clip2200)\\\">\\n<text style=\\\"fill:#000000; fill-opacity:1; font-family:Arial,Helvetica Neue,Helvetica,sans-serif; font-size:48px; text-anchor:end;\\\" transform=\\\"rotate(0, 129.898, 481.901)\\\" x=\\\"129.898\\\" y=\\\"481.901\\\">0.3<\\/text>\\n<\\/g>\\n<g clip-path=\\\"url(#clip2200)\\\">\\n<text style=\\\"fill:#000000; fill-opacity:1; font-family:Arial,Helvetica Neue,Helvetica,sans-serif; font-size:48px; text-anchor:end;\\\" transform=\\\"rotate(0, 129.898, 154.463)\\\" x=\\\"129.898\\\" y=\\\"154.463\\\">0.4<\\/text>\\n<\\/g>\\n<polyline clip-path=\\\"url(#clip2202)\\\" style=\\\"stroke:#009af9; stroke-width:4; stroke-opacity:1; fill:none\\\" points=\\\"\\n  216.13,1446.66 258.464,1445.57 300.799,1446.4 343.134,1439.9 385.468,1446.71 427.803,1446.67 470.137,1446.48 512.472,1444.67 554.806,1443.2 597.141,1442.01 \\n  639.476,1445.33 681.81,1431 724.145,1446.71 766.479,1441.74 808.814,1446.71 851.148,1370.9 893.483,1407.99 935.818,1394.17 978.152,1446.71 1020.49,1446.71 \\n  1062.82,1446.71 1105.16,1446.71 1147.49,88.0053 1189.83,1446.71 1232.16,1446.71 1274.49,724.974 1316.83,1446.71 1359.16,1446.71 1401.5,1444.3 1443.83,1445.98 \\n  1486.17,1440.43 1528.5,1435.96 1570.84,1446.71 1613.17,1446.62 1655.51,1445.31 1697.84,1443.61 1740.17,1446.47 1782.51,1446.7 1824.84,1441.46 1867.18,1445.64 \\n  1909.51,1444.41 1951.85,1445.06 1994.18,1444.28 2036.52,1445.53 2078.85,1350.61 2121.19,1339.71 2163.52,1325.62 2205.85,1306.1 2248.19,1278.51 2290.52,1132.76 \\n  \\n  \\\"\\/>\\n<polygon clip-path=\\\"url(#clip2200)\\\" points=\\\"\\n1973.85,251.724 2280.76,251.724 2280.76,130.764 1973.85,130.764 \\n  \\\" fill=\\\"#ffffff\\\" fill-rule=\\\"evenodd\\\" fill-opacity=\\\"1\\\"\\/>\\n<polyline clip-path=\\\"url(#clip2200)\\\" style=\\\"stroke:#000000; stroke-width:4; stroke-opacity:1; fill:none\\\" points=\\\"\\n  1973.85,251.724 2280.76,251.724 2280.76,130.764 1973.85,130.764 1973.85,251.724 \\n  \\\"\\/>\\n<polyline clip-path=\\\"url(#clip2200)\\\" style=\\\"stroke:#009af9; stroke-width:4; stroke-opacity:1; fill:none\\\" points=\\\"\\n  1997.85,191.244 2141.85,191.244 \\n  \\\"\\/>\\n<g clip-path=\\\"url(#clip2200)\\\">\\n<text style=\\\"fill:#000000; fill-opacity:1; font-family:Arial,Helvetica Neue,Helvetica,sans-serif; font-size:48px; text-anchor:start;\\\" transform=\\\"rotate(0, 2165.85, 208.744)\\\" x=\\\"2165.85\\\" y=\\\"208.744\\\">0.0<\\/text>\\n<\\/g>\\n<\\/svg>\\n\"},\"nodeType\":\"DOM\",\"type\":\"node\",\"instanceArgs\":{\"namespace\":\"html\",\"tag\":\"div\"},\"children\":[]}]}}}},\"children\":[{\"props\":{},\"nodeType\":\"ObservableNode\",\"type\":\"node\",\"instanceArgs\":{\"id\":\"ob_100\",\"name\":\"obs-node\"},\"children\":[]}]}]},\n",
       "            window,\n",
       "        );\n",
       "    } else {\n",
       "        document\n",
       "            .querySelector('[data-webio-mountpoint=\"528560413065605092\"]')\n",
       "            .innerHTML = (\n",
       "                '<strong>WebIO not detected. Please read ' +\n",
       "                '<a href=\"https://juliagizmos.github.io/WebIO.jl/latest/troubleshooting/not-detected/\">the troubleshooting guide</a> ' +\n",
       "                'for more information on how to resolve this issue.' +\n",
       "                '</strong>'\n",
       "            );\n",
       "    }\n",
       "    </script>\n",
       "</div>\n"
      ],
      "text/plain": [
       "Node{WebIO.DOM}(WebIO.DOM(:html, :div), Any[Node{WebIO.DOM}(WebIO.DOM(:html, :div), Any[Scope(Node{WebIO.DOM}(WebIO.DOM(:html, :div), Any[Node{WebIO.DOM}(WebIO.DOM(:html, :div), Any[Node{WebIO.DOM}(WebIO.DOM(:html, :label), Any[\"s\"], Dict{Symbol,Any}(:className => \"interact \",:style => Dict{Any,Any}(:padding => \"5px 10px 0px 10px\")))], Dict{Symbol,Any}(:className => \"interact-flex-row-left\")), Node{WebIO.DOM}(WebIO.DOM(:html, :div), Any[Node{WebIO.DOM}(WebIO.DOM(:html, :input), Any[], Dict{Symbol,Any}(:max => 101,:min => 1,:attributes => Dict{Any,Any}(:type => \"range\",Symbol(\"data-bind\") => \"numericValue: index, valueUpdate: 'input', event: {change: function (){this.changes(this.changes()+1)}}\",\"orient\" => \"horizontal\"),:step => 1,:className => \"slider slider is-fullwidth\",:style => Dict{Any,Any}()))], Dict{Symbol,Any}(:className => \"interact-flex-row-center\")), Node{WebIO.DOM}(WebIO.DOM(:html, :div), Any[Node{WebIO.DOM}(WebIO.DOM(:html, :p), Any[], Dict{Symbol,Any}(:attributes => Dict(\"data-bind\" => \"text: formatted_val\")))], Dict{Symbol,Any}(:className => \"interact-flex-row-right\"))], Dict{Symbol,Any}(:className => \"interact-flex-row interact-widget\")), Dict{String,Tuple{Observables.AbstractObservable,Union{Nothing, Bool}}}(\"changes\" => (Observable{Int64} with 1 listeners. Value:\n",
       "0, nothing),\"index\" => (Observable{Any} with 2 listeners. Value:\n",
       "51, nothing)), Set(String[]), nothing, Asset[Asset(\"js\", \"knockout\", \"/Users/edelman/.julia/packages/Knockout/1sDlc/src/../assets/knockout.js\"), Asset(\"js\", \"knockout_punches\", \"/Users/edelman/.julia/packages/Knockout/1sDlc/src/../assets/knockout_punches.js\"), Asset(\"js\", nothing, \"/Users/edelman/.julia/packages/InteractBase/9mFwe/src/../assets/all.js\"), Asset(\"css\", nothing, \"/Users/edelman/.julia/packages/InteractBase/9mFwe/src/../assets/style.css\"), Asset(\"css\", nothing, \"/Users/edelman/.julia/packages/Interact/SbgIk/src/../assets/bulma_confined.min.css\")], Dict{Any,Any}(\"changes\" => Any[WebIO.JSString(\"(function (val){return (val!=this.model[\\\"changes\\\"]()) ? (this.valueFromJulia[\\\"changes\\\"]=true, this.model[\\\"changes\\\"](val)) : undefined})\")],\"index\" => Any[WebIO.JSString(\"(function (val){return (val!=this.model[\\\"index\\\"]()) ? (this.valueFromJulia[\\\"index\\\"]=true, this.model[\\\"index\\\"](val)) : undefined})\")]), WebIO.ConnectionPool(Channel{Any}(sz_max:32,sz_curr:0), Set(AbstractConnection[]), Base.GenericCondition{Base.AlwaysLockedST}(Base.InvasiveLinkedList{Task}(Task (runnable) @0x0000000129eefcd0, Task (runnable) @0x0000000129eefcd0), Base.AlwaysLockedST(1))), WebIO.JSString[WebIO.JSString(\"function () {\\n    var handler = (function (ko, koPunches) {\\n    ko.punches.enableAll();\\n    ko.bindingHandlers.numericValue = {\\n        init: function(element, valueAccessor, allBindings, data, context) {\\n            var stringified = ko.observable(ko.unwrap(valueAccessor()));\\n            stringified.subscribe(function(value) {\\n                var val = parseFloat(value);\\n                if (!isNaN(val)) {\\n                    valueAccessor()(val);\\n                }\\n            });\\n            valueAccessor().subscribe(function(value) {\\n                var str = JSON.stringify(value);\\n                if ((str == \\\"0\\\") && ([\\\"-0\\\", \\\"-0.\\\"].indexOf(stringified()) >= 0))\\n                     return;\\n                 if ([\\\"null\\\", \\\"\\\"].indexOf(str) >= 0)\\n                     return;\\n                stringified(str);\\n            });\\n            ko.applyBindingsToNode(\\n                element,\\n                {\\n                    value: stringified,\\n                    valueUpdate: allBindings.get('valueUpdate'),\\n                },\\n                context,\\n            );\\n        }\\n    };\\n    var json_data = {\\\"formatted_vals\\\":[\\\"-5.0\\\",\\\"-4.9\\\",\\\"-4.8\\\",\\\"-4.7\\\",\\\"-4.6\\\",\\\"-4.5\\\",\\\"-4.4\\\",\\\"-4.3\\\",\\\"-4.2\\\",\\\"-4.1\\\",\\\"-4.0\\\",\\\"-3.9\\\",\\\"-3.8\\\",\\\"-3.7\\\",\\\"-3.6\\\",\\\"-3.5\\\",\\\"-3.4\\\",\\\"-3.3\\\",\\\"-3.2\\\",\\\"-3.1\\\",\\\"-3.0\\\",\\\"-2.9\\\",\\\"-2.8\\\",\\\"-2.7\\\",\\\"-2.6\\\",\\\"-2.5\\\",\\\"-2.4\\\",\\\"-2.3\\\",\\\"-2.2\\\",\\\"-2.1\\\",\\\"-2.0\\\",\\\"-1.9\\\",\\\"-1.8\\\",\\\"-1.7\\\",\\\"-1.6\\\",\\\"-1.5\\\",\\\"-1.4\\\",\\\"-1.3\\\",\\\"-1.2\\\",\\\"-1.1\\\",\\\"-1.0\\\",\\\"-0.9\\\",\\\"-0.8\\\",\\\"-0.7\\\",\\\"-0.6\\\",\\\"-0.5\\\",\\\"-0.4\\\",\\\"-0.3\\\",\\\"-0.2\\\",\\\"-0.1\\\",\\\"0.0\\\",\\\"0.1\\\",\\\"0.2\\\",\\\"0.3\\\",\\\"0.4\\\",\\\"0.5\\\",\\\"0.6\\\",\\\"0.7\\\",\\\"0.8\\\",\\\"0.9\\\",\\\"1.0\\\",\\\"1.1\\\",\\\"1.2\\\",\\\"1.3\\\",\\\"1.4\\\",\\\"1.5\\\",\\\"1.6\\\",\\\"1.7\\\",\\\"1.8\\\",\\\"1.9\\\",\\\"2.0\\\",\\\"2.1\\\",\\\"2.2\\\",\\\"2.3\\\",\\\"2.4\\\",\\\"2.5\\\",\\\"2.6\\\",\\\"2.7\\\",\\\"2.8\\\",\\\"2.9\\\",\\\"3.0\\\",\\\"3.1\\\",\\\"3.2\\\",\\\"3.3\\\",\\\"3.4\\\",\\\"3.5\\\",\\\"3.6\\\",\\\"3.7\\\",\\\"3.8\\\",\\\"3.9\\\",\\\"4.0\\\",\\\"4.1\\\",\\\"4.2\\\",\\\"4.3\\\",\\\"4.4\\\",\\\"4.5\\\",\\\"4.6\\\",\\\"4.7\\\",\\\"4.8\\\",\\\"4.9\\\",\\\"5.0\\\"],\\\"changes\\\":WebIO.getval({\\\"name\\\":\\\"changes\\\",\\\"scope\\\":\\\"2993767085698940474\\\",\\\"id\\\":\\\"ob_96\\\",\\\"type\\\":\\\"observable\\\"}),\\\"index\\\":WebIO.getval({\\\"name\\\":\\\"index\\\",\\\"scope\\\":\\\"2993767085698940474\\\",\\\"id\\\":\\\"ob_95\\\",\\\"type\\\":\\\"observable\\\"})};\\n    var self = this;\\n    function AppViewModel() {\\n        for (var key in json_data) {\\n            var el = json_data[key];\\n            this[key] = Array.isArray(el) ? ko.observableArray(el) : ko.observable(el);\\n        }\\n        \\n        [this[\\\"formatted_val\\\"]=ko.computed(    function(){\\n        return this.formatted_vals()[parseInt(this.index())-(1)];\\n    }\\n,this)]\\n        [this[\\\"changes\\\"].subscribe((function (val){!(this.valueFromJulia[\\\"changes\\\"]) ? (WebIO.setval({\\\"name\\\":\\\"changes\\\",\\\"scope\\\":\\\"2993767085698940474\\\",\\\"id\\\":\\\"ob_96\\\",\\\"type\\\":\\\"observable\\\"},val)) : undefined; return this.valueFromJulia[\\\"changes\\\"]=false}),self),this[\\\"index\\\"].subscribe((function (val){!(this.valueFromJulia[\\\"index\\\"]) ? (WebIO.setval({\\\"name\\\":\\\"index\\\",\\\"scope\\\":\\\"2993767085698940474\\\",\\\"id\\\":\\\"ob_95\\\",\\\"type\\\":\\\"observable\\\"},val)) : undefined; return this.valueFromJulia[\\\"index\\\"]=false}),self)]\\n        \\n    }\\n    self.model = new AppViewModel();\\n    self.valueFromJulia = {};\\n    for (var key in json_data) {\\n        self.valueFromJulia[key] = false;\\n    }\\n    ko.applyBindings(self.model, self.dom);\\n}\\n);\\n    (WebIO.importBlock({\\\"data\\\":[{\\\"name\\\":\\\"knockout\\\",\\\"type\\\":\\\"js\\\",\\\"url\\\":\\\"/assetserver/b327bb35fde3fdc34a3743cc513d8641da41be57-knockout.js\\\"},{\\\"name\\\":\\\"knockout_punches\\\",\\\"type\\\":\\\"js\\\",\\\"url\\\":\\\"/assetserver/fafd688372851144045ba947dbd84da3abb05ea8-knockout_punches.js\\\"}],\\\"type\\\":\\\"async_block\\\"})).then((imports) => handler.apply(this, imports));\\n}\\n\")])], Dict{Symbol,Any}(:className => \"field interact-widget\")), Observable{Any} with 0 listeners. Value:\n",
       "Node{WebIO.DOM}(WebIO.DOM(:html, :div), Any[Plot{Plots.GRBackend() n=1}], Dict{Symbol,Any}(:className => \"interact-flex-row interact-widget\"))], Dict{Symbol,Any}())"
      ]
     },
     "execution_count": 76,
     "metadata": {
      "application/vnd.webio.node+json": {
       "kernelId": "acfb7b4c-e76a-4d4e-8267-1414560ce683"
      }
     },
     "output_type": "execute_result"
    }
   ],
   "source": [
    "@manipulate for s = -5:.1:5\n",
    "    q = eigvecs(lanczos(s,50,200))[1,:]\n",
    "    plot(q.^2, label=\"$(s)\")\n",
    "end"
   ]
  },
  {
   "cell_type": "code",
   "execution_count": 93,
   "metadata": {},
   "outputs": [
    {
     "data": {
      "image/svg+xml": [
       "<?xml version=\"1.0\" encoding=\"utf-8\"?>\n",
       "<svg xmlns=\"http://www.w3.org/2000/svg\" xmlns:xlink=\"http://www.w3.org/1999/xlink\" width=\"600\" height=\"400\" viewBox=\"0 0 2400 1600\">\n",
       "<defs>\n",
       "  <clipPath id=\"clip2200\">\n",
       "    <rect x=\"0\" y=\"0\" width=\"2400\" height=\"1600\"/>\n",
       "  </clipPath>\n",
       "</defs>\n",
       "<polygon clip-path=\"url(#clip2200)\" points=\"\n",
       "0,1600 2400,1600 2400,0 0,0 \n",
       "  \" fill=\"#ffffff\" fill-rule=\"evenodd\" fill-opacity=\"1\"/>\n",
       "<defs>\n",
       "  <clipPath id=\"clip2201\">\n",
       "    <rect x=\"480\" y=\"0\" width=\"1681\" height=\"1600\"/>\n",
       "  </clipPath>\n",
       "</defs>\n",
       "<polygon clip-path=\"url(#clip2200)\" points=\"\n",
       "180.66,1487.47 2352.76,1487.47 2352.76,47.2441 180.66,47.2441 \n",
       "  \" fill=\"#ffffff\" fill-rule=\"evenodd\" fill-opacity=\"1\"/>\n",
       "<defs>\n",
       "  <clipPath id=\"clip2202\">\n",
       "    <rect x=\"180\" y=\"47\" width=\"2173\" height=\"1441\"/>\n",
       "  </clipPath>\n",
       "</defs>\n",
       "<polyline clip-path=\"url(#clip2202)\" style=\"stroke:#000000; stroke-width:2; stroke-opacity:0.1; fill:none\" points=\"\n",
       "  447.049,1487.47 447.049,47.2441 \n",
       "  \"/>\n",
       "<polyline clip-path=\"url(#clip2202)\" style=\"stroke:#000000; stroke-width:2; stroke-opacity:0.1; fill:none\" points=\"\n",
       "  856.879,1487.47 856.879,47.2441 \n",
       "  \"/>\n",
       "<polyline clip-path=\"url(#clip2202)\" style=\"stroke:#000000; stroke-width:2; stroke-opacity:0.1; fill:none\" points=\"\n",
       "  1266.71,1487.47 1266.71,47.2441 \n",
       "  \"/>\n",
       "<polyline clip-path=\"url(#clip2202)\" style=\"stroke:#000000; stroke-width:2; stroke-opacity:0.1; fill:none\" points=\"\n",
       "  1676.54,1487.47 1676.54,47.2441 \n",
       "  \"/>\n",
       "<polyline clip-path=\"url(#clip2202)\" style=\"stroke:#000000; stroke-width:2; stroke-opacity:0.1; fill:none\" points=\"\n",
       "  2086.37,1487.47 2086.37,47.2441 \n",
       "  \"/>\n",
       "<polyline clip-path=\"url(#clip2202)\" style=\"stroke:#000000; stroke-width:2; stroke-opacity:0.1; fill:none\" points=\"\n",
       "  180.66,1446.71 2352.76,1446.71 \n",
       "  \"/>\n",
       "<polyline clip-path=\"url(#clip2202)\" style=\"stroke:#000000; stroke-width:2; stroke-opacity:0.1; fill:none\" points=\"\n",
       "  180.66,1106.81 2352.76,1106.81 \n",
       "  \"/>\n",
       "<polyline clip-path=\"url(#clip2202)\" style=\"stroke:#000000; stroke-width:2; stroke-opacity:0.1; fill:none\" points=\"\n",
       "  180.66,766.899 2352.76,766.899 \n",
       "  \"/>\n",
       "<polyline clip-path=\"url(#clip2202)\" style=\"stroke:#000000; stroke-width:2; stroke-opacity:0.1; fill:none\" points=\"\n",
       "  180.66,426.991 2352.76,426.991 \n",
       "  \"/>\n",
       "<polyline clip-path=\"url(#clip2202)\" style=\"stroke:#000000; stroke-width:2; stroke-opacity:0.1; fill:none\" points=\"\n",
       "  180.66,87.084 2352.76,87.084 \n",
       "  \"/>\n",
       "<polyline clip-path=\"url(#clip2200)\" style=\"stroke:#000000; stroke-width:4; stroke-opacity:1; fill:none\" points=\"\n",
       "  180.66,1487.47 2352.76,1487.47 \n",
       "  \"/>\n",
       "<polyline clip-path=\"url(#clip2200)\" style=\"stroke:#000000; stroke-width:4; stroke-opacity:1; fill:none\" points=\"\n",
       "  180.66,1487.47 180.66,47.2441 \n",
       "  \"/>\n",
       "<polyline clip-path=\"url(#clip2200)\" style=\"stroke:#000000; stroke-width:4; stroke-opacity:1; fill:none\" points=\"\n",
       "  447.049,1487.47 447.049,1465.87 \n",
       "  \"/>\n",
       "<polyline clip-path=\"url(#clip2200)\" style=\"stroke:#000000; stroke-width:4; stroke-opacity:1; fill:none\" points=\"\n",
       "  856.879,1487.47 856.879,1465.87 \n",
       "  \"/>\n",
       "<polyline clip-path=\"url(#clip2200)\" style=\"stroke:#000000; stroke-width:4; stroke-opacity:1; fill:none\" points=\"\n",
       "  1266.71,1487.47 1266.71,1465.87 \n",
       "  \"/>\n",
       "<polyline clip-path=\"url(#clip2200)\" style=\"stroke:#000000; stroke-width:4; stroke-opacity:1; fill:none\" points=\"\n",
       "  1676.54,1487.47 1676.54,1465.87 \n",
       "  \"/>\n",
       "<polyline clip-path=\"url(#clip2200)\" style=\"stroke:#000000; stroke-width:4; stroke-opacity:1; fill:none\" points=\"\n",
       "  2086.37,1487.47 2086.37,1465.87 \n",
       "  \"/>\n",
       "<polyline clip-path=\"url(#clip2200)\" style=\"stroke:#000000; stroke-width:4; stroke-opacity:1; fill:none\" points=\"\n",
       "  180.66,1446.71 213.242,1446.71 \n",
       "  \"/>\n",
       "<polyline clip-path=\"url(#clip2200)\" style=\"stroke:#000000; stroke-width:4; stroke-opacity:1; fill:none\" points=\"\n",
       "  180.66,1106.81 213.242,1106.81 \n",
       "  \"/>\n",
       "<polyline clip-path=\"url(#clip2200)\" style=\"stroke:#000000; stroke-width:4; stroke-opacity:1; fill:none\" points=\"\n",
       "  180.66,766.899 213.242,766.899 \n",
       "  \"/>\n",
       "<polyline clip-path=\"url(#clip2200)\" style=\"stroke:#000000; stroke-width:4; stroke-opacity:1; fill:none\" points=\"\n",
       "  180.66,426.991 213.242,426.991 \n",
       "  \"/>\n",
       "<polyline clip-path=\"url(#clip2200)\" style=\"stroke:#000000; stroke-width:4; stroke-opacity:1; fill:none\" points=\"\n",
       "  180.66,87.084 213.242,87.084 \n",
       "  \"/>\n",
       "<g clip-path=\"url(#clip2200)\">\n",
       "<text style=\"fill:#000000; fill-opacity:1; font-family:Arial,Helvetica Neue,Helvetica,sans-serif; font-size:48px; text-anchor:middle;\" transform=\"rotate(0, 447.049, 1541.47)\" x=\"447.049\" y=\"1541.47\">-4</text>\n",
       "</g>\n",
       "<g clip-path=\"url(#clip2200)\">\n",
       "<text style=\"fill:#000000; fill-opacity:1; font-family:Arial,Helvetica Neue,Helvetica,sans-serif; font-size:48px; text-anchor:middle;\" transform=\"rotate(0, 856.879, 1541.47)\" x=\"856.879\" y=\"1541.47\">-2</text>\n",
       "</g>\n",
       "<g clip-path=\"url(#clip2200)\">\n",
       "<text style=\"fill:#000000; fill-opacity:1; font-family:Arial,Helvetica Neue,Helvetica,sans-serif; font-size:48px; text-anchor:middle;\" transform=\"rotate(0, 1266.71, 1541.47)\" x=\"1266.71\" y=\"1541.47\">0</text>\n",
       "</g>\n",
       "<g clip-path=\"url(#clip2200)\">\n",
       "<text style=\"fill:#000000; fill-opacity:1; font-family:Arial,Helvetica Neue,Helvetica,sans-serif; font-size:48px; text-anchor:middle;\" transform=\"rotate(0, 1676.54, 1541.47)\" x=\"1676.54\" y=\"1541.47\">2</text>\n",
       "</g>\n",
       "<g clip-path=\"url(#clip2200)\">\n",
       "<text style=\"fill:#000000; fill-opacity:1; font-family:Arial,Helvetica Neue,Helvetica,sans-serif; font-size:48px; text-anchor:middle;\" transform=\"rotate(0, 2086.37, 1541.47)\" x=\"2086.37\" y=\"1541.47\">4</text>\n",
       "</g>\n",
       "<g clip-path=\"url(#clip2200)\">\n",
       "<text style=\"fill:#000000; fill-opacity:1; font-family:Arial,Helvetica Neue,Helvetica,sans-serif; font-size:48px; text-anchor:end;\" transform=\"rotate(0, 156.66, 1464.21)\" x=\"156.66\" y=\"1464.21\">0.00</text>\n",
       "</g>\n",
       "<g clip-path=\"url(#clip2200)\">\n",
       "<text style=\"fill:#000000; fill-opacity:1; font-family:Arial,Helvetica Neue,Helvetica,sans-serif; font-size:48px; text-anchor:end;\" transform=\"rotate(0, 156.66, 1124.31)\" x=\"156.66\" y=\"1124.31\">0.25</text>\n",
       "</g>\n",
       "<g clip-path=\"url(#clip2200)\">\n",
       "<text style=\"fill:#000000; fill-opacity:1; font-family:Arial,Helvetica Neue,Helvetica,sans-serif; font-size:48px; text-anchor:end;\" transform=\"rotate(0, 156.66, 784.399)\" x=\"156.66\" y=\"784.399\">0.50</text>\n",
       "</g>\n",
       "<g clip-path=\"url(#clip2200)\">\n",
       "<text style=\"fill:#000000; fill-opacity:1; font-family:Arial,Helvetica Neue,Helvetica,sans-serif; font-size:48px; text-anchor:end;\" transform=\"rotate(0, 156.66, 444.491)\" x=\"156.66\" y=\"444.491\">0.75</text>\n",
       "</g>\n",
       "<g clip-path=\"url(#clip2200)\">\n",
       "<text style=\"fill:#000000; fill-opacity:1; font-family:Arial,Helvetica Neue,Helvetica,sans-serif; font-size:48px; text-anchor:end;\" transform=\"rotate(0, 156.66, 104.584)\" x=\"156.66\" y=\"104.584\">1.00</text>\n",
       "</g>\n",
       "<polyline clip-path=\"url(#clip2202)\" style=\"stroke:#009af9; stroke-width:4; stroke-opacity:1; fill:none\" points=\"\n",
       "  242.135,88.0053 262.626,88.3221 283.118,88.7413 303.609,89.2937 324.101,90.0183 344.592,90.9641 365.084,92.1928 385.575,93.7805 406.066,95.8211 426.558,98.4287 \n",
       "  447.049,101.741 467.541,105.921 488.032,111.162 508.524,117.685 529.015,125.741 549.507,135.612 569.998,147.602 590.49,162.034 610.981,179.238 631.473,199.539 \n",
       "  651.964,223.241 672.456,250.607 692.947,281.839 713.438,317.061 733.93,356.298 754.421,399.461 774.913,446.345 795.404,496.618 815.896,549.835 836.387,605.444 \n",
       "  856.879,662.813 877.37,721.247 897.862,780.023 918.353,838.414 938.845,895.72 959.336,951.294 979.828,1004.56 1000.32,1055.04 1020.81,1102.34 1041.3,1146.19 \n",
       "  1061.79,1186.4 1082.28,1222.9 1102.78,1255.7 1123.27,1284.88 1143.76,1310.59 1164.25,1333.04 1184.74,1352.47 1205.23,1369.12 1225.73,1383.27 1246.22,1395.2 \n",
       "  1266.71,1405.17 1287.2,1413.43 1307.69,1420.23 1328.18,1425.77 1348.67,1430.27 1369.17,1433.88 1389.66,1436.76 1410.15,1439.04 1430.64,1440.83 1451.13,1442.24 \n",
       "  1471.62,1443.32 1492.11,1444.16 1512.61,1444.81 1533.1,1445.29 1553.59,1445.66 1574.08,1445.94 1594.57,1446.15 1615.06,1446.3 1635.55,1446.42 1656.05,1446.5 \n",
       "  1676.54,1446.56 1697.03,1446.6 1717.52,1446.64 1738.01,1446.66 1758.5,1446.68 1778.99,1446.69 1799.49,1446.7 1819.98,1446.7 1840.47,1446.7 1860.96,1446.71 \n",
       "  1881.45,1446.71 1901.94,1446.71 1922.44,1446.71 1942.93,1446.71 1963.42,1446.71 1983.91,1446.71 2004.4,1446.71 2024.89,1446.71 2045.38,1446.71 2065.88,1446.71 \n",
       "  2086.37,1446.71 2106.86,1446.71 2127.35,1446.71 2147.84,1446.71 2168.33,1446.71 2188.82,1446.71 2209.32,1446.71 2229.81,1446.71 2250.3,1446.71 2270.79,1446.71 \n",
       "  2291.28,1446.71 \n",
       "  \"/>\n",
       "<polyline clip-path=\"url(#clip2202)\" style=\"stroke:#e26f46; stroke-width:4; stroke-opacity:1; fill:none\" points=\"\n",
       "  242.135,160.231 262.626,179.27 283.118,202.273 303.609,229.714 324.101,262.011 344.592,299.483 365.084,342.31 385.575,390.492 406.066,443.818 426.558,501.852 \n",
       "  447.049,563.935 467.541,629.198 488.032,696.61 508.524,765.028 529.015,833.263 549.507,900.148 569.998,964.606 590.49,1025.7 610.981,1082.69 631.473,1135.01 \n",
       "  651.964,1182.34 672.456,1224.54 692.947,1261.66 713.438,1293.88 733.93,1321.52 754.421,1344.95 774.913,1364.61 795.404,1380.93 815.896,1394.35 836.387,1405.3 \n",
       "  856.879,1414.15 877.37,1421.26 897.862,1426.92 918.353,1431.41 938.845,1434.93 959.336,1437.69 979.828,1439.84 1000.32,1441.49 1020.81,1442.77 1041.3,1443.75 \n",
       "  1061.79,1444.49 1082.28,1445.06 1102.78,1445.48 1123.27,1445.8 1143.76,1446.04 1164.25,1446.22 1184.74,1446.35 1205.23,1446.45 1225.73,1446.52 1246.22,1446.58 \n",
       "  1266.71,1446.62 1287.2,1446.64 1307.69,1446.66 1328.18,1446.68 1348.67,1446.69 1369.17,1446.7 1389.66,1446.7 1410.15,1446.7 1430.64,1446.71 1451.13,1446.71 \n",
       "  1471.62,1446.71 1492.11,1446.71 1512.61,1446.71 1533.1,1446.71 1553.59,1446.71 1574.08,1446.71 1594.57,1446.71 1615.06,1446.71 1635.55,1446.71 1656.05,1446.71 \n",
       "  1676.54,1446.71 1697.03,1446.71 1717.52,1446.71 1738.01,1446.71 1758.5,1446.71 1778.99,1446.71 1799.49,1446.71 1819.98,1446.71 1840.47,1446.71 1860.96,1446.71 \n",
       "  1881.45,1446.71 1901.94,1446.71 1922.44,1446.71 1942.93,1446.71 1963.42,1446.71 1983.91,1446.71 2004.4,1446.71 2024.89,1446.71 2045.38,1446.71 2065.88,1446.71 \n",
       "  2086.37,1446.71 2106.86,1446.71 2127.35,1446.71 2147.84,1446.71 2168.33,1446.71 2188.82,1446.71 2209.32,1446.71 2229.81,1446.71 2250.3,1446.71 2270.79,1446.71 \n",
       "  2291.28,1446.71 \n",
       "  \"/>\n",
       "<polyline clip-path=\"url(#clip2202)\" style=\"stroke:#3da44d; stroke-width:4; stroke-opacity:1; fill:none\" points=\"\n",
       "  242.135,903.058 262.626,973.146 283.118,1039.09 303.609,1099.94 324.101,1155.06 344.592,1204.1 365.084,1247.01 385.575,1283.96 406.066,1315.32 426.558,1341.56 \n",
       "  447.049,1363.26 467.541,1380.98 488.032,1395.31 508.524,1406.78 529.015,1415.88 549.507,1423.04 569.998,1428.64 590.49,1432.98 610.981,1436.33 631.473,1438.9 \n",
       "  651.964,1440.86 672.456,1442.34 692.947,1443.47 713.438,1444.31 733.93,1444.94 754.421,1445.41 774.913,1445.76 795.404,1446.02 815.896,1446.21 836.387,1446.35 \n",
       "  856.879,1446.45 877.37,1446.52 897.862,1446.58 918.353,1446.62 938.845,1446.64 959.336,1446.66 979.828,1446.68 1000.32,1446.69 1020.81,1446.7 1041.3,1446.7 \n",
       "  1061.79,1446.71 1082.28,1446.71 1102.78,1446.71 1123.27,1446.71 1143.76,1446.71 1164.25,1446.71 1184.74,1446.71 1205.23,1446.71 1225.73,1446.71 1246.22,1446.71 \n",
       "  1266.71,1446.71 1287.2,1446.71 1307.69,1446.71 1328.18,1446.71 1348.67,1446.71 1369.17,1446.71 1389.66,1446.71 1410.15,1446.71 1430.64,1446.71 1451.13,1446.71 \n",
       "  1471.62,1446.71 1492.11,1446.71 1512.61,1446.71 1533.1,1446.71 1553.59,1446.71 1574.08,1446.71 1594.57,1446.71 1615.06,1446.71 1635.55,1446.71 1656.05,1446.71 \n",
       "  1676.54,1446.71 1697.03,1446.71 1717.52,1446.71 1738.01,1446.71 1758.5,1446.71 1778.99,1446.71 1799.49,1446.71 1819.98,1446.71 1840.47,1446.71 1860.96,1446.71 \n",
       "  1881.45,1446.71 1901.94,1446.71 1922.44,1446.71 1942.93,1446.71 1963.42,1446.71 1983.91,1446.71 2004.4,1446.71 2024.89,1446.71 2045.38,1446.71 2065.88,1446.71 \n",
       "  2086.37,1446.71 2106.86,1446.71 2127.35,1446.71 2147.84,1446.71 2168.33,1446.71 2188.82,1446.71 2209.32,1446.71 2229.81,1446.71 2250.3,1446.71 2270.79,1446.71 \n",
       "  2291.28,1446.71 \n",
       "  \"/>\n",
       "<polyline clip-path=\"url(#clip2202)\" style=\"stroke:#c271d2; stroke-width:4; stroke-opacity:1; fill:none\" points=\"\n",
       "  242.135,1415.01 262.626,1422.7 283.118,1428.63 303.609,1433.16 324.101,1436.61 344.592,1439.22 365.084,1441.17 385.575,1442.64 406.066,1443.72 426.558,1444.53 \n",
       "  447.049,1445.13 467.541,1445.56 488.032,1445.88 508.524,1446.11 529.015,1446.28 549.507,1446.41 569.998,1446.49 590.49,1446.56 610.981,1446.6 631.473,1446.64 \n",
       "  651.964,1446.66 672.456,1446.67 692.947,1446.69 713.438,1446.69 733.93,1446.7 754.421,1446.7 774.913,1446.71 795.404,1446.71 815.896,1446.71 836.387,1446.71 \n",
       "  856.879,1446.71 877.37,1446.71 897.862,1446.71 918.353,1446.71 938.845,1446.71 959.336,1446.71 979.828,1446.71 1000.32,1446.71 1020.81,1446.71 1041.3,1446.71 \n",
       "  1061.79,1446.71 1082.28,1446.71 1102.78,1446.71 1123.27,1446.71 1143.76,1446.71 1164.25,1446.71 1184.74,1446.71 1205.23,1446.71 1225.73,1446.71 1246.22,1446.71 \n",
       "  1266.71,1446.71 1287.2,1446.71 1307.69,1446.71 1328.18,1446.71 1348.67,1446.71 1369.17,1446.71 1389.66,1446.71 1410.15,1446.71 1430.64,1446.71 1451.13,1446.71 \n",
       "  1471.62,1446.71 1492.11,1446.71 1512.61,1446.71 1533.1,1446.71 1553.59,1446.71 1574.08,1446.71 1594.57,1446.71 1615.06,1446.71 1635.55,1446.71 1656.05,1446.71 \n",
       "  1676.54,1446.71 1697.03,1446.71 1717.52,1446.71 1738.01,1446.71 1758.5,1446.71 1778.99,1446.71 1799.49,1446.71 1819.98,1446.71 1840.47,1446.71 1860.96,1446.71 \n",
       "  1881.45,1446.71 1901.94,1446.71 1922.44,1446.71 1942.93,1446.71 1963.42,1446.71 1983.91,1446.71 2004.4,1446.71 2024.89,1446.71 2045.38,1446.71 2065.88,1446.71 \n",
       "  2086.37,1446.71 2106.86,1446.71 2127.35,1446.71 2147.84,1446.71 2168.33,1446.71 2188.82,1446.71 2209.32,1446.71 2229.81,1446.71 2250.3,1446.71 2270.79,1446.71 \n",
       "  2291.28,1446.71 \n",
       "  \"/>\n",
       "<polygon clip-path=\"url(#clip2200)\" points=\"\n",
       "1989.93,433.164 2280.76,433.164 2280.76,130.764 1989.93,130.764 \n",
       "  \" fill=\"#ffffff\" fill-rule=\"evenodd\" fill-opacity=\"1\"/>\n",
       "<polyline clip-path=\"url(#clip2200)\" style=\"stroke:#000000; stroke-width:4; stroke-opacity:1; fill:none\" points=\"\n",
       "  1989.93,433.164 2280.76,433.164 2280.76,130.764 1989.93,130.764 1989.93,433.164 \n",
       "  \"/>\n",
       "<polyline clip-path=\"url(#clip2200)\" style=\"stroke:#009af9; stroke-width:4; stroke-opacity:1; fill:none\" points=\"\n",
       "  2013.93,191.244 2157.93,191.244 \n",
       "  \"/>\n",
       "<g clip-path=\"url(#clip2200)\">\n",
       "<text style=\"fill:#000000; fill-opacity:1; font-family:Arial,Helvetica Neue,Helvetica,sans-serif; font-size:48px; text-anchor:start;\" transform=\"rotate(0, 2181.93, 208.744)\" x=\"2181.93\" y=\"208.744\">y1</text>\n",
       "</g>\n",
       "<polyline clip-path=\"url(#clip2200)\" style=\"stroke:#e26f46; stroke-width:4; stroke-opacity:1; fill:none\" points=\"\n",
       "  2013.93,251.724 2157.93,251.724 \n",
       "  \"/>\n",
       "<g clip-path=\"url(#clip2200)\">\n",
       "<text style=\"fill:#000000; fill-opacity:1; font-family:Arial,Helvetica Neue,Helvetica,sans-serif; font-size:48px; text-anchor:start;\" transform=\"rotate(0, 2181.93, 269.224)\" x=\"2181.93\" y=\"269.224\">y2</text>\n",
       "</g>\n",
       "<polyline clip-path=\"url(#clip2200)\" style=\"stroke:#3da44d; stroke-width:4; stroke-opacity:1; fill:none\" points=\"\n",
       "  2013.93,312.204 2157.93,312.204 \n",
       "  \"/>\n",
       "<g clip-path=\"url(#clip2200)\">\n",
       "<text style=\"fill:#000000; fill-opacity:1; font-family:Arial,Helvetica Neue,Helvetica,sans-serif; font-size:48px; text-anchor:start;\" transform=\"rotate(0, 2181.93, 329.704)\" x=\"2181.93\" y=\"329.704\">y3</text>\n",
       "</g>\n",
       "<polyline clip-path=\"url(#clip2200)\" style=\"stroke:#c271d2; stroke-width:4; stroke-opacity:1; fill:none\" points=\"\n",
       "  2013.93,372.684 2157.93,372.684 \n",
       "  \"/>\n",
       "<g clip-path=\"url(#clip2200)\">\n",
       "<text style=\"fill:#000000; fill-opacity:1; font-family:Arial,Helvetica Neue,Helvetica,sans-serif; font-size:48px; text-anchor:start;\" transform=\"rotate(0, 2181.93, 390.184)\" x=\"2181.93\" y=\"390.184\">y4</text>\n",
       "</g>\n",
       "</svg>\n"
      ]
     },
     "execution_count": 93,
     "metadata": {},
     "output_type": "execute_result"
    }
   ],
   "source": [
    "s = -5:.1:5\n",
    "y = [eigvals(lanczos(x)) for x in s]\n",
    "plot(s,[yy[10] for yy in y])\n",
    "plot!(s,[yy[9] for yy in y])\n",
    "plot!(s,[yy[8] for yy in y])\n",
    "plot!(s,[yy[7] for yy in y])"
   ]
  },
  {
   "cell_type": "code",
   "execution_count": 100,
   "metadata": {},
   "outputs": [
    {
     "data": {
      "image/svg+xml": [
       "<?xml version=\"1.0\" encoding=\"utf-8\"?>\n",
       "<svg xmlns=\"http://www.w3.org/2000/svg\" xmlns:xlink=\"http://www.w3.org/1999/xlink\" width=\"600\" height=\"400\" viewBox=\"0 0 2400 1600\">\n",
       "<defs>\n",
       "  <clipPath id=\"clip4600\">\n",
       "    <rect x=\"0\" y=\"0\" width=\"2400\" height=\"1600\"/>\n",
       "  </clipPath>\n",
       "</defs>\n",
       "<polygon clip-path=\"url(#clip4600)\" points=\"\n",
       "0,1600 2400,1600 2400,0 0,0 \n",
       "  \" fill=\"#ffffff\" fill-rule=\"evenodd\" fill-opacity=\"1\"/>\n",
       "<defs>\n",
       "  <clipPath id=\"clip4601\">\n",
       "    <rect x=\"480\" y=\"0\" width=\"1681\" height=\"1600\"/>\n",
       "  </clipPath>\n",
       "</defs>\n",
       "<polygon clip-path=\"url(#clip4600)\" points=\"\n",
       "195.389,1487.47 2352.76,1487.47 2352.76,47.2441 195.389,47.2441 \n",
       "  \" fill=\"#ffffff\" fill-rule=\"evenodd\" fill-opacity=\"1\"/>\n",
       "<defs>\n",
       "  <clipPath id=\"clip4602\">\n",
       "    <rect x=\"195\" y=\"47\" width=\"2158\" height=\"1441\"/>\n",
       "  </clipPath>\n",
       "</defs>\n",
       "<polyline clip-path=\"url(#clip4602)\" style=\"stroke:#000000; stroke-width:2; stroke-opacity:0.1; fill:none\" points=\"\n",
       "  547.197,1487.47 547.197,47.2441 \n",
       "  \"/>\n",
       "<polyline clip-path=\"url(#clip4602)\" style=\"stroke:#000000; stroke-width:2; stroke-opacity:0.1; fill:none\" points=\"\n",
       "  1128.7,1487.47 1128.7,47.2441 \n",
       "  \"/>\n",
       "<polyline clip-path=\"url(#clip4602)\" style=\"stroke:#000000; stroke-width:2; stroke-opacity:0.1; fill:none\" points=\"\n",
       "  1710.2,1487.47 1710.2,47.2441 \n",
       "  \"/>\n",
       "<polyline clip-path=\"url(#clip4602)\" style=\"stroke:#000000; stroke-width:2; stroke-opacity:0.1; fill:none\" points=\"\n",
       "  2291.7,1487.47 2291.7,47.2441 \n",
       "  \"/>\n",
       "<polyline clip-path=\"url(#clip4602)\" style=\"stroke:#000000; stroke-width:2; stroke-opacity:0.1; fill:none\" points=\"\n",
       "  195.389,1377.96 2352.76,1377.96 \n",
       "  \"/>\n",
       "<polyline clip-path=\"url(#clip4602)\" style=\"stroke:#000000; stroke-width:2; stroke-opacity:0.1; fill:none\" points=\"\n",
       "  195.389,1055.47 2352.76,1055.47 \n",
       "  \"/>\n",
       "<polyline clip-path=\"url(#clip4602)\" style=\"stroke:#000000; stroke-width:2; stroke-opacity:0.1; fill:none\" points=\"\n",
       "  195.389,732.983 2352.76,732.983 \n",
       "  \"/>\n",
       "<polyline clip-path=\"url(#clip4602)\" style=\"stroke:#000000; stroke-width:2; stroke-opacity:0.1; fill:none\" points=\"\n",
       "  195.389,410.492 2352.76,410.492 \n",
       "  \"/>\n",
       "<polyline clip-path=\"url(#clip4602)\" style=\"stroke:#000000; stroke-width:2; stroke-opacity:0.1; fill:none\" points=\"\n",
       "  195.389,88.0015 2352.76,88.0015 \n",
       "  \"/>\n",
       "<polyline clip-path=\"url(#clip4600)\" style=\"stroke:#000000; stroke-width:4; stroke-opacity:1; fill:none\" points=\"\n",
       "  195.389,1487.47 2352.76,1487.47 \n",
       "  \"/>\n",
       "<polyline clip-path=\"url(#clip4600)\" style=\"stroke:#000000; stroke-width:4; stroke-opacity:1; fill:none\" points=\"\n",
       "  195.389,1487.47 195.389,47.2441 \n",
       "  \"/>\n",
       "<polyline clip-path=\"url(#clip4600)\" style=\"stroke:#000000; stroke-width:4; stroke-opacity:1; fill:none\" points=\"\n",
       "  547.197,1487.47 547.197,1465.87 \n",
       "  \"/>\n",
       "<polyline clip-path=\"url(#clip4600)\" style=\"stroke:#000000; stroke-width:4; stroke-opacity:1; fill:none\" points=\"\n",
       "  1128.7,1487.47 1128.7,1465.87 \n",
       "  \"/>\n",
       "<polyline clip-path=\"url(#clip4600)\" style=\"stroke:#000000; stroke-width:4; stroke-opacity:1; fill:none\" points=\"\n",
       "  1710.2,1487.47 1710.2,1465.87 \n",
       "  \"/>\n",
       "<polyline clip-path=\"url(#clip4600)\" style=\"stroke:#000000; stroke-width:4; stroke-opacity:1; fill:none\" points=\"\n",
       "  2291.7,1487.47 2291.7,1465.87 \n",
       "  \"/>\n",
       "<polyline clip-path=\"url(#clip4600)\" style=\"stroke:#000000; stroke-width:4; stroke-opacity:1; fill:none\" points=\"\n",
       "  195.389,1377.96 227.75,1377.96 \n",
       "  \"/>\n",
       "<polyline clip-path=\"url(#clip4600)\" style=\"stroke:#000000; stroke-width:4; stroke-opacity:1; fill:none\" points=\"\n",
       "  195.389,1055.47 227.75,1055.47 \n",
       "  \"/>\n",
       "<polyline clip-path=\"url(#clip4600)\" style=\"stroke:#000000; stroke-width:4; stroke-opacity:1; fill:none\" points=\"\n",
       "  195.389,732.983 227.75,732.983 \n",
       "  \"/>\n",
       "<polyline clip-path=\"url(#clip4600)\" style=\"stroke:#000000; stroke-width:4; stroke-opacity:1; fill:none\" points=\"\n",
       "  195.389,410.492 227.75,410.492 \n",
       "  \"/>\n",
       "<polyline clip-path=\"url(#clip4600)\" style=\"stroke:#000000; stroke-width:4; stroke-opacity:1; fill:none\" points=\"\n",
       "  195.389,88.0015 227.75,88.0015 \n",
       "  \"/>\n",
       "<g clip-path=\"url(#clip4600)\">\n",
       "<text style=\"fill:#000000; fill-opacity:1; font-family:Arial,Helvetica Neue,Helvetica,sans-serif; font-size:48px; text-anchor:middle;\" transform=\"rotate(0, 547.197, 1541.47)\" x=\"547.197\" y=\"1541.47\">0</text>\n",
       "</g>\n",
       "<g clip-path=\"url(#clip4600)\">\n",
       "<text style=\"fill:#000000; fill-opacity:1; font-family:Arial,Helvetica Neue,Helvetica,sans-serif; font-size:48px; text-anchor:middle;\" transform=\"rotate(0, 1128.7, 1541.47)\" x=\"1128.7\" y=\"1541.47\">10</text>\n",
       "</g>\n",
       "<g clip-path=\"url(#clip4600)\">\n",
       "<text style=\"fill:#000000; fill-opacity:1; font-family:Arial,Helvetica Neue,Helvetica,sans-serif; font-size:48px; text-anchor:middle;\" transform=\"rotate(0, 1710.2, 1541.47)\" x=\"1710.2\" y=\"1541.47\">20</text>\n",
       "</g>\n",
       "<g clip-path=\"url(#clip4600)\">\n",
       "<text style=\"fill:#000000; fill-opacity:1; font-family:Arial,Helvetica Neue,Helvetica,sans-serif; font-size:48px; text-anchor:middle;\" transform=\"rotate(0, 2291.7, 1541.47)\" x=\"2291.7\" y=\"1541.47\">30</text>\n",
       "</g>\n",
       "<g clip-path=\"url(#clip4600)\">\n",
       "<text style=\"fill:#000000; fill-opacity:1; font-family:Arial,Helvetica Neue,Helvetica,sans-serif; font-size:48px; text-anchor:end;\" transform=\"rotate(0, 171.389, 1395.46)\" x=\"171.389\" y=\"1395.46\">-100</text>\n",
       "</g>\n",
       "<g clip-path=\"url(#clip4600)\">\n",
       "<text style=\"fill:#000000; fill-opacity:1; font-family:Arial,Helvetica Neue,Helvetica,sans-serif; font-size:48px; text-anchor:end;\" transform=\"rotate(0, 171.389, 1072.97)\" x=\"171.389\" y=\"1072.97\">-75</text>\n",
       "</g>\n",
       "<g clip-path=\"url(#clip4600)\">\n",
       "<text style=\"fill:#000000; fill-opacity:1; font-family:Arial,Helvetica Neue,Helvetica,sans-serif; font-size:48px; text-anchor:end;\" transform=\"rotate(0, 171.389, 750.483)\" x=\"171.389\" y=\"750.483\">-50</text>\n",
       "</g>\n",
       "<g clip-path=\"url(#clip4600)\">\n",
       "<text style=\"fill:#000000; fill-opacity:1; font-family:Arial,Helvetica Neue,Helvetica,sans-serif; font-size:48px; text-anchor:end;\" transform=\"rotate(0, 171.389, 427.992)\" x=\"171.389\" y=\"427.992\">-25</text>\n",
       "</g>\n",
       "<g clip-path=\"url(#clip4600)\">\n",
       "<text style=\"fill:#000000; fill-opacity:1; font-family:Arial,Helvetica Neue,Helvetica,sans-serif; font-size:48px; text-anchor:end;\" transform=\"rotate(0, 171.389, 105.502)\" x=\"171.389\" y=\"105.502\">0</text>\n",
       "</g>\n",
       "<polyline clip-path=\"url(#clip4602)\" style=\"stroke:#009af9; stroke-width:4; stroke-opacity:1; fill:none\" points=\"\n",
       "  256.447,88.0053 262.262,88.0066 268.077,88.0084 273.892,88.0107 279.707,88.0136 285.522,88.0176 291.337,88.0226 297.152,88.0292 302.967,88.0377 308.782,88.0485 \n",
       "  314.597,88.0623 320.412,88.0797 326.227,88.1016 332.042,88.1291 337.857,88.1631 343.672,88.2052 349.487,88.2566 355.302,88.3192 361.117,88.3947 366.932,88.4852 \n",
       "  372.747,88.5927 378.562,88.7194 384.377,88.8676 390.192,89.0396 396.007,89.2377 401.822,89.464 407.637,89.7206 413.452,90.0094 419.267,90.3323 425.082,90.6909 \n",
       "  430.897,91.0866 436.712,91.5206 442.527,91.9939 448.342,92.5074 454.157,93.0617 459.972,93.6574 465.787,94.2946 471.602,94.9737 477.417,95.6948 483.232,96.4577 \n",
       "  489.047,97.2625 494.862,98.1088 500.677,98.9965 506.492,99.9253 512.307,100.895 518.122,101.905 523.937,102.954 529.752,104.043 535.567,105.171 541.382,106.338 \n",
       "  547.197,107.543 553.012,108.786 558.827,110.065 564.642,111.381 570.457,112.734 576.272,114.122 582.087,115.546 587.902,117.004 593.717,118.497 599.532,120.024 \n",
       "  605.347,121.584 611.162,123.178 616.977,124.804 622.792,126.462 628.607,128.153 634.422,129.875 640.237,131.628 646.052,133.412 651.867,135.226 657.682,137.071 \n",
       "  663.497,138.945 669.312,140.849 675.127,142.782 680.942,144.743 686.757,146.733 692.572,148.752 698.387,150.798 704.202,152.872 710.017,154.973 715.832,157.102 \n",
       "  721.647,159.257 727.462,161.439 733.277,163.647 739.092,165.881 744.907,168.141 750.722,170.426 756.537,172.737 762.352,175.073 768.167,177.434 773.982,179.82 \n",
       "  779.797,182.23 785.612,184.665 791.427,187.123 797.242,189.606 803.057,192.112 808.872,194.642 814.687,197.195 820.502,199.771 826.317,202.37 832.132,204.992 \n",
       "  837.947,207.637 843.762,210.304 849.577,212.993 855.392,215.705 861.207,218.438 867.022,221.194 872.837,223.971 878.652,226.769 884.467,229.589 890.282,232.431 \n",
       "  896.097,235.293 901.912,238.176 907.727,241.081 913.542,244.006 919.357,246.951 925.172,249.917 930.987,252.903 936.802,255.91 942.617,258.936 948.432,261.983 \n",
       "  954.247,265.049 960.062,268.136 965.877,271.241 971.692,274.366 977.507,277.511 983.322,280.675 989.137,283.858 994.952,287.06 1000.77,290.281 1006.58,293.522 \n",
       "  1012.4,296.78 1018.21,300.058 1024.03,303.354 1029.84,306.668 1035.66,310.001 1041.47,313.352 1047.29,316.722 1053.1,320.109 1058.92,323.515 1064.73,326.938 \n",
       "  1070.55,330.379 1076.36,333.838 1082.18,337.315 1087.99,340.809 1093.81,344.321 1099.62,347.85 1105.44,351.397 1111.25,354.961 1117.07,358.542 1122.88,362.14 \n",
       "  1128.7,365.755 1134.51,369.387 1140.33,373.036 1146.14,376.702 1151.96,380.385 1157.77,384.084 1163.59,387.8 1169.4,391.532 1175.22,395.281 1181.03,399.046 \n",
       "  1186.85,402.827 1192.66,406.625 1198.48,410.439 1204.29,414.269 1210.11,418.116 1215.92,421.978 1221.74,425.856 1227.55,429.75 1233.37,433.66 1239.18,437.585 \n",
       "  1245,441.526 1250.81,445.483 1256.63,449.456 1262.44,453.444 1268.26,457.447 1274.07,461.466 1279.89,465.5 1285.7,469.55 1291.52,473.614 1297.33,477.694 \n",
       "  1303.15,481.789 1308.96,485.899 1314.78,490.025 1320.59,494.165 1326.41,498.32 1332.22,502.49 1338.04,506.674 1343.85,510.874 1349.67,515.088 1355.48,519.317 \n",
       "  1361.3,523.56 1367.11,527.818 1372.93,532.091 1378.74,536.378 1384.56,540.679 1390.37,544.995 1396.19,549.326 1402,553.67 1407.82,558.029 1413.63,562.402 \n",
       "  1419.45,566.789 1425.26,571.19 1431.08,575.605 1436.89,580.035 1442.71,584.478 1448.52,588.935 1454.34,593.406 1460.15,597.891 1465.97,602.39 1471.78,606.903 \n",
       "  1477.6,611.429 1483.41,615.969 1489.23,620.523 1495.04,625.09 1500.86,629.671 1506.67,634.265 1512.49,638.873 1518.3,643.494 1524.12,648.129 1529.93,652.777 \n",
       "  1535.75,657.439 1541.56,662.114 1547.38,666.802 1553.19,671.503 1559.01,676.218 1564.82,680.945 1570.64,685.686 1576.45,690.44 1582.27,695.207 1588.08,699.987 \n",
       "  1593.9,704.78 1599.71,709.586 1605.53,714.405 1611.34,719.237 1617.16,724.081 1622.97,728.939 1628.79,733.809 1634.6,738.692 1640.42,743.588 1646.23,748.496 \n",
       "  1652.05,753.417 1657.86,758.351 1663.68,763.297 1669.49,768.256 1675.31,773.227 1681.12,778.211 1686.94,783.208 1692.75,788.217 1698.57,793.238 1704.38,798.271 \n",
       "  1710.2,803.317 1716.01,808.376 1721.83,813.446 1727.64,818.529 1733.46,823.624 1739.27,828.732 1745.09,833.851 1750.9,838.983 1756.72,844.127 1762.53,849.282 \n",
       "  1768.35,854.45 1774.16,859.63 1779.98,864.822 1785.79,870.026 1791.61,875.242 1797.42,880.47 1803.24,885.71 1809.05,890.962 1814.87,896.225 1820.68,901.5 \n",
       "  1826.5,906.788 1832.31,912.087 1838.13,917.397 1843.94,922.72 1849.76,928.054 1855.57,933.399 1861.39,938.757 1867.2,944.126 1873.02,949.507 1878.83,954.899 \n",
       "  1884.65,960.303 1890.46,965.718 1896.28,971.145 1902.09,976.583 1907.91,982.033 1913.72,987.494 1919.54,992.966 1925.35,998.45 1931.17,1003.95 1936.98,1009.45 \n",
       "  1942.8,1014.97 1948.61,1020.5 1954.43,1026.04 1960.24,1031.59 1966.06,1037.16 1971.87,1042.73 1977.69,1048.31 1983.5,1053.91 1989.32,1059.52 1995.13,1065.14 \n",
       "  2000.95,1070.77 2006.76,1076.41 2012.58,1082.06 2018.39,1087.72 2024.21,1093.4 2030.02,1099.08 2035.84,1104.78 2041.65,1110.49 2047.47,1116.2 2053.28,1121.93 \n",
       "  2059.1,1127.67 2064.91,1133.42 2070.73,1139.18 2076.54,1144.96 2082.36,1150.74 2088.17,1156.53 2093.99,1162.34 2099.8,1168.15 2105.62,1173.98 2111.43,1179.82 \n",
       "  2117.25,1185.66 2123.06,1191.52 2128.88,1197.39 2134.69,1203.27 2140.51,1209.16 2146.32,1215.06 2152.14,1220.97 2157.95,1226.89 2163.77,1232.83 2169.58,1238.77 \n",
       "  2175.4,1244.72 2181.21,1250.69 2187.03,1256.66 2192.84,1262.65 2198.66,1268.64 2204.47,1274.65 2210.29,1280.66 2216.1,1286.69 2221.92,1292.73 2227.73,1298.77 \n",
       "  2233.55,1304.83 2239.36,1310.9 2245.18,1316.98 2250.99,1323.06 2256.81,1329.16 2262.62,1335.27 2268.44,1341.39 2274.25,1347.52 2280.07,1353.66 2285.88,1359.81 \n",
       "  2291.7,1365.97 \n",
       "  \"/>\n",
       "<polyline clip-path=\"url(#clip4602)\" style=\"stroke:#e26f46; stroke-width:4; stroke-opacity:1; fill:none\" points=\"\n",
       "  256.447,88.3113 262.262,88.3949 268.077,88.4975 273.892,88.6224 279.707,88.7731 285.522,88.9531 291.337,89.1663 297.152,89.4162 302.967,89.7064 308.782,90.0404 \n",
       "  314.597,90.4211 320.412,90.8514 326.227,91.3335 332.042,91.8693 337.857,92.4602 343.672,93.1069 349.487,93.8099 355.302,94.5691 361.117,95.3838 366.932,96.2531 \n",
       "  372.747,97.1758 378.562,98.15 384.377,99.1741 390.192,100.246 396.007,101.364 401.822,102.525 407.637,103.727 413.452,104.968 419.267,106.247 425.082,107.561 \n",
       "  430.897,108.908 436.712,110.288 442.527,111.698 448.342,113.137 454.157,114.604 459.972,116.098 465.787,117.619 471.602,119.165 477.417,120.736 483.232,122.332 \n",
       "  489.047,123.952 494.862,125.596 500.677,127.263 506.492,128.953 512.307,130.666 518.122,132.402 523.937,134.161 529.752,135.943 535.567,137.747 541.382,139.574 \n",
       "  547.197,141.423 553.012,143.294 558.827,145.188 564.642,147.104 570.457,149.043 576.272,151.003 582.087,152.986 587.902,154.991 593.717,157.019 599.532,159.068 \n",
       "  605.347,161.139 611.162,163.233 616.977,165.348 622.792,167.486 628.607,169.645 634.422,171.826 640.237,174.029 646.052,176.253 651.867,178.5 657.682,180.767 \n",
       "  663.497,183.057 669.312,185.368 675.127,187.7 680.942,190.053 686.757,192.428 692.572,194.824 698.387,197.241 704.202,199.679 710.017,202.138 715.832,204.618 \n",
       "  721.647,207.119 727.462,209.64 733.277,212.182 739.092,214.745 744.907,217.328 750.722,219.932 756.537,222.555 762.352,225.199 768.167,227.864 773.982,230.548 \n",
       "  779.797,233.252 785.612,235.976 791.427,238.72 797.242,241.484 803.057,244.267 808.872,247.07 814.687,249.892 820.502,252.734 826.317,255.595 832.132,258.475 \n",
       "  837.947,261.375 843.762,264.293 849.577,267.231 855.392,270.187 861.207,273.163 867.022,276.157 872.837,279.169 878.652,282.201 884.467,285.251 890.282,288.319 \n",
       "  896.097,291.406 901.912,294.511 907.727,297.634 913.542,300.775 919.357,303.935 925.172,307.112 930.987,310.307 936.802,313.52 942.617,316.751 948.432,320 \n",
       "  954.247,323.266 960.062,326.55 965.877,329.851 971.692,333.17 977.507,336.506 983.322,339.86 989.137,343.23 994.952,346.618 1000.77,350.023 1006.58,353.445 \n",
       "  1012.4,356.884 1018.21,360.339 1024.03,363.812 1029.84,367.301 1035.66,370.807 1041.47,374.33 1047.29,377.869 1053.1,381.425 1058.92,384.997 1064.73,388.585 \n",
       "  1070.55,392.19 1076.36,395.812 1082.18,399.449 1087.99,403.102 1093.81,406.772 1099.62,410.458 1105.44,414.159 1111.25,417.877 1117.07,421.61 1122.88,425.36 \n",
       "  1128.7,429.125 1134.51,432.905 1140.33,436.702 1146.14,440.514 1151.96,444.341 1157.77,448.184 1163.59,452.043 1169.4,455.917 1175.22,459.806 1181.03,463.71 \n",
       "  1186.85,467.63 1192.66,471.565 1198.48,475.515 1204.29,479.48 1210.11,483.46 1215.92,487.455 1221.74,491.465 1227.55,495.49 1233.37,499.53 1239.18,503.585 \n",
       "  1245,507.654 1250.81,511.738 1256.63,515.837 1262.44,519.95 1268.26,524.078 1274.07,528.22 1279.89,532.377 1285.7,536.549 1291.52,540.734 1297.33,544.934 \n",
       "  1303.15,549.149 1308.96,553.378 1314.78,557.62 1320.59,561.878 1326.41,566.149 1332.22,570.434 1338.04,574.733 1343.85,579.047 1349.67,583.374 1355.48,587.715 \n",
       "  1361.3,592.071 1367.11,596.44 1372.93,600.823 1378.74,605.219 1384.56,609.63 1390.37,614.054 1396.19,618.492 1402,622.943 1407.82,627.408 1413.63,631.887 \n",
       "  1419.45,636.379 1425.26,640.884 1431.08,645.403 1436.89,649.936 1442.71,654.481 1448.52,659.041 1454.34,663.613 1460.15,668.199 1465.97,672.798 1471.78,677.41 \n",
       "  1477.6,682.035 1483.41,686.673 1489.23,691.325 1495.04,695.99 1500.86,700.667 1506.67,705.358 1512.49,710.061 1518.3,714.778 1524.12,719.507 1529.93,724.25 \n",
       "  1535.75,729.005 1541.56,733.773 1547.38,738.553 1553.19,743.347 1559.01,748.153 1564.82,752.972 1570.64,757.803 1576.45,762.648 1582.27,767.504 1588.08,772.374 \n",
       "  1593.9,777.255 1599.71,782.15 1605.53,787.056 1611.34,791.976 1617.16,796.907 1622.97,801.851 1628.79,806.808 1634.6,811.776 1640.42,816.757 1646.23,821.751 \n",
       "  1652.05,826.756 1657.86,831.774 1663.68,836.804 1669.49,841.846 1675.31,846.9 1681.12,851.967 1686.94,857.045 1692.75,862.135 1698.57,867.238 1704.38,872.352 \n",
       "  1710.2,877.479 1716.01,882.617 1721.83,887.768 1727.64,892.93 1733.46,898.104 1739.27,903.29 1745.09,908.488 1750.9,913.697 1756.72,918.919 1762.53,924.152 \n",
       "  1768.35,929.397 1774.16,934.653 1779.98,939.921 1785.79,945.201 1791.61,950.493 1797.42,955.796 1803.24,961.111 1809.05,966.437 1814.87,971.774 1820.68,977.124 \n",
       "  1826.5,982.484 1832.31,987.857 1838.13,993.24 1843.94,998.635 1849.76,1004.04 1855.57,1009.46 1861.39,1014.89 1867.2,1020.33 1873.02,1025.78 1878.83,1031.24 \n",
       "  1884.65,1036.72 1890.46,1042.2 1896.28,1047.7 1902.09,1053.21 1907.91,1058.73 1913.72,1064.26 1919.54,1069.8 1925.35,1075.35 1931.17,1080.92 1936.98,1086.49 \n",
       "  1942.8,1092.08 1948.61,1097.67 1954.43,1103.28 1960.24,1108.9 1966.06,1114.53 1971.87,1120.17 1977.69,1125.82 1983.5,1131.48 1989.32,1137.16 1995.13,1142.84 \n",
       "  2000.95,1148.54 2006.76,1154.24 2012.58,1159.96 2018.39,1165.69 2024.21,1171.43 2030.02,1177.17 2035.84,1182.93 2041.65,1188.7 2047.47,1194.49 2053.28,1200.28 \n",
       "  2059.1,1206.08 2064.91,1211.89 2070.73,1217.72 2076.54,1223.55 2082.36,1229.4 2088.17,1235.25 2093.99,1241.12 2099.8,1246.99 2105.62,1252.88 2111.43,1258.78 \n",
       "  2117.25,1264.69 2123.06,1270.61 2128.88,1276.53 2134.69,1282.47 2140.51,1288.42 2146.32,1294.38 2152.14,1300.35 2157.95,1306.34 2163.77,1312.33 2169.58,1318.33 \n",
       "  2175.4,1324.34 2181.21,1330.36 2187.03,1336.39 2192.84,1342.44 2198.66,1348.49 2204.47,1354.55 2210.29,1360.63 2216.1,1366.71 2221.92,1372.8 2227.73,1378.91 \n",
       "  2233.55,1385.02 2239.36,1391.14 2245.18,1397.28 2250.99,1403.42 2256.81,1409.58 2262.62,1415.74 2268.44,1421.92 2274.25,1428.1 2280.07,1434.29 2285.88,1440.5 \n",
       "  2291.7,1446.71 \n",
       "  \"/>\n",
       "<polygon clip-path=\"url(#clip4600)\" points=\"\n",
       "1989.93,312.204 2280.76,312.204 2280.76,130.764 1989.93,130.764 \n",
       "  \" fill=\"#ffffff\" fill-rule=\"evenodd\" fill-opacity=\"1\"/>\n",
       "<polyline clip-path=\"url(#clip4600)\" style=\"stroke:#000000; stroke-width:4; stroke-opacity:1; fill:none\" points=\"\n",
       "  1989.93,312.204 2280.76,312.204 2280.76,130.764 1989.93,130.764 1989.93,312.204 \n",
       "  \"/>\n",
       "<polyline clip-path=\"url(#clip4600)\" style=\"stroke:#009af9; stroke-width:4; stroke-opacity:1; fill:none\" points=\"\n",
       "  2013.93,191.244 2157.93,191.244 \n",
       "  \"/>\n",
       "<g clip-path=\"url(#clip4600)\">\n",
       "<text style=\"fill:#000000; fill-opacity:1; font-family:Arial,Helvetica Neue,Helvetica,sans-serif; font-size:48px; text-anchor:start;\" transform=\"rotate(0, 2181.93, 208.744)\" x=\"2181.93\" y=\"208.744\">y1</text>\n",
       "</g>\n",
       "<polyline clip-path=\"url(#clip4600)\" style=\"stroke:#e26f46; stroke-width:4; stroke-opacity:1; fill:none\" points=\"\n",
       "  2013.93,251.724 2157.93,251.724 \n",
       "  \"/>\n",
       "<g clip-path=\"url(#clip4600)\">\n",
       "<text style=\"fill:#000000; fill-opacity:1; font-family:Arial,Helvetica Neue,Helvetica,sans-serif; font-size:48px; text-anchor:start;\" transform=\"rotate(0, 2181.93, 269.224)\" x=\"2181.93\" y=\"269.224\">y2</text>\n",
       "</g>\n",
       "</svg>\n"
      ]
     },
     "execution_count": 100,
     "metadata": {},
     "output_type": "execute_result"
    }
   ],
   "source": [
    "s = -5:.1:30\n",
    "y1 = [log10.(eigvals(lanczos(x))[10]) for x in s]\n",
    "y2 = [log10.(eigvals(lanczos(x))[9]) for x in s]\n",
    "y3 = [log10.(eigvals(lanczos(x))[9]) for x in s]\n",
    "plot(s,[y1 y2 ])"
   ]
  },
  {
   "cell_type": "code",
   "execution_count": null,
   "metadata": {},
   "outputs": [],
   "source": []
  }
 ],
 "metadata": {
  "@webio": {
   "lastCommId": "5eca0b320cd344cb8be217ad10deda26",
   "lastKernelId": "acfb7b4c-e76a-4d4e-8267-1414560ce683"
  },
  "kernelspec": {
   "display_name": "Julia 1.2.0",
   "language": "julia",
   "name": "julia-1.2"
  },
  "language_info": {
   "file_extension": ".jl",
   "mimetype": "application/julia",
   "name": "julia",
   "version": "1.2.0"
  }
 },
 "nbformat": 4,
 "nbformat_minor": 2
}
