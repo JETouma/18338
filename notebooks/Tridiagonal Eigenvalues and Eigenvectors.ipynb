{
 "cells": [
  {
   "cell_type": "code",
   "execution_count": 2,
   "metadata": {},
   "outputs": [],
   "source": [
    "using LinearAlgebra"
   ]
  },
  {
   "cell_type": "code",
   "execution_count": 89,
   "metadata": {},
   "outputs": [
    {
     "data": {
      "text/plain": [
       "7×7 SymTridiagonal{Float64,Array{Float64,1}}:\n",
       " 1.79421   1.49066    ⋅         ⋅          ⋅           ⋅           ⋅      \n",
       " 1.49066  -1.51228  -1.23491    ⋅          ⋅           ⋅           ⋅      \n",
       "  ⋅       -1.23491  -1.48678  -2.52765     ⋅           ⋅           ⋅      \n",
       "  ⋅         ⋅       -2.52765  -1.22693    0.807929     ⋅           ⋅      \n",
       "  ⋅         ⋅         ⋅        0.807929   0.646758   -0.0246671    ⋅      \n",
       "  ⋅         ⋅         ⋅         ⋅        -0.0246671  -0.460919   -0.180627\n",
       "  ⋅         ⋅         ⋅         ⋅          ⋅         -0.180627    0.850776"
      ]
     },
     "execution_count": 89,
     "metadata": {},
     "output_type": "execute_result"
    }
   ],
   "source": [
    "n = 7\n",
    "T = SymTridiagonal(randn(n),randn(n-1))"
   ]
  },
  {
   "cell_type": "code",
   "execution_count": 90,
   "metadata": {},
   "outputs": [
    {
     "data": {
      "text/plain": [
       "p (generic function with 1 method)"
      ]
     },
     "execution_count": 90,
     "metadata": {},
     "output_type": "execute_result"
    }
   ],
   "source": [
    "p(k,x) = det(x*I-T[1:k,1:k])/prod(T.ev[1:k])"
   ]
  },
  {
   "cell_type": "code",
   "execution_count": 91,
   "metadata": {},
   "outputs": [
    {
     "data": {
      "text/plain": [
       "v (generic function with 1 method)"
      ]
     },
     "execution_count": 91,
     "metadata": {},
     "output_type": "execute_result"
    }
   ],
   "source": [
    "v(x) = [p(k,x) for k=0:n-1]"
   ]
  },
  {
   "cell_type": "code",
   "execution_count": 92,
   "metadata": {},
   "outputs": [
    {
     "data": {
      "text/plain": [
       "7-element Array{Float64,1}:\n",
       "     1.0               \n",
       "     0.1380504004721302\n",
       "     0.8144565384092778\n",
       "    -1.1909547866810781\n",
       "    -2.208687789673157 \n",
       "    82.1612939432976   \n",
       " -1119.0896156158901   "
      ]
     },
     "execution_count": 92,
     "metadata": {},
     "output_type": "execute_result"
    }
   ],
   "source": [
    "v(2)"
   ]
  },
  {
   "cell_type": "code",
   "execution_count": 93,
   "metadata": {},
   "outputs": [
    {
     "data": {
      "text/plain": [
       "7-element Array{Float64,1}:\n",
       "   1.1102230246251565e-16\n",
       "   6.661338147750939e-16 \n",
       "   4.440892098500626e-16 \n",
       "  -9.020562075079397e-17 \n",
       "  -7.105427357601002e-15 \n",
       "   0.0                   \n",
       " 703.9930315434331       "
      ]
     },
     "execution_count": 93,
     "metadata": {},
     "output_type": "execute_result"
    }
   ],
   "source": [
    "x = randn()\n",
    "T * v(x) - x * v(x)"
   ]
  },
  {
   "cell_type": "code",
   "execution_count": 94,
   "metadata": {},
   "outputs": [
    {
     "data": {
      "text/plain": [
       "703.9930315434333"
      ]
     },
     "execution_count": 94,
     "metadata": {},
     "output_type": "execute_result"
    }
   ],
   "source": [
    "-(-1)^n * det(T -x*I   )/prod(T.ev)"
   ]
  },
  {
   "cell_type": "code",
   "execution_count": null,
   "metadata": {},
   "outputs": [],
   "source": []
  },
  {
   "cell_type": "code",
   "execution_count": null,
   "metadata": {},
   "outputs": [],
   "source": []
  }
 ],
 "metadata": {
  "@webio": {
   "lastCommId": null,
   "lastKernelId": null
  },
  "kernelspec": {
   "display_name": "Julia 1.2.0",
   "language": "julia",
   "name": "julia-1.2"
  },
  "language_info": {
   "file_extension": ".jl",
   "mimetype": "application/julia",
   "name": "julia",
   "version": "1.2.0"
  }
 },
 "nbformat": 4,
 "nbformat_minor": 2
}
