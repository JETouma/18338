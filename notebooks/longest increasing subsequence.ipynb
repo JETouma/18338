{
 "cells": [
  {
   "cell_type": "code",
   "execution_count": 135,
   "metadata": {},
   "outputs": [],
   "source": [
    "using LinearAlgebra, Combinatorics, StatsBase"
   ]
  },
  {
   "cell_type": "code",
   "execution_count": 153,
   "metadata": {},
   "outputs": [
    {
     "data": {
      "text/plain": [
       "lis_mc (generic function with 2 methods)"
      ]
     },
     "execution_count": 153,
     "metadata": {},
     "output_type": "execute_result"
    }
   ],
   "source": [
    "function lis_mc(k,t=100_000)\n",
    "# k is the permutation size\n",
    " c = zeros(k)\n",
    " v = zeros(t)\n",
    " for j=1:k\n",
    "   for i=1:t\n",
    "    U, = qr(randn(j,j)+im*randn(j,j)) # random jxj unitary matrix with Haar measure\n",
    "    U *= Diagonal([exp(2*π*im*rand()) for i = 1:j])\n",
    "    v[i]= (abs(tr(U)))^(2k)\n",
    "   end\n",
    " c[j]=sum(v)/length(v) \n",
    " end\n",
    " return c\n",
    "end"
   ]
  },
  {
   "cell_type": "code",
   "execution_count": 128,
   "metadata": {},
   "outputs": [
    {
     "data": {
      "text/plain": [
       "patiencesort (generic function with 1 method)"
      ]
     },
     "execution_count": 128,
     "metadata": {},
     "output_type": "execute_result"
    }
   ],
   "source": [
    "function patiencesort(p)\n",
    "    # p : Permutation\n",
    "    # Returns length of longest increasing subsequence\n",
    "    pile_tops = Int[]\n",
    "    for α ∈ p       \n",
    "        whichpile = 1+sum(α.>pile_tops) # first pile where α is smaller\n",
    "        if  whichpile ≤ length(pile_tops)\n",
    "            pile_tops[whichpile] = α   # put α on top of a pile  or ..\n",
    "        else\n",
    "            push!(pile_tops, α)        # create a new pile\n",
    "        end\n",
    "    end\n",
    "    return length(pile_tops)\n",
    "end"
   ]
  },
  {
   "cell_type": "code",
   "execution_count": 168,
   "metadata": {},
   "outputs": [
    {
     "data": {
      "text/plain": [
       "lis_theory (generic function with 1 method)"
      ]
     },
     "execution_count": 168,
     "metadata": {},
     "output_type": "execute_result"
    }
   ],
   "source": [
    "function lis_theory(k)\n",
    "    # exactly counts permutations with lis ≤ j for j=1,2,...,k\n",
    "    lis = [patiencesort(π) for π ∈ permutations(1:k)]\n",
    "    [sum(lis.≤j) for j=1:k]\n",
    "end"
   ]
  },
  {
   "cell_type": "code",
   "execution_count": 160,
   "metadata": {},
   "outputs": [
    {
     "data": {
      "text/plain": [
       "3×2 Array{Float64,2}:\n",
       " 1.0      1.0\n",
       " 4.96271  5.0\n",
       " 6.0351   6.0"
      ]
     },
     "execution_count": 160,
     "metadata": {},
     "output_type": "execute_result"
    }
   ],
   "source": [
    "[ lis_mc(3) lis_theory(3)]"
   ]
  },
  {
   "cell_type": "code",
   "execution_count": 162,
   "metadata": {},
   "outputs": [
    {
     "data": {
      "text/plain": [
       "4×2 Array{Float64,2}:\n",
       "  1.0      1.0\n",
       " 13.9712  14.0\n",
       " 22.9554  23.0\n",
       " 24.3682  24.0"
      ]
     },
     "execution_count": 162,
     "metadata": {},
     "output_type": "execute_result"
    }
   ],
   "source": [
    "[ lis_mc(4,1000000) lis_theory(4)]"
   ]
  },
  {
   "cell_type": "code",
   "execution_count": 169,
   "metadata": {},
   "outputs": [
    {
     "data": {
      "text/plain": [
       "5×2 Array{Float64,2}:\n",
       "   1.0       1.0\n",
       "  41.8781   42.0\n",
       " 103.345   103.0\n",
       " 119.422   119.0\n",
       " 120.043   120.0"
      ]
     },
     "execution_count": 169,
     "metadata": {},
     "output_type": "execute_result"
    }
   ],
   "source": [
    "[ lis_mc(5,1_000_000) lis_theory(5)]"
   ]
  },
  {
   "cell_type": "code",
   "execution_count": null,
   "metadata": {},
   "outputs": [],
   "source": []
  }
 ],
 "metadata": {
  "kernelspec": {
   "display_name": "Julia 1.5.2",
   "language": "julia",
   "name": "julia-1.5"
  },
  "language_info": {
   "file_extension": ".jl",
   "mimetype": "application/julia",
   "name": "julia",
   "version": "1.5.2"
  }
 },
 "nbformat": 4,
 "nbformat_minor": 4
}
