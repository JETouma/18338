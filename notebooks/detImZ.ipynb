{
 "cells": [
  {
   "cell_type": "code",
   "execution_count": 1,
   "metadata": {},
   "outputs": [],
   "source": [
    "using SymPy, LinearAlgebra"
   ]
  },
  {
   "cell_type": "code",
   "execution_count": 10,
   "metadata": {},
   "outputs": [
    {
     "data": {
      "text/latex": [
       "\\[\\left[ \\begin{array}{rrr}M_{11} z + 1&M_{12} z&M_{13} z\\\\M_{21} z&M_{22} z + 1&M_{23} z\\\\M_{31} z&M_{32} z&M_{33} z + 1\\end{array}\\right]\\]"
      ],
      "text/plain": [
       "3×3 Array{Sym,2}:\n",
       " M_11*z + 1      M_12*z      M_13*z\n",
       "     M_21*z  M_22*z + 1      M_23*z\n",
       "     M_31*z      M_32*z  M_33*z + 1"
      ]
     },
     "execution_count": 10,
     "metadata": {},
     "output_type": "execute_result"
    }
   ],
   "source": [
    "n = 3\n",
    "z = symbols(\"z\")\n",
    "A = z.*[ symbols(\"M_$i$j\",real=true) for i=1:n, j=1:n]\n",
    "for i=1:n\n",
    "    A[i,i] += 1\n",
    "end\n",
    "A\n"
   ]
  },
  {
   "cell_type": "code",
   "execution_count": 11,
   "metadata": {},
   "outputs": [
    {
     "data": {
      "text/latex": [
       "\\begin{equation*}M_{11} M_{22} M_{33} z^{3} + M_{11} M_{22} z^{2} - M_{11} M_{23} M_{32} z^{3} + M_{11} M_{33} z^{2} + M_{11} z - M_{12} M_{21} M_{33} z^{3} - M_{12} M_{21} z^{2} + M_{12} M_{23} M_{31} z^{3} + M_{13} M_{21} M_{32} z^{3} - M_{13} M_{22} M_{31} z^{3} - M_{13} M_{31} z^{2} + M_{22} M_{33} z^{2} + M_{22} z - M_{23} M_{32} z^{2} + M_{33} z + 1\\end{equation*}"
      ],
      "text/plain": [
       "             3            2                3            2                     \n",
       "M₁₁⋅M₂₂⋅M₃₃⋅z  + M₁₁⋅M₂₂⋅z  - M₁₁⋅M₂₃⋅M₃₂⋅z  + M₁₁⋅M₃₃⋅z  + M₁₁⋅z - M₁₂⋅M₂₁⋅M₃\n",
       "\n",
       "   3            2                3                3                3          \n",
       "₃⋅z  - M₁₂⋅M₂₁⋅z  + M₁₂⋅M₂₃⋅M₃₁⋅z  + M₁₃⋅M₂₁⋅M₃₂⋅z  - M₁₃⋅M₂₂⋅M₃₁⋅z  - M₁₃⋅M₃₁\n",
       "\n",
       "  2            2                    2            \n",
       "⋅z  + M₂₂⋅M₃₃⋅z  + M₂₂⋅z - M₂₃⋅M₃₂⋅z  + M₃₃⋅z + 1"
      ]
     },
     "execution_count": 11,
     "metadata": {},
     "output_type": "execute_result"
    }
   ],
   "source": [
    "expand(det(A))"
   ]
  },
  {
   "cell_type": "code",
   "execution_count": null,
   "metadata": {},
   "outputs": [],
   "source": []
  }
 ],
 "metadata": {
  "@webio": {
   "lastCommId": null,
   "lastKernelId": null
  },
  "kernelspec": {
   "display_name": "Julia 1.2.0",
   "language": "julia",
   "name": "julia-1.2"
  },
  "language_info": {
   "file_extension": ".jl",
   "mimetype": "application/julia",
   "name": "julia",
   "version": "1.2.0"
  }
 },
 "nbformat": 4,
 "nbformat_minor": 2
}
