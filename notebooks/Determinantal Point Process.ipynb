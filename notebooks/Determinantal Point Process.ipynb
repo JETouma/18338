{
 "cells": [
  {
   "cell_type": "markdown",
   "metadata": {},
   "source": [
    "A Projection Process"
   ]
  },
  {
   "cell_type": "code",
   "execution_count": 12,
   "metadata": {},
   "outputs": [],
   "source": [
    "using LinearAlgebra, Combinatorics"
   ]
  },
  {
   "cell_type": "code",
   "execution_count": 46,
   "metadata": {},
   "outputs": [
    {
     "data": {
      "text/plain": [
       "8×8 Array{Float64,2}:\n",
       "  0.608256    -0.168017    …   0.408797    0.00443619  -0.0586239\n",
       " -0.168017     0.53417         0.0727421  -0.395455    -0.0799084\n",
       " -0.186304     0.00807305      0.0862751   0.152931     0.228498 \n",
       "  0.0648907   -0.168151       -0.116274   -0.199687    -0.022205 \n",
       " -0.023645    -0.155569       -0.166358   -0.07399      0.261516 \n",
       "  0.408797     0.0727421   …   0.492017   -0.0822773    0.148734 \n",
       "  0.00443619  -0.395455       -0.0822773   0.586722    -0.102803 \n",
       " -0.0586239   -0.0799084       0.148734   -0.102803     0.793926 "
      ]
     },
     "execution_count": 46,
     "metadata": {},
     "output_type": "execute_result"
    }
   ],
   "source": [
    "n,p = 8,5\n",
    "Y,_ = qr(randn(n,p))\n",
    "Y = Matrix(Y)\n",
    "K = Y*Y'"
   ]
  },
  {
   "cell_type": "markdown",
   "metadata": {},
   "source": [
    "## This is a probability space\n",
    "\n",
    "specifically P(𝓘) = det(K[𝓘,𝓘]) is thought of as the probability of 𝓘 "
   ]
  },
  {
   "cell_type": "code",
   "execution_count": 51,
   "metadata": {},
   "outputs": [
    {
     "data": {
      "text/plain": [
       "0.9999999999999992"
      ]
     },
     "execution_count": 51,
     "metadata": {},
     "output_type": "execute_result"
    }
   ],
   "source": [
    "sum(det(K[𝓘,𝓘]) for 𝓘 ∈ combinations(1:n,p) )"
   ]
  },
  {
   "cell_type": "markdown",
   "metadata": {},
   "source": [
    "## if you take sizes smaller than p you need to correct with binomial(p,j)"
   ]
  },
  {
   "cell_type": "code",
   "execution_count": 52,
   "metadata": {},
   "outputs": [
    {
     "data": {
      "text/plain": [
       "6×2 Array{Float64,2}:\n",
       "  1.0   1.0\n",
       "  5.0   5.0\n",
       " 10.0  10.0\n",
       " 10.0  10.0\n",
       "  5.0   5.0\n",
       "  1.0   1.0"
      ]
     },
     "execution_count": 52,
     "metadata": {},
     "output_type": "execute_result"
    }
   ],
   "source": [
    "[[sum(det(K[𝓘,𝓘]) for 𝓘 ∈ combinations(1:n,j) ) for j=0:p] [binomial(p,j) for j=0:p]]"
   ]
  }
 ],
 "metadata": {
  "kernelspec": {
   "display_name": "Julia 1.2.0",
   "language": "julia",
   "name": "julia-1.2"
  },
  "language_info": {
   "file_extension": ".jl",
   "mimetype": "application/julia",
   "name": "julia",
   "version": "1.2.0"
  }
 },
 "nbformat": 4,
 "nbformat_minor": 2
}
