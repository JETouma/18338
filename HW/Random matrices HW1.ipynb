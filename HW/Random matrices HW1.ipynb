{
 "cells": [
  {
   "cell_type": "markdown",
   "metadata": {},
   "source": [
    "# Random matrices: homework 1 due September 11, 2019\n",
    "# Setember 4, 2019 Try to do Exercise 1, Problem 1 only for now.  More hints coming for the other parts."
   ]
  },
  {
   "cell_type": "markdown",
   "metadata": {},
   "source": [
    "Submit this notebook via Gradescope; instructions to follow."
   ]
  },
  {
   "cell_type": "markdown",
   "metadata": {},
   "source": [
    "#### Exercise 1 (Set-up)\n",
    "\n",
    "1. Follow the detailed instructions [here](https://github.com/mitmath/julia-mit) to:\n",
    "\n",
    "  - Download the current stable version (1.2) of Julia for your machine from [here](https://julialang.org/downloads) and install it. \n",
    "\n",
    "  - Run the Julia executable.    \n",
    "    \n",
    "  - Install the IJulia package that provides an interface to the Jupyter notebook.\n",
    "    \n",
    "  - Run IJulia by typing `using IJulia; notebook()` at the Julia prompt.\n",
    "    \n",
    "2a. (If you know about github or want to learn go to 2b).  You can download the hw easily\n",
    "from [here](https://nbviewer.jupyter.org/github/mitmath/18338/blob/master/HW/Random%20matrices%20HW1.ipynb) by\n",
    "right clicking on the icon on the upper right and do \"save link as\" or equivalent.\n",
    "\n",
    "2b. Alternatively -- -Clone a copy of this repository to your machine using `git clone https://github.com/mitmath/18338.git` from a terminal, or alternatively using a visual git client like GitKraken. \n",
    "\n",
    " \n",
    "\n",
    "\n",
    "3. Open the homework 1 notebook. Make a copy of the notebook using `File->Make a copy` from the `File` menu. Change the name of the copy to add your name.\n",
    "\n"
   ]
  },
  {
   "cell_type": "markdown",
   "metadata": {},
   "source": [
    "#### Exercise 2 (Distributions)"
   ]
  },
  {
   "cell_type": "markdown",
   "metadata": {},
   "source": [
    "1. Follow the instructions [here](https://juliastats.github.io/Distributions.jl/stable/starting/) to create a standard normal distribution object and sample from it using the `Distributions.jl` package.\n",
    "\n",
    "\n",
    "2. Use the `histogram` command from the `Plots.jl` package to draw a histogram of the result, using the `normalize=true` keyword argument to normalize the result to area 1.\n",
    "You can fix the number of histogram bins with the `bins=` keyword argument.\n",
    "\n",
    "\n",
    "3. Use the `plot!` command to draw the exact PDF of the distribution on top.\n",
    "\n",
    "\n",
    "4. Use the function `pdf` from the `Distributions.jl` package to do the same, without needing to explicitly type the formula for the PDF.\n",
    "\n",
    "\n",
    "5. Use the `@manipulate` command from the `Interact.jl` package to interactively change the number of samples used for the histogram.  (unfortunately @manipulate may be flaky, don't sweat it)\n",
    "\n",
    "\n",
    "6. Repeat the above steps for the chi distribution with \"2.8 degrees of freedom\". How could you generalize this for any distribution?"
   ]
  },
  {
   "cell_type": "code",
   "execution_count": null,
   "metadata": {},
   "outputs": [],
   "source": []
  },
  {
   "cell_type": "markdown",
   "metadata": {},
   "source": [
    "#### Exercise 3 (Eigenvalues of symmetric random matrices; the semicircle law)"
   ]
  },
  {
   "cell_type": "markdown",
   "metadata": {},
   "source": [
    "1. Generate a random gaussian matrix of size $n \\times n$.\n",
    "\n",
    "\n",
    "2. Symmetrize the matrix using the transpose operator ```, and then create a version of type `Symmetric`.\n",
    "\n",
    "\n",
    "3. Use `eigvals` from the `LinearAlgebra` standard library to calculate the eigenvalues of the matrix.  (NB: Standard libraries do *not* need to be installed; they come together with the Julia installation.)\n",
    "\n",
    "\n",
    "4. Plot the eigenvalues. Repeat the above several times, plotting all curves on top of one another.\n",
    "\n",
    "\n",
    "5. Use e.g. `append!` to combine the results from many runs into a single data vecxtor. Histogram the data you have collected, and compare it to the exact result (semicircle law).\n",
    "\n",
    "\n",
    "6. Make an interactive visualization in which you can vary the number of trials and size of matrices. Comment on the results."
   ]
  },
  {
   "cell_type": "code",
   "execution_count": null,
   "metadata": {},
   "outputs": [],
   "source": []
  },
  {
   "cell_type": "markdown",
   "metadata": {},
   "source": [
    "#### Exercise 4 (Singular values)"
   ]
  },
  {
   "cell_type": "markdown",
   "metadata": {},
   "source": [
    "1. Follow a similar approach as in exercise 3 to visualize the Marčenko-Pastur law on singular values of a rectangular matrix, using the `svdvals` function."
   ]
  },
  {
   "cell_type": "code",
   "execution_count": null,
   "metadata": {},
   "outputs": [],
   "source": []
  },
  {
   "cell_type": "markdown",
   "metadata": {},
   "source": [
    "#### Exercise 5 (Generalized singular values)\n"
   ]
  },
  {
   "cell_type": "markdown",
   "metadata": {},
   "source": [
    "1. Follow a similar approach as in exercise 3 to visualize the Wachter law on the generalized singular values of a matrix, using the `svdvals(A, B)` method."
   ]
  },
  {
   "cell_type": "code",
   "execution_count": null,
   "metadata": {},
   "outputs": [],
   "source": []
  },
  {
   "cell_type": "markdown",
   "metadata": {},
   "source": [
    "#### Exercise 6 (Parallel computing)"
   ]
  },
  {
   "cell_type": "markdown",
   "metadata": {},
   "source": [
    "In this exercise we will parallelize a random matrix calculation in a simple way.\n",
    "\n",
    "\n",
    "1. Install the `DistributedArrays.jl` package. \n",
    "\n",
    "\n",
    "2. Load the `Distributed.jl` stdlib package. Use the `addprocs` function to add 2 processes (assuming that you have a multicore machine).\n",
    "\n",
    "\n",
    "3. Create a `DArray` (\"distributed array\") `d`, e.g. using the array comprehension syntax `d = @DArray [i for i in 1:2]`.\n",
    "\n",
    "\n",
    "4. Define a function `f` that will run the simulation from exercise 3 and returns a data vector of data.  *Broadcast* this function over the `d` using the syntax `f.(d)`.\n",
    "This should return a new `DArray`.\n",
    "\n",
    "\n",
    "5. Broadcast `fit(Histogram, v)` from the `StatsBase` package over this result. This should give another `DArray`; call it `hists`.\n",
    "\n",
    "\n",
    "6. Use the `reduce(merge, hists)` function to combine the two histograms into one.\n",
    "\n",
    "\n",
    "7. Compare the total time taken for this parallel version to a serial version."
   ]
  },
  {
   "cell_type": "code",
   "execution_count": null,
   "metadata": {},
   "outputs": [],
   "source": []
  }
 ],
 "metadata": {
  "kernelspec": {
   "display_name": "Julia 1.2.0",
   "language": "julia",
   "name": "julia-1.2"
  },
  "language_info": {
   "file_extension": ".jl",
   "mimetype": "application/julia",
   "name": "julia",
   "version": "1.2.0"
  }
 },
 "nbformat": 4,
 "nbformat_minor": 2
}
